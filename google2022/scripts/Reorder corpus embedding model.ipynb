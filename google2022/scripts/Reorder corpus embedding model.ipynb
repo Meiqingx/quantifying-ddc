{
 "cells": [
  {
   "cell_type": "code",
   "execution_count": 1,
   "id": "fed64017",
   "metadata": {},
   "outputs": [],
   "source": [
    "import os\n",
    "import numpy as np\n",
    "import pandas as pd\n",
    "import json\n",
    "import itertools\n",
    "import pickle\n",
    "import matplotlib.pyplot as plt\n",
    "import torch\n",
    "from sentence_transformers import SentenceTransformer, util"
   ]
  },
  {
   "cell_type": "markdown",
   "id": "4c8b8077",
   "metadata": {},
   "source": [
    "## Load data"
   ]
  },
  {
   "cell_type": "code",
   "execution_count": 30,
   "id": "96676209",
   "metadata": {},
   "outputs": [],
   "source": [
    "source_path = '/home/mzhang01/google_2022/produce_complete_data/05-assemble-final-results'"
   ]
  },
  {
   "cell_type": "code",
   "execution_count": 31,
   "id": "8bb3bd83",
   "metadata": {},
   "outputs": [
    {
     "name": "stderr",
     "output_type": "stream",
     "text": [
      "/tmp/ipykernel_31925/3750100965.py:2: DtypeWarning: Columns (3,5,6,7,8,9,10) have mixed types. Specify dtype option on import or set low_memory=False.\n",
      "  text = pd.read_csv(os.path.join(source_path, 'g2022_adid_01062021_11082022_text_v20240115.csv.gz'))\n"
     ]
    }
   ],
   "source": [
    "# var = pd.read_csv(os.path.join(source_path, 'g2022_adid_var.csv.gz'))\n",
    "text = pd.read_csv(os.path.join(source_path, 'g2022_adid_01062021_11082022_text_v20240115.csv.gz'))\n",
    "cid = pd.read_csv('~/google_2022/produce_complete_data/04-dedup-2nd-time/final_output/cid_google2022_v20231203.csv',)"
   ]
  },
  {
   "cell_type": "code",
   "execution_count": 32,
   "id": "cbdc2515",
   "metadata": {},
   "outputs": [],
   "source": [
    "df = cid.merge(text, on='ad_id', how='left').drop_duplicates()"
   ]
  },
  {
   "cell_type": "code",
   "execution_count": 33,
   "id": "358b8787",
   "metadata": {},
   "outputs": [
    {
     "data": {
      "text/plain": [
       "(233423, 14)"
      ]
     },
     "execution_count": 33,
     "metadata": {},
     "output_type": "execute_result"
    }
   ],
   "source": [
    "df.shape"
   ]
  },
  {
   "cell_type": "code",
   "execution_count": 5,
   "id": "5f129798",
   "metadata": {},
   "outputs": [
    {
     "data": {
      "text/plain": [
       "(64819, 1)"
      ]
     },
     "execution_count": 5,
     "metadata": {},
     "output_type": "execute_result"
    }
   ],
   "source": [
    "unique = df[['wmp_creative_id']].drop_duplicates(subset=['wmp_creative_id'], keep='last').reset_index(drop=True)\n",
    "unique.shape"
   ]
  },
  {
   "cell_type": "code",
   "execution_count": null,
   "id": "d71c1068",
   "metadata": {},
   "outputs": [],
   "source": [
    "unique.to_csv('input_data/unique_creative_id_index_mapping.csv', index=False)"
   ]
  },
  {
   "cell_type": "code",
   "execution_count": 26,
   "id": "40218f04",
   "metadata": {},
   "outputs": [],
   "source": [
    "'''\n",
    "Mapping between corpus embedding index and creative ID \n",
    "'''\n",
    "unique = pd.read_csv('../input_data/unique_creative_id_index_mapping.csv')"
   ]
  },
  {
   "cell_type": "code",
   "execution_count": 19,
   "id": "f511fca6",
   "metadata": {},
   "outputs": [
    {
     "data": {
      "text/html": [
       "<div>\n",
       "<style scoped>\n",
       "    .dataframe tbody tr th:only-of-type {\n",
       "        vertical-align: middle;\n",
       "    }\n",
       "\n",
       "    .dataframe tbody tr th {\n",
       "        vertical-align: top;\n",
       "    }\n",
       "\n",
       "    .dataframe thead th {\n",
       "        text-align: right;\n",
       "    }\n",
       "</style>\n",
       "<table border=\"1\" class=\"dataframe\">\n",
       "  <thead>\n",
       "    <tr style=\"text-align: right;\">\n",
       "      <th></th>\n",
       "      <th>index</th>\n",
       "      <th>wmp_creative_id</th>\n",
       "    </tr>\n",
       "  </thead>\n",
       "  <tbody>\n",
       "    <tr>\n",
       "      <th>0</th>\n",
       "      <td>0</td>\n",
       "      <td>cid_50901</td>\n",
       "    </tr>\n",
       "    <tr>\n",
       "      <th>1</th>\n",
       "      <td>1</td>\n",
       "      <td>cid_6292</td>\n",
       "    </tr>\n",
       "    <tr>\n",
       "      <th>2</th>\n",
       "      <td>2</td>\n",
       "      <td>cid_32185</td>\n",
       "    </tr>\n",
       "    <tr>\n",
       "      <th>3</th>\n",
       "      <td>3</td>\n",
       "      <td>cid_55443</td>\n",
       "    </tr>\n",
       "    <tr>\n",
       "      <th>4</th>\n",
       "      <td>4</td>\n",
       "      <td>cid_56643</td>\n",
       "    </tr>\n",
       "    <tr>\n",
       "      <th>...</th>\n",
       "      <td>...</td>\n",
       "      <td>...</td>\n",
       "    </tr>\n",
       "    <tr>\n",
       "      <th>64814</th>\n",
       "      <td>64814</td>\n",
       "      <td>cid_58672</td>\n",
       "    </tr>\n",
       "    <tr>\n",
       "      <th>64815</th>\n",
       "      <td>64815</td>\n",
       "      <td>cid_48088</td>\n",
       "    </tr>\n",
       "    <tr>\n",
       "      <th>64816</th>\n",
       "      <td>64816</td>\n",
       "      <td>cid_60619</td>\n",
       "    </tr>\n",
       "    <tr>\n",
       "      <th>64817</th>\n",
       "      <td>64817</td>\n",
       "      <td>cid_58673</td>\n",
       "    </tr>\n",
       "    <tr>\n",
       "      <th>64818</th>\n",
       "      <td>64818</td>\n",
       "      <td>cid_60617</td>\n",
       "    </tr>\n",
       "  </tbody>\n",
       "</table>\n",
       "<p>64819 rows × 2 columns</p>\n",
       "</div>"
      ],
      "text/plain": [
       "       index wmp_creative_id\n",
       "0          0       cid_50901\n",
       "1          1        cid_6292\n",
       "2          2       cid_32185\n",
       "3          3       cid_55443\n",
       "4          4       cid_56643\n",
       "...      ...             ...\n",
       "64814  64814       cid_58672\n",
       "64815  64815       cid_48088\n",
       "64816  64816       cid_60619\n",
       "64817  64817       cid_58673\n",
       "64818  64818       cid_60617\n",
       "\n",
       "[64819 rows x 2 columns]"
      ]
     },
     "execution_count": 19,
     "metadata": {},
     "output_type": "execute_result"
    }
   ],
   "source": [
    "unique"
   ]
  },
  {
   "cell_type": "markdown",
   "id": "a7d1bc0e",
   "metadata": {},
   "source": [
    "## Load original model  (Skip this section to load the reordered embeddings)"
   ]
  },
  {
   "cell_type": "code",
   "execution_count": 28,
   "id": "d8d45e32",
   "metadata": {},
   "outputs": [],
   "source": [
    "corpus_embeddings0 = torch.load('../model/corpus_embedding_google2022_unique_lite.pt', map_location=torch.device('cpu'))"
   ]
  },
  {
   "cell_type": "code",
   "execution_count": 29,
   "id": "92ca286a",
   "metadata": {},
   "outputs": [
    {
     "data": {
      "text/plain": [
       "torch.Size([64819, 384])"
      ]
     },
     "execution_count": 29,
     "metadata": {},
     "output_type": "execute_result"
    }
   ],
   "source": [
    "corpus_embeddings0.shape"
   ]
  },
  {
   "cell_type": "markdown",
   "id": "3728d0f5",
   "metadata": {},
   "source": [
    "## reorder corpus embedding indices to match cid ordering"
   ]
  },
  {
   "cell_type": "markdown",
   "id": "3a79902e",
   "metadata": {},
   "source": [
    "**This would make the pairwise similarity computation much faster**\n",
    "\n",
    "(Because pandas indexing is slow)"
   ]
  },
  {
   "cell_type": "code",
   "execution_count": 78,
   "id": "9dc327cb",
   "metadata": {},
   "outputs": [],
   "source": [
    "unique.loc[:, 'cid_index'] = unique.wmp_creative_id.apply(lambda x: int(x.lstrip('cid_')))"
   ]
  },
  {
   "cell_type": "code",
   "execution_count": 81,
   "id": "7799e279",
   "metadata": {},
   "outputs": [
    {
     "data": {
      "text/plain": [
       "64819"
      ]
     },
     "execution_count": 81,
     "metadata": {},
     "output_type": "execute_result"
    }
   ],
   "source": [
    "len(unique.cid_index.unique())"
   ]
  },
  {
   "cell_type": "code",
   "execution_count": 110,
   "id": "20adb8e2",
   "metadata": {},
   "outputs": [],
   "source": [
    "reordered = torch.zeros(corpus_embeddings.shape[0], corpus_embeddings.shape[1], dtype=corpus_embeddings.dtype)"
   ]
  },
  {
   "cell_type": "code",
   "execution_count": 89,
   "id": "e319545a",
   "metadata": {},
   "outputs": [],
   "source": [
    "assert reordered.shape == corpus_embeddings.shape"
   ]
  },
  {
   "cell_type": "code",
   "execution_count": 104,
   "id": "2529dd2b",
   "metadata": {},
   "outputs": [],
   "source": [
    "indices = unique.cid_index.tolist()\n",
    "\n",
    "indices = torch.tensor([indices for i in range(corpus_embeddings.shape[1])])"
   ]
  },
  {
   "cell_type": "code",
   "execution_count": 107,
   "id": "3a48d3c5",
   "metadata": {},
   "outputs": [],
   "source": [
    "indices = indices.T"
   ]
  },
  {
   "cell_type": "code",
   "execution_count": 108,
   "id": "1f6adf2f",
   "metadata": {},
   "outputs": [
    {
     "data": {
      "text/plain": [
       "tensor([[50901, 50901, 50901,  ..., 50901, 50901, 50901],\n",
       "        [ 6292,  6292,  6292,  ...,  6292,  6292,  6292],\n",
       "        [32185, 32185, 32185,  ..., 32185, 32185, 32185],\n",
       "        ...,\n",
       "        [60619, 60619, 60619,  ..., 60619, 60619, 60619],\n",
       "        [58673, 58673, 58673,  ..., 58673, 58673, 58673],\n",
       "        [60617, 60617, 60617,  ..., 60617, 60617, 60617]])"
      ]
     },
     "execution_count": 108,
     "metadata": {},
     "output_type": "execute_result"
    }
   ],
   "source": [
    "indices"
   ]
  },
  {
   "cell_type": "code",
   "execution_count": 109,
   "id": "93ee7e09",
   "metadata": {},
   "outputs": [
    {
     "data": {
      "text/plain": [
       "tensor([[0., 0., 0.,  ..., 0., 0., 0.],\n",
       "        [0., 0., 0.,  ..., 0., 0., 0.],\n",
       "        [0., 0., 0.,  ..., 0., 0., 0.],\n",
       "        ...,\n",
       "        [0., 0., 0.,  ..., 0., 0., 0.],\n",
       "        [0., 0., 0.,  ..., 0., 0., 0.],\n",
       "        [0., 0., 0.,  ..., 0., 0., 0.]])"
      ]
     },
     "execution_count": 109,
     "metadata": {},
     "output_type": "execute_result"
    }
   ],
   "source": [
    "reordered"
   ]
  },
  {
   "cell_type": "code",
   "execution_count": 111,
   "id": "3c44a773",
   "metadata": {},
   "outputs": [
    {
     "data": {
      "text/plain": [
       "tensor([[ 0.0367,  0.0925, -0.1194,  ..., -0.0847, -0.0159,  0.0512],\n",
       "        [ 0.0548,  0.0080,  0.0620,  ..., -0.1069, -0.0548, -0.0227],\n",
       "        [ 0.0307, -0.0286, -0.0491,  ..., -0.0400, -0.0628, -0.0395],\n",
       "        ...,\n",
       "        [-0.0643, -0.0282,  0.0453,  ...,  0.0062,  0.0168, -0.0307],\n",
       "        [ 0.0543, -0.0491,  0.0306,  ..., -0.0487, -0.1021,  0.0415],\n",
       "        [ 0.0526, -0.0733, -0.0400,  ..., -0.0593, -0.0263,  0.0241]])"
      ]
     },
     "execution_count": 111,
     "metadata": {},
     "output_type": "execute_result"
    }
   ],
   "source": [
    "reordered.scatter_(0, indices, corpus_embeddings)"
   ]
  },
  {
   "cell_type": "code",
   "execution_count": 113,
   "id": "a5c21d14",
   "metadata": {},
   "outputs": [],
   "source": [
    "'''\n",
    "Should load this model for google data analysis\n",
    "'''\n",
    "torch.save(reordered, 'model/corpus_embedding_google2022_unique_lite_reordered.pt') "
   ]
  },
  {
   "cell_type": "markdown",
   "id": "c499564d",
   "metadata": {},
   "source": [
    "## Import the reordered embeddings"
   ]
  },
  {
   "cell_type": "code",
   "execution_count": 4,
   "id": "d4e38b88",
   "metadata": {},
   "outputs": [],
   "source": [
    "# using the reordered tensors is much, much faster\n",
    "corpus_embeddings = torch.load('model/corpus_embedding_google2022_unique_lite_reordered.pt')"
   ]
  },
  {
   "cell_type": "markdown",
   "id": "c556e45c",
   "metadata": {},
   "source": [
    "#### test with cosine similarity calculations"
   ]
  },
  {
   "cell_type": "code",
   "execution_count": 27,
   "id": "4edd91ef",
   "metadata": {},
   "outputs": [
    {
     "data": {
      "text/plain": [
       "tensor([[0.1708]])"
      ]
     },
     "execution_count": 27,
     "metadata": {},
     "output_type": "execute_result"
    }
   ],
   "source": [
    "util.cos_sim(corpus_embeddings[0], corpus_embeddings[62750])"
   ]
  },
  {
   "cell_type": "code",
   "execution_count": 33,
   "id": "21d0644b",
   "metadata": {},
   "outputs": [
    {
     "data": {
      "text/html": [
       "<div>\n",
       "<style scoped>\n",
       "    .dataframe tbody tr th:only-of-type {\n",
       "        vertical-align: middle;\n",
       "    }\n",
       "\n",
       "    .dataframe tbody tr th {\n",
       "        vertical-align: top;\n",
       "    }\n",
       "\n",
       "    .dataframe thead th {\n",
       "        text-align: right;\n",
       "    }\n",
       "</style>\n",
       "<table border=\"1\" class=\"dataframe\">\n",
       "  <thead>\n",
       "    <tr style=\"text-align: right;\">\n",
       "      <th></th>\n",
       "      <th>index</th>\n",
       "      <th>wmp_creative_id</th>\n",
       "    </tr>\n",
       "  </thead>\n",
       "  <tbody>\n",
       "    <tr>\n",
       "      <th>44040</th>\n",
       "      <td>44040</td>\n",
       "      <td>cid_0</td>\n",
       "    </tr>\n",
       "    <tr>\n",
       "      <th>49492</th>\n",
       "      <td>49492</td>\n",
       "      <td>cid_62750</td>\n",
       "    </tr>\n",
       "  </tbody>\n",
       "</table>\n",
       "</div>"
      ],
      "text/plain": [
       "       index wmp_creative_id\n",
       "44040  44040           cid_0\n",
       "49492  49492       cid_62750"
      ]
     },
     "execution_count": 33,
     "metadata": {},
     "output_type": "execute_result"
    }
   ],
   "source": [
    "unique[unique.wmp_creative_id.isin(['cid_0', 'cid_62750'])]"
   ]
  },
  {
   "cell_type": "code",
   "execution_count": 34,
   "id": "ef4e2a29",
   "metadata": {},
   "outputs": [
    {
     "data": {
      "text/plain": [
       "tensor([[0.1708]])"
      ]
     },
     "execution_count": 34,
     "metadata": {},
     "output_type": "execute_result"
    }
   ],
   "source": [
    "# same as: \n",
    "util.cos_sim(corpus_embeddings0[44040], corpus_embeddings0[49492])"
   ]
  },
  {
   "cell_type": "code",
   "execution_count": 35,
   "id": "040ed231",
   "metadata": {},
   "outputs": [
    {
     "data": {
      "text/plain": [
       "torch.return_types.topk(\n",
       "values=tensor([1.0000, 0.6093, 0.5966, 0.5905, 0.5821, 0.5798, 0.5798, 0.5798, 0.5734,\n",
       "        0.5734]),\n",
       "indices=tensor([    0, 11081, 11093, 11096, 11094, 11018, 11079, 11034, 11089, 11047]))"
      ]
     },
     "execution_count": 35,
     "metadata": {},
     "output_type": "execute_result"
    }
   ],
   "source": [
    "torch.topk(util.cos_sim(corpus_embeddings[0], corpus_embeddings)[0], 10)"
   ]
  }
 ],
 "metadata": {
  "kernelspec": {
   "display_name": "Python 3 (ipykernel)",
   "language": "python",
   "name": "python3"
  },
  "language_info": {
   "codemirror_mode": {
    "name": "ipython",
    "version": 3
   },
   "file_extension": ".py",
   "mimetype": "text/x-python",
   "name": "python",
   "nbconvert_exporter": "python",
   "pygments_lexer": "ipython3",
   "version": "3.11.4"
  }
 },
 "nbformat": 4,
 "nbformat_minor": 5
}
