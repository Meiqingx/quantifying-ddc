{
 "cells": [
  {
   "cell_type": "code",
   "execution_count": 1,
   "id": "fed64017",
   "metadata": {},
   "outputs": [],
   "source": [
    "import os\n",
    "import numpy as np\n",
    "import pandas as pd\n",
    "import json\n",
    "import itertools\n",
    "import pickle\n",
    "import matplotlib.pyplot as plt\n",
    "import torch\n",
    "from sentence_transformers import SentenceTransformer, util"
   ]
  },
  {
   "cell_type": "markdown",
   "id": "4c8b8077",
   "metadata": {},
   "source": [
    "## Prepare data"
   ]
  },
  {
   "cell_type": "code",
   "execution_count": 2,
   "id": "96676209",
   "metadata": {},
   "outputs": [],
   "source": [
    "source_path = '/home/mzhang01/google_2022/produce_complete_data/05-assemble-final-results'"
   ]
  },
  {
   "cell_type": "code",
   "execution_count": 3,
   "id": "8bb3bd83",
   "metadata": {},
   "outputs": [],
   "source": [
    "'''\n",
    "Import the var table with sets info\n",
    "'''\n",
    "var = pd.read_csv(os.path.join(source_path, 'g2022_adid_var_sets_072024.csv.gz'))"
   ]
  },
  {
   "cell_type": "markdown",
   "id": "abbc321f",
   "metadata": {},
   "source": [
    "### Subset for general election period data\n",
    "Sept 2022 - Nov 2022"
   ]
  },
  {
   "cell_type": "code",
   "execution_count": 4,
   "id": "8f31070b",
   "metadata": {
    "scrolled": true
   },
   "outputs": [],
   "source": [
    "condition = (var.date_range_end >= '2022-09-01') & (var.date_range_start <= '2022-11-30')\n",
    "'''\n",
    "Second condition is not necessary: resulting dataframe shapes are the same.\n",
    "'''\n",
    "\n",
    "var = var[condition]"
   ]
  },
  {
   "cell_type": "code",
   "execution_count": 5,
   "id": "cbe3d527",
   "metadata": {},
   "outputs": [
    {
     "data": {
      "text/plain": [
       "(86140, 75)"
      ]
     },
     "execution_count": 5,
     "metadata": {},
     "output_type": "execute_result"
    }
   ],
   "source": [
    "var.shape"
   ]
  },
  {
   "cell_type": "markdown",
   "id": "6bcd301b",
   "metadata": {},
   "source": [
    "### Filter for set 3 and select only the confirmed Senate/House races"
   ]
  },
  {
   "cell_type": "code",
   "execution_count": 6,
   "id": "92f6d2bc",
   "metadata": {},
   "outputs": [],
   "source": [
    "'''\n",
    "Set 3\n",
    "'''\n",
    "var = var.loc[var.set3 == 1]"
   ]
  },
  {
   "cell_type": "code",
   "execution_count": 7,
   "id": "7312c89f",
   "metadata": {},
   "outputs": [
    {
     "data": {
      "text/plain": [
       "(33838, 75)"
      ]
     },
     "execution_count": 7,
     "metadata": {},
     "output_type": "execute_result"
    }
   ],
   "source": [
    "var.shape"
   ]
  },
  {
   "cell_type": "code",
   "execution_count": 8,
   "id": "8d8a8aca",
   "metadata": {
    "scrolled": true
   },
   "outputs": [
    {
     "data": {
      "text/plain": [
       "array(['3.1', '3.2.2.3', '1'], dtype=object)"
      ]
     },
     "execution_count": 8,
     "metadata": {},
     "output_type": "execute_result"
    }
   ],
   "source": [
    "var[~var.race_of_focus.isin(['No race of focus', 'Downballot'])].sub_bucket.unique()"
   ]
  },
  {
   "cell_type": "code",
   "execution_count": 9,
   "id": "e07e4cb7",
   "metadata": {},
   "outputs": [
    {
     "data": {
      "text/plain": [
       "array(['3.1', '3.3', '3.2.2.3', '2', '1'], dtype=object)"
      ]
     },
     "execution_count": 9,
     "metadata": {},
     "output_type": "execute_result"
    }
   ],
   "source": [
    "var.sub_bucket.unique()"
   ]
  },
  {
   "cell_type": "code",
   "execution_count": 10,
   "id": "38acb6d7",
   "metadata": {},
   "outputs": [],
   "source": [
    "'''\n",
    "Only house/senate races \n",
    "'''\n",
    "# condition2 = var.wmp_spontype.isin(['campaign', 'group', 'party', 'party national']) & ((var.wmp_sen == 1) | (var.wmp_hse == 1))\n",
    "# condition2 =  (var.wmp_sen == 1) | (var.wmp_hse == 1) | (var.wmp_office == 'us senate') | (var.wmp_office == 'us house')\n",
    "condition2 = (var.wmp_sen == 1) | (var.wmp_hse == 1) | (var.wmp_office == 'us senate') | (var.wmp_office == 'us house') | (~var.race_of_focus.isin(['No race of focus', 'Downballot']))"
   ]
  },
  {
   "cell_type": "code",
   "execution_count": 11,
   "id": "4ecf4615",
   "metadata": {},
   "outputs": [],
   "source": [
    "var = var[condition2]"
   ]
  },
  {
   "cell_type": "code",
   "execution_count": 237,
   "id": "a144ea49",
   "metadata": {},
   "outputs": [
    {
     "data": {
      "text/plain": [
       "(28030, 75)"
      ]
     },
     "execution_count": 237,
     "metadata": {},
     "output_type": "execute_result"
    }
   ],
   "source": [
    "var.shape"
   ]
  },
  {
   "cell_type": "code",
   "execution_count": 12,
   "id": "b2771018",
   "metadata": {},
   "outputs": [
    {
     "data": {
      "text/plain": [
       "wmp_spontype\n",
       "campaign                     14050\n",
       "government agency               77\n",
       "government official            105\n",
       "group                         8570\n",
       "party                          496\n",
       "party national                1558\n",
       "unclear could be campaign      329\n",
       "dtype: int64"
      ]
     },
     "execution_count": 12,
     "metadata": {},
     "output_type": "execute_result"
    }
   ],
   "source": [
    "var.groupby(['wmp_spontype']).size()"
   ]
  },
  {
   "cell_type": "markdown",
   "id": "4467839c",
   "metadata": {},
   "source": [
    "### Import text and ad-cid mapping tables"
   ]
  },
  {
   "cell_type": "code",
   "execution_count": 13,
   "id": "9f505f20",
   "metadata": {},
   "outputs": [],
   "source": [
    "'''\n",
    "Import \"text\" table to get \"ad_type\"\n",
    "\n",
    "'''\n",
    "text = pd.read_csv(os.path.join(source_path, 'g2022_adid_01062021_11082022_text_v20240115.csv.gz'),\n",
    "                   usecols=['ad_id', 'ad_type', 'advertiser_name'])"
   ]
  },
  {
   "cell_type": "code",
   "execution_count": 14,
   "id": "bfc94fa2",
   "metadata": {},
   "outputs": [],
   "source": [
    "'''\n",
    "Merge with text fields\n",
    "'''\n",
    "var = var.merge(text, how='left', on='ad_id').drop_duplicates()"
   ]
  },
  {
   "cell_type": "code",
   "execution_count": 15,
   "id": "00166d85",
   "metadata": {},
   "outputs": [
    {
     "data": {
      "text/plain": [
       "(28131, 77)"
      ]
     },
     "execution_count": 15,
     "metadata": {},
     "output_type": "execute_result"
    }
   ],
   "source": [
    "var.shape"
   ]
  },
  {
   "cell_type": "code",
   "execution_count": 16,
   "id": "460dfdc1",
   "metadata": {},
   "outputs": [],
   "source": [
    "'''\n",
    "Import \"cid\" to \"ad_id\" mapping\n",
    "'''\n",
    "cid_table_path = '../../../google_2022/produce_complete_data/04-dedup-2nd-time/final_output/cid_google2022_v20231203.csv'\n",
    "cid = pd.read_csv(cid_table_path)"
   ]
  },
  {
   "cell_type": "code",
   "execution_count": 17,
   "id": "32b9a340",
   "metadata": {},
   "outputs": [],
   "source": [
    "'''\n",
    "Merge with cids\n",
    "'''\n",
    "var = var.merge(cid, how='left', on='ad_id').drop_duplicates()"
   ]
  },
  {
   "cell_type": "code",
   "execution_count": 18,
   "id": "840a75c3",
   "metadata": {},
   "outputs": [
    {
     "data": {
      "text/plain": [
       "64819"
      ]
     },
     "execution_count": 18,
     "metadata": {},
     "output_type": "execute_result"
    }
   ],
   "source": [
    "len(cid.wmp_creative_id.unique())"
   ]
  },
  {
   "cell_type": "code",
   "execution_count": 19,
   "id": "a1b4814d",
   "metadata": {},
   "outputs": [
    {
     "data": {
      "text/plain": [
       "(30296, 78)"
      ]
     },
     "execution_count": 19,
     "metadata": {},
     "output_type": "execute_result"
    }
   ],
   "source": [
    "var.shape"
   ]
  },
  {
   "cell_type": "code",
   "execution_count": 20,
   "id": "5f0a3a45",
   "metadata": {},
   "outputs": [
    {
     "data": {
      "text/plain": [
       "10602"
      ]
     },
     "execution_count": 20,
     "metadata": {},
     "output_type": "execute_result"
    }
   ],
   "source": [
    "len(var.wmp_creative_id.unique())"
   ]
  },
  {
   "cell_type": "code",
   "execution_count": 47,
   "id": "b45a1d10",
   "metadata": {},
   "outputs": [
    {
     "data": {
      "text/plain": [
       "Index(['ad_id', 'advertiser_id', 'date_range_start', 'date_range_end',\n",
       "       'num_of_days', 'impressions', 'age_targeting', 'gender_targeting',\n",
       "       'geo_targeting_included', 'geo_targeting_excluded',\n",
       "       'spend_range_min_usd', 'spend_range_max_usd', 'aws_face_vid',\n",
       "       'aws_face_img', 'sub_bucket', 'race_of_focus', 'ad_tone_constructed',\n",
       "       'ad_tone_mentionbased', 'goal_DONATE_prediction',\n",
       "       'goal_DONATE_predicted_prob', 'goal_CONTACT_prediction',\n",
       "       'goal_CONTACT_predicted_prob', 'goal_PURCHASE_prediction',\n",
       "       'goal_PURCHASE_predicted_prob', 'goal_GOTV_prediction',\n",
       "       'goal_GOTV_predicted_prob', 'goal_EVENT_prediction',\n",
       "       'goal_EVENT_predicted_prob', 'goal_POLL_prediction',\n",
       "       'goal_POLL_predicted_prob', 'goal_GATHERINFO_prediction',\n",
       "       'goal_GATHERINFO_predicted_prob', 'goal_LEARNMORE_prediction',\n",
       "       'goal_LEARNMORE_predicted_prob', 'goal_PRIMARY_PERSUADE_prediction',\n",
       "       'goal_PRIMARY_PERSUADE_predicted_prob', 'goal_highest_prob',\n",
       "       'party_all_clf', 'prob_dem', 'prob_other', 'prob_rep',\n",
       "       'party_all_clf_adid', 'party_all_clf_adid_agg', 'party_all',\n",
       "       'detected_entities', 'field', 'detected_entities_federal',\n",
       "       'attacklike1_bert_pred', 'attacklike1_bert_prob',\n",
       "       'attacklike2_bert_pred', 'attacklike2_bert_prob',\n",
       "       'attacklike3_bert_pred', 'attacklike_senti_pred',\n",
       "       'attacklike_senti_prob', 'ABSA_number_of_mentions',\n",
       "       'ABSA_detected_entities', 'ABSA_predicted_sentiment_agg', 'aws_face',\n",
       "       'aws_face_federal', 'combined_entities_federal', 'federal_verified',\n",
       "       'issue_field', 'issue_class', 'candidate', 'federal_cd',\n",
       "       'federal_cdpty', 'wmp_spontype', 'wmp_sen', 'wmp_hse', 'wmp_gov',\n",
       "       'wmp_office', 'set3', 'set3b', 'set4', 'set4b', 'advertiser_name',\n",
       "       'ad_type', 'wmp_creative_id'],\n",
       "      dtype='object')"
      ]
     },
     "execution_count": 47,
     "metadata": {},
     "output_type": "execute_result"
    }
   ],
   "source": [
    "var.columns"
   ]
  },
  {
   "cell_type": "markdown",
   "id": "937f5bf0",
   "metadata": {},
   "source": [
    "### Import creative ids with nan text fields and remove nan values"
   ]
  },
  {
   "cell_type": "code",
   "execution_count": 60,
   "id": "13ed99b8",
   "metadata": {},
   "outputs": [],
   "source": [
    "# txt = pd.read_csv(source_path + '04-dedup-2nd-time/other_output/g2022_adid_merged_txt_lite_table.csv')"
   ]
  },
  {
   "cell_type": "code",
   "execution_count": 69,
   "id": "5306ea9d",
   "metadata": {},
   "outputs": [],
   "source": [
    "# nan_ids = set(txt[pd.isna(txt.txt_lite)].wmp_creative_id.to_list())"
   ]
  },
  {
   "cell_type": "code",
   "execution_count": 73,
   "id": "61297004",
   "metadata": {},
   "outputs": [],
   "source": [
    "# pd.DataFrame({'nan_cid': list(nan_ids)}).to_csv('input_data/nan_cids.csv', index=False)"
   ]
  },
  {
   "cell_type": "code",
   "execution_count": 21,
   "id": "fe0aea64",
   "metadata": {},
   "outputs": [],
   "source": [
    "nan_ids = set(pd.read_csv('../input_data/nan_cids.csv').nan_cid.to_list())"
   ]
  },
  {
   "cell_type": "code",
   "execution_count": 22,
   "id": "8f37c989",
   "metadata": {},
   "outputs": [],
   "source": [
    "'''\n",
    "Remove nan text values\n",
    "'''\n",
    "var = var[var.wmp_creative_id.apply(lambda x: x not in nan_ids)]"
   ]
  },
  {
   "cell_type": "code",
   "execution_count": 23,
   "id": "853ce189",
   "metadata": {},
   "outputs": [
    {
     "data": {
      "text/plain": [
       "(30238, 78)"
      ]
     },
     "execution_count": 23,
     "metadata": {},
     "output_type": "execute_result"
    }
   ],
   "source": [
    "var.shape"
   ]
  },
  {
   "cell_type": "markdown",
   "id": "67e02a9d",
   "metadata": {},
   "source": [
    "### Aggregate data at sponsor-media level "
   ]
  },
  {
   "cell_type": "markdown",
   "id": "65f23f36",
   "metadata": {},
   "source": [
    "#### Federal candidates: House/Senate"
   ]
  },
  {
   "cell_type": "code",
   "execution_count": 24,
   "id": "c24782e2",
   "metadata": {},
   "outputs": [],
   "source": [
    "# maybe should only do this for fed candidates\n",
    "var_cand = var[var.federal_cd==1]\n",
    "# only campaign type is remaining after filtering"
   ]
  },
  {
   "cell_type": "code",
   "execution_count": 207,
   "id": "91203c48",
   "metadata": {},
   "outputs": [],
   "source": [
    "cols = ['advertiser_id', 'wmp_creative_id', 'ad_type']"
   ]
  },
  {
   "cell_type": "code",
   "execution_count": 208,
   "id": "889bb970",
   "metadata": {},
   "outputs": [],
   "source": [
    "cand_sponsor_agg = var_cand[cols].groupby(['advertiser_id', 'ad_type', 'wmp_creative_id']).first().reset_index().groupby(['advertiser_id', 'ad_type']).agg(lambda x: ' '.join(x)).reset_index()"
   ]
  },
  {
   "cell_type": "code",
   "execution_count": 209,
   "id": "6b4ef93e",
   "metadata": {},
   "outputs": [
    {
     "data": {
      "text/html": [
       "<div>\n",
       "<style scoped>\n",
       "    .dataframe tbody tr th:only-of-type {\n",
       "        vertical-align: middle;\n",
       "    }\n",
       "\n",
       "    .dataframe tbody tr th {\n",
       "        vertical-align: top;\n",
       "    }\n",
       "\n",
       "    .dataframe thead th {\n",
       "        text-align: right;\n",
       "    }\n",
       "</style>\n",
       "<table border=\"1\" class=\"dataframe\">\n",
       "  <thead>\n",
       "    <tr style=\"text-align: right;\">\n",
       "      <th></th>\n",
       "      <th>advertiser_id</th>\n",
       "      <th>ad_type</th>\n",
       "      <th>wmp_creative_id</th>\n",
       "    </tr>\n",
       "  </thead>\n",
       "  <tbody>\n",
       "    <tr>\n",
       "      <th>0</th>\n",
       "      <td>AR00053674171938373633</td>\n",
       "      <td>TEXT</td>\n",
       "      <td>cid_36651 cid_36652 cid_36654 cid_36655 cid_36...</td>\n",
       "    </tr>\n",
       "    <tr>\n",
       "      <th>1</th>\n",
       "      <td>AR00053674171938373633</td>\n",
       "      <td>VIDEO</td>\n",
       "      <td>cid_36666 cid_36667 cid_36668 cid_36669</td>\n",
       "    </tr>\n",
       "  </tbody>\n",
       "</table>\n",
       "</div>"
      ],
      "text/plain": [
       "            advertiser_id ad_type  \\\n",
       "0  AR00053674171938373633    TEXT   \n",
       "1  AR00053674171938373633   VIDEO   \n",
       "\n",
       "                                     wmp_creative_id  \n",
       "0  cid_36651 cid_36652 cid_36654 cid_36655 cid_36...  \n",
       "1            cid_36666 cid_36667 cid_36668 cid_36669  "
      ]
     },
     "execution_count": 209,
     "metadata": {},
     "output_type": "execute_result"
    }
   ],
   "source": [
    "cand_sponsor_agg.head(2)"
   ]
  },
  {
   "cell_type": "code",
   "execution_count": 210,
   "id": "e330d5d9",
   "metadata": {},
   "outputs": [],
   "source": [
    "cand_sponsor_agg.rename(columns={'wmp_creative_id':'cids'}, inplace=True)"
   ]
  },
  {
   "cell_type": "code",
   "execution_count": 213,
   "id": "03aabc57",
   "metadata": {},
   "outputs": [],
   "source": [
    "cand_sponsor_agg['num_unique'] = cand_sponsor_agg.cids.apply(lambda x: len(x.split()))"
   ]
  },
  {
   "cell_type": "code",
   "execution_count": 265,
   "id": "e533f532",
   "metadata": {},
   "outputs": [],
   "source": [
    "cand_sponsor_agg = cand_sponsor_agg[cand_sponsor_agg.num_unique > 1]"
   ]
  },
  {
   "cell_type": "markdown",
   "id": "d0cc597c",
   "metadata": {},
   "source": [
    "#### Non-campaign sponsors: Advertiser-media-race_of_focuse-level aggregation"
   ]
  },
  {
   "cell_type": "code",
   "execution_count": 217,
   "id": "6299a2b8",
   "metadata": {},
   "outputs": [
    {
     "data": {
      "text/plain": [
       "array(['group', 'unclear could be campaign', 'party national',\n",
       "       'government agency', 'party', 'government official', 'campaign'],\n",
       "      dtype=object)"
      ]
     },
     "execution_count": 217,
     "metadata": {},
     "output_type": "execute_result"
    }
   ],
   "source": [
    "var[var.federal_cd == 0].wmp_spontype.unique()"
   ]
  },
  {
   "cell_type": "code",
   "execution_count": 219,
   "id": "00bb3f58",
   "metadata": {},
   "outputs": [
    {
     "data": {
      "text/plain": [
       "array([nan, 'us senate', 'us house', 'us house - other cycle',\n",
       "       'us senate - other cycle'], dtype=object)"
      ]
     },
     "execution_count": 219,
     "metadata": {},
     "output_type": "execute_result"
    }
   ],
   "source": [
    "var[var.federal_cd == 0].wmp_office.unique()"
   ]
  },
  {
   "cell_type": "code",
   "execution_count": 228,
   "id": "e5187271",
   "metadata": {},
   "outputs": [
    {
     "data": {
      "text/html": [
       "<div>\n",
       "<style scoped>\n",
       "    .dataframe tbody tr th:only-of-type {\n",
       "        vertical-align: middle;\n",
       "    }\n",
       "\n",
       "    .dataframe tbody tr th {\n",
       "        vertical-align: top;\n",
       "    }\n",
       "\n",
       "    .dataframe thead th {\n",
       "        text-align: right;\n",
       "    }\n",
       "</style>\n",
       "<table border=\"1\" class=\"dataframe\">\n",
       "  <thead>\n",
       "    <tr style=\"text-align: right;\">\n",
       "      <th></th>\n",
       "      <th>race_of_focus</th>\n",
       "      <th>advertiser_name</th>\n",
       "      <th>ad_type</th>\n",
       "    </tr>\n",
       "  </thead>\n",
       "  <tbody>\n",
       "    <tr>\n",
       "      <th>29</th>\n",
       "      <td>PA08</td>\n",
       "      <td>US House of Representatives</td>\n",
       "      <td>TEXT</td>\n",
       "    </tr>\n",
       "    <tr>\n",
       "      <th>259</th>\n",
       "      <td>VA07</td>\n",
       "      <td>US HOUSE OF REPRESENTATIVES</td>\n",
       "      <td>TEXT</td>\n",
       "    </tr>\n",
       "    <tr>\n",
       "      <th>557</th>\n",
       "      <td>PA08</td>\n",
       "      <td>US HOUSE OF REPRESENTATIVES</td>\n",
       "      <td>TEXT</td>\n",
       "    </tr>\n",
       "    <tr>\n",
       "      <th>2770</th>\n",
       "      <td>NaN</td>\n",
       "      <td>US HOUSE OF REPRESENTATIVES</td>\n",
       "      <td>VIDEO</td>\n",
       "    </tr>\n",
       "    <tr>\n",
       "      <th>2878</th>\n",
       "      <td>AZ00</td>\n",
       "      <td>STATE OF ARIZONA</td>\n",
       "      <td>IMAGE</td>\n",
       "    </tr>\n",
       "    <tr>\n",
       "      <th>...</th>\n",
       "      <td>...</td>\n",
       "      <td>...</td>\n",
       "      <td>...</td>\n",
       "    </tr>\n",
       "    <tr>\n",
       "      <th>27671</th>\n",
       "      <td>PA07</td>\n",
       "      <td>US House of Representatives</td>\n",
       "      <td>TEXT</td>\n",
       "    </tr>\n",
       "    <tr>\n",
       "      <th>27970</th>\n",
       "      <td>NJ06</td>\n",
       "      <td>US HOUSE OF REPRESENTATIVES</td>\n",
       "      <td>TEXT</td>\n",
       "    </tr>\n",
       "    <tr>\n",
       "      <th>28260</th>\n",
       "      <td>CA07</td>\n",
       "      <td>US House of Representatives</td>\n",
       "      <td>TEXT</td>\n",
       "    </tr>\n",
       "    <tr>\n",
       "      <th>28395</th>\n",
       "      <td>CA07</td>\n",
       "      <td>US HOUSE OF REPRESENTATIVES</td>\n",
       "      <td>TEXT</td>\n",
       "    </tr>\n",
       "    <tr>\n",
       "      <th>28702</th>\n",
       "      <td>CA07</td>\n",
       "      <td>US HOUSE OF REPRESENTATIVES</td>\n",
       "      <td>TEXT</td>\n",
       "    </tr>\n",
       "  </tbody>\n",
       "</table>\n",
       "<p>79 rows × 3 columns</p>\n",
       "</div>"
      ],
      "text/plain": [
       "      race_of_focus              advertiser_name ad_type\n",
       "29             PA08  US House of Representatives    TEXT\n",
       "259            VA07  US HOUSE OF REPRESENTATIVES    TEXT\n",
       "557            PA08  US HOUSE OF REPRESENTATIVES    TEXT\n",
       "2770            NaN  US HOUSE OF REPRESENTATIVES   VIDEO\n",
       "2878           AZ00             STATE OF ARIZONA   IMAGE\n",
       "...             ...                          ...     ...\n",
       "27671          PA07  US House of Representatives    TEXT\n",
       "27970          NJ06  US HOUSE OF REPRESENTATIVES    TEXT\n",
       "28260          CA07  US House of Representatives    TEXT\n",
       "28395          CA07  US HOUSE OF REPRESENTATIVES    TEXT\n",
       "28702          CA07  US HOUSE OF REPRESENTATIVES    TEXT\n",
       "\n",
       "[79 rows x 3 columns]"
      ]
     },
     "execution_count": 228,
     "metadata": {},
     "output_type": "execute_result"
    }
   ],
   "source": [
    "var[(var.federal_cd == 0) & (var.wmp_spontype == 'government agency')][['race_of_focus', 'advertiser_name', 'ad_type']]"
   ]
  },
  {
   "cell_type": "markdown",
   "id": "4b139012",
   "metadata": {},
   "source": [
    "##### Eliminate irrelevant offices among non-candidate campaign sponsors"
   ]
  },
  {
   "cell_type": "code",
   "execution_count": 242,
   "id": "9e3b2d27",
   "metadata": {},
   "outputs": [],
   "source": [
    "condition3 = (var.federal_cd == 0) & (~var.wmp_office.isin(['us house - other cycle', 'us senate - other cycle']))\n",
    "var_noncand = var[condition3]"
   ]
  },
  {
   "cell_type": "code",
   "execution_count": 243,
   "id": "2b3f83a0",
   "metadata": {},
   "outputs": [
    {
     "data": {
      "text/plain": [
       "(12712, 78)"
      ]
     },
     "execution_count": 243,
     "metadata": {},
     "output_type": "execute_result"
    }
   ],
   "source": [
    "var_noncand.shape"
   ]
  },
  {
   "cell_type": "code",
   "execution_count": 250,
   "id": "f9753ab8",
   "metadata": {},
   "outputs": [],
   "source": [
    "'''\n",
    "Drop no race of focus and NAs\n",
    "'''\n",
    "var_noncand = var_noncand[~pd.isna(var_noncand.race_of_focus)]"
   ]
  },
  {
   "cell_type": "code",
   "execution_count": 254,
   "id": "c9aef6c8",
   "metadata": {},
   "outputs": [],
   "source": [
    "var_noncand = var_noncand[var_noncand.race_of_focus != 'No race of focus']"
   ]
  },
  {
   "cell_type": "code",
   "execution_count": 255,
   "id": "7895ede4",
   "metadata": {},
   "outputs": [
    {
     "data": {
      "text/plain": [
       "(9643, 78)"
      ]
     },
     "execution_count": 255,
     "metadata": {},
     "output_type": "execute_result"
    }
   ],
   "source": [
    "var_noncand.shape"
   ]
  },
  {
   "cell_type": "code",
   "execution_count": 258,
   "id": "7a2872c3",
   "metadata": {},
   "outputs": [],
   "source": [
    "cols2 = ['advertiser_id', 'wmp_creative_id', 'ad_type', 'race_of_focus']"
   ]
  },
  {
   "cell_type": "code",
   "execution_count": 259,
   "id": "8b76c020",
   "metadata": {},
   "outputs": [],
   "source": [
    "noncand_sponsor_agg = var_noncand[cols2].groupby(['advertiser_id', 'ad_type', 'race_of_focus', 'wmp_creative_id']).first().reset_index()\\\n",
    ".groupby(['advertiser_id', 'ad_type', 'race_of_focus']).agg(lambda x: ' '.join(x)).reset_index()"
   ]
  },
  {
   "cell_type": "code",
   "execution_count": 262,
   "id": "09925246",
   "metadata": {},
   "outputs": [],
   "source": [
    "noncand_sponsor_agg.rename(columns={'wmp_creative_id':'cids'}, inplace=True)\n",
    "noncand_sponsor_agg['num_unique'] = noncand_sponsor_agg.cids.apply(lambda x: len(x.split()))\n",
    "\n",
    "# filter for sponsors with at least a pair of unique creatives\n",
    "noncand_sponsor_agg = noncand_sponsor_agg[noncand_sponsor_agg.num_unique > 1]"
   ]
  },
  {
   "cell_type": "code",
   "execution_count": 263,
   "id": "ee69eb66",
   "metadata": {
    "scrolled": true
   },
   "outputs": [
    {
     "data": {
      "text/html": [
       "<div>\n",
       "<style scoped>\n",
       "    .dataframe tbody tr th:only-of-type {\n",
       "        vertical-align: middle;\n",
       "    }\n",
       "\n",
       "    .dataframe tbody tr th {\n",
       "        vertical-align: top;\n",
       "    }\n",
       "\n",
       "    .dataframe thead th {\n",
       "        text-align: right;\n",
       "    }\n",
       "</style>\n",
       "<table border=\"1\" class=\"dataframe\">\n",
       "  <thead>\n",
       "    <tr style=\"text-align: right;\">\n",
       "      <th></th>\n",
       "      <th>advertiser_id</th>\n",
       "      <th>ad_type</th>\n",
       "      <th>race_of_focus</th>\n",
       "      <th>cids</th>\n",
       "      <th>num_unique</th>\n",
       "    </tr>\n",
       "  </thead>\n",
       "  <tbody>\n",
       "    <tr>\n",
       "      <th>0</th>\n",
       "      <td>AR00035659773428891649</td>\n",
       "      <td>IMAGE</td>\n",
       "      <td>LA00</td>\n",
       "      <td>cid_5428 cid_5432</td>\n",
       "      <td>2</td>\n",
       "    </tr>\n",
       "    <tr>\n",
       "      <th>3</th>\n",
       "      <td>AR00170851600011624449</td>\n",
       "      <td>IMAGE</td>\n",
       "      <td>MD01</td>\n",
       "      <td>cid_650 cid_652</td>\n",
       "      <td>2</td>\n",
       "    </tr>\n",
       "    <tr>\n",
       "      <th>4</th>\n",
       "      <td>AR00170851600011624449</td>\n",
       "      <td>VIDEO</td>\n",
       "      <td>MD01</td>\n",
       "      <td>cid_650 cid_652</td>\n",
       "      <td>2</td>\n",
       "    </tr>\n",
       "    <tr>\n",
       "      <th>5</th>\n",
       "      <td>AR00281394781081305089</td>\n",
       "      <td>VIDEO</td>\n",
       "      <td>CA13</td>\n",
       "      <td>cid_44152 cid_44153 cid_44156 cid_44158</td>\n",
       "      <td>4</td>\n",
       "    </tr>\n",
       "    <tr>\n",
       "      <th>8</th>\n",
       "      <td>AR00315727375255994369</td>\n",
       "      <td>VIDEO</td>\n",
       "      <td>KS03</td>\n",
       "      <td>cid_51543 cid_51544 cid_51545 cid_51546 cid_51...</td>\n",
       "      <td>11</td>\n",
       "    </tr>\n",
       "  </tbody>\n",
       "</table>\n",
       "</div>"
      ],
      "text/plain": [
       "            advertiser_id ad_type race_of_focus  \\\n",
       "0  AR00035659773428891649   IMAGE          LA00   \n",
       "3  AR00170851600011624449   IMAGE          MD01   \n",
       "4  AR00170851600011624449   VIDEO          MD01   \n",
       "5  AR00281394781081305089   VIDEO          CA13   \n",
       "8  AR00315727375255994369   VIDEO          KS03   \n",
       "\n",
       "                                                cids  num_unique  \n",
       "0                                  cid_5428 cid_5432           2  \n",
       "3                                    cid_650 cid_652           2  \n",
       "4                                    cid_650 cid_652           2  \n",
       "5            cid_44152 cid_44153 cid_44156 cid_44158           4  \n",
       "8  cid_51543 cid_51544 cid_51545 cid_51546 cid_51...          11  "
      ]
     },
     "execution_count": 263,
     "metadata": {},
     "output_type": "execute_result"
    }
   ],
   "source": [
    "noncand_sponsor_agg.head()"
   ]
  },
  {
   "cell_type": "markdown",
   "id": "3728d0f5",
   "metadata": {},
   "source": [
    "## Import corpus embedding model (indices reordered version)"
   ]
  },
  {
   "cell_type": "code",
   "execution_count": 98,
   "id": "d4e38b88",
   "metadata": {},
   "outputs": [],
   "source": [
    "corpus_embeddings = torch.load('../model/corpus_embedding_google2022_unique_lite_reordered.pt')"
   ]
  },
  {
   "cell_type": "markdown",
   "id": "6a9e6dce",
   "metadata": {},
   "source": [
    "## compute pairwise cosine similarity\n",
    "**Save average and standard deviation**"
   ]
  },
  {
   "cell_type": "code",
   "execution_count": 94,
   "id": "e3b29f9e",
   "metadata": {},
   "outputs": [],
   "source": [
    "def compute_avg_similarity(cid_lst):\n",
    "    cid_lst = cid_lst.split()\n",
    "    \n",
    "    pairs = list(itertools.combinations(cid_lst, 2))\n",
    "    if pairs:\n",
    "        scores = []\n",
    "        for pair in pairs: \n",
    "            cid1, cid2 = pair\n",
    "            idx1 = int(cid1.lstrip('cid_'))\n",
    "            idx2 = int(cid2.lstrip('cid_'))\n",
    "            \n",
    "            score = util.cos_sim(corpus_embeddings[idx1], corpus_embeddings[idx2])[0][0].numpy()\n",
    "            scores.append(score)\n",
    "        return np.array(scores).mean(), np.array(scores).std()\n",
    "    return None"
   ]
  },
  {
   "cell_type": "markdown",
   "id": "9ebd042f",
   "metadata": {},
   "source": [
    "### Federal candidates: by advertiser and media type"
   ]
  },
  {
   "cell_type": "code",
   "execution_count": 212,
   "id": "6b689dcc",
   "metadata": {},
   "outputs": [],
   "source": [
    "cand_sponsor_agg.loc[:, ['avg', 'std']] = cand_sponsor_agg.cids.apply(lambda x: pd.Series(compute_avg_similarity(x), index=['avg', 'std'], dtype=\"float\"))"
   ]
  },
  {
   "cell_type": "code",
   "execution_count": 214,
   "id": "3fd90802",
   "metadata": {},
   "outputs": [],
   "source": [
    "# Not necessary if dropping num_unique == 1 first\n",
    "# cand_sponsor_agg = cand_sponsor_agg.dropna(subset=['avg'])"
   ]
  },
  {
   "cell_type": "code",
   "execution_count": 216,
   "id": "58854764",
   "metadata": {},
   "outputs": [],
   "source": [
    "# adv_agg.to_csv('output_data/g2022_set3_advertiser_media_level_average_pairwise_similarity.csv', index=False)\n",
    "\n",
    "'''\n",
    "general election period only: Sept - Nov 2022\n",
    "'''\n",
    "\n",
    "cand_sponsor_agg.to_csv('../output_data/g2022_set3_gen_elect_cand_media_level_average_pairwise_similarity.csv', index=False)"
   ]
  },
  {
   "cell_type": "markdown",
   "id": "d546ed40",
   "metadata": {},
   "source": [
    "### non-campaign candidate sponsors: by sponsor - media - race of focus"
   ]
  },
  {
   "cell_type": "code",
   "execution_count": 268,
   "id": "7d35ef5e",
   "metadata": {},
   "outputs": [
    {
     "name": "stderr",
     "output_type": "stream",
     "text": [
      "/tmp/ipykernel_17290/4056042535.py:1: SettingWithCopyWarning: \n",
      "A value is trying to be set on a copy of a slice from a DataFrame.\n",
      "Try using .loc[row_indexer,col_indexer] = value instead\n",
      "\n",
      "See the caveats in the documentation: https://pandas.pydata.org/pandas-docs/stable/user_guide/indexing.html#returning-a-view-versus-a-copy\n",
      "  noncand_sponsor_agg.loc[:, ['avg', 'std']] = noncand_sponsor_agg.cids.apply(lambda x: pd.Series(compute_avg_similarity(x), index=['avg', 'std'], dtype=\"float\"))\n"
     ]
    }
   ],
   "source": [
    "noncand_sponsor_agg.loc[:, ['avg', 'std']] = noncand_sponsor_agg.cids.apply(lambda x: pd.Series(compute_avg_similarity(x), index=['avg', 'std'], dtype=\"float\"))"
   ]
  },
  {
   "cell_type": "code",
   "execution_count": 269,
   "id": "2e67a838",
   "metadata": {},
   "outputs": [
    {
     "data": {
      "text/plain": [
       "(688, 7)"
      ]
     },
     "execution_count": 269,
     "metadata": {},
     "output_type": "execute_result"
    }
   ],
   "source": [
    "noncand_sponsor_agg.shape"
   ]
  },
  {
   "cell_type": "code",
   "execution_count": 271,
   "id": "818bc0cd",
   "metadata": {},
   "outputs": [
    {
     "data": {
      "text/plain": [
       "32"
      ]
     },
     "execution_count": 271,
     "metadata": {},
     "output_type": "execute_result"
    }
   ],
   "source": [
    "noncand_sponsor_agg.num_unique.max()"
   ]
  },
  {
   "cell_type": "code",
   "execution_count": 273,
   "id": "e1977161",
   "metadata": {},
   "outputs": [],
   "source": [
    "'''\n",
    "general election period only\n",
    "'''\n",
    "noncand_sponsor_agg.to_csv('../output_data/g2022_set3_gen_elect_noncandidate_advertiser_racefocus_media_level_average_pairwise_similarity.csv', index=False)"
   ]
  },
  {
   "cell_type": "markdown",
   "id": "078e9757",
   "metadata": {},
   "source": [
    "## Pairwise similarity distribution for individual candidate cases - legacy code"
   ]
  },
  {
   "cell_type": "code",
   "execution_count": 6,
   "id": "a1650184",
   "metadata": {},
   "outputs": [],
   "source": [
    "import matplotlib.pyplot as plt\n",
    "import seaborn as sns"
   ]
  },
  {
   "cell_type": "code",
   "execution_count": 14,
   "id": "bec2f6db",
   "metadata": {},
   "outputs": [],
   "source": [
    "'''\n",
    "general election period\n",
    "'''\n",
    "adv_agg = pd.read_csv('output_data/g2022_set3_gen_elect_advertiser_media_level_average_pairwise_similarity.csv')"
   ]
  },
  {
   "cell_type": "code",
   "execution_count": 15,
   "id": "e4d7236f",
   "metadata": {},
   "outputs": [
    {
     "data": {
      "text/html": [
       "<div>\n",
       "<style scoped>\n",
       "    .dataframe tbody tr th:only-of-type {\n",
       "        vertical-align: middle;\n",
       "    }\n",
       "\n",
       "    .dataframe tbody tr th {\n",
       "        vertical-align: top;\n",
       "    }\n",
       "\n",
       "    .dataframe thead th {\n",
       "        text-align: right;\n",
       "    }\n",
       "</style>\n",
       "<table border=\"1\" class=\"dataframe\">\n",
       "  <thead>\n",
       "    <tr style=\"text-align: right;\">\n",
       "      <th></th>\n",
       "      <th>advertiser_id</th>\n",
       "      <th>ad_type</th>\n",
       "      <th>cids</th>\n",
       "      <th>num_unique</th>\n",
       "      <th>avg</th>\n",
       "      <th>std</th>\n",
       "    </tr>\n",
       "  </thead>\n",
       "  <tbody>\n",
       "    <tr>\n",
       "      <th>0</th>\n",
       "      <td>AR00037003582796464129</td>\n",
       "      <td>VIDEO</td>\n",
       "      <td>cid_26157</td>\n",
       "      <td>1</td>\n",
       "      <td>NaN</td>\n",
       "      <td>NaN</td>\n",
       "    </tr>\n",
       "    <tr>\n",
       "      <th>1</th>\n",
       "      <td>AR00038755998172708865</td>\n",
       "      <td>TEXT</td>\n",
       "      <td>cid_27308</td>\n",
       "      <td>1</td>\n",
       "      <td>NaN</td>\n",
       "      <td>NaN</td>\n",
       "    </tr>\n",
       "    <tr>\n",
       "      <th>2</th>\n",
       "      <td>AR00038755998172708865</td>\n",
       "      <td>VIDEO</td>\n",
       "      <td>cid_27309 cid_27310</td>\n",
       "      <td>2</td>\n",
       "      <td>0.529849</td>\n",
       "      <td>0.000000</td>\n",
       "    </tr>\n",
       "    <tr>\n",
       "      <th>3</th>\n",
       "      <td>AR00042500385021100033</td>\n",
       "      <td>IMAGE</td>\n",
       "      <td>cid_20424 cid_20425 cid_20426</td>\n",
       "      <td>3</td>\n",
       "      <td>0.740031</td>\n",
       "      <td>0.051164</td>\n",
       "    </tr>\n",
       "    <tr>\n",
       "      <th>4</th>\n",
       "      <td>AR00053674171938373633</td>\n",
       "      <td>TEXT</td>\n",
       "      <td>cid_36651 cid_36652 cid_36654 cid_36655 cid_36...</td>\n",
       "      <td>11</td>\n",
       "      <td>0.383467</td>\n",
       "      <td>0.200512</td>\n",
       "    </tr>\n",
       "  </tbody>\n",
       "</table>\n",
       "</div>"
      ],
      "text/plain": [
       "            advertiser_id ad_type  \\\n",
       "0  AR00037003582796464129   VIDEO   \n",
       "1  AR00038755998172708865    TEXT   \n",
       "2  AR00038755998172708865   VIDEO   \n",
       "3  AR00042500385021100033   IMAGE   \n",
       "4  AR00053674171938373633    TEXT   \n",
       "\n",
       "                                                cids  num_unique       avg  \\\n",
       "0                                          cid_26157           1       NaN   \n",
       "1                                          cid_27308           1       NaN   \n",
       "2                                cid_27309 cid_27310           2  0.529849   \n",
       "3                      cid_20424 cid_20425 cid_20426           3  0.740031   \n",
       "4  cid_36651 cid_36652 cid_36654 cid_36655 cid_36...          11  0.383467   \n",
       "\n",
       "        std  \n",
       "0       NaN  \n",
       "1       NaN  \n",
       "2  0.000000  \n",
       "3  0.051164  \n",
       "4  0.200512  "
      ]
     },
     "execution_count": 15,
     "metadata": {},
     "output_type": "execute_result"
    }
   ],
   "source": [
    "adv_agg.head()"
   ]
  },
  {
   "cell_type": "code",
   "execution_count": 8,
   "id": "7bc018bc",
   "metadata": {},
   "outputs": [],
   "source": [
    "def compute_pairwise_similarity_adv_id(df, adv_id, media_type):\n",
    "    \n",
    "    cid_lst= df[(df.advertiser_id == adv_id) & (df.ad_type == media_type)].cids.iloc[0]\n",
    "    \n",
    "    cid_lst = cid_lst.split()\n",
    "    \n",
    "    pairs = list(itertools.combinations(cid_lst, 2))\n",
    "    \n",
    "    if pairs:\n",
    "        scores = []\n",
    "        for pair in pairs: \n",
    "            cid1, cid2 = pair\n",
    "            idx1 = int(cid1.lstrip('cid_'))\n",
    "            idx2 = int(cid2.lstrip('cid_'))\n",
    "            \n",
    "            score = util.cos_sim(corpus_embeddings[idx1], corpus_embeddings[idx2])[0][0].numpy()\n",
    "            scores.append(float(score))\n",
    "        return scores\n",
    "    return None"
   ]
  },
  {
   "cell_type": "code",
   "execution_count": 17,
   "id": "e6947b97",
   "metadata": {},
   "outputs": [
    {
     "data": {
      "text/plain": [
       "[Text(0.5, 1.0, 'Pairwise text similarity distribution (text): Raphael Warnock'),\n",
       " Text(0.5, 0, 'similarity score')]"
      ]
     },
     "execution_count": 17,
     "metadata": {},
     "output_type": "execute_result"
    },
    {
     "data": {
      "image/png": "[encoded data removed]",
      "text/plain": [
       "<Figure size 640x480 with 2 Axes>"
      ]
     },
     "metadata": {},
     "output_type": "display_data"
    }
   ],
   "source": [
    "# Warnock general election\n",
    "\n",
    "warnock_vid = compute_pairwise_similarity_adv_id(adv_agg, 'AR07182956219827486721', 'VIDEO')\n",
    "warnock_txt = compute_pairwise_similarity_adv_id(adv_agg, 'AR07182956219827486721', 'TEXT')\n",
    "\n",
    "sns.set_theme(style='ticks', palette=\"tab10\")\n",
    "\n",
    "fig, ax = plt.subplots(2, sharex=True)\n",
    "\n",
    "sns.histplot(warnock_vid, kde=True, bins=40, color='gray', ax=ax[0])\n",
    "sns.histplot(warnock_txt, kde=True, bins=40, color='gray', ax=ax[1])\n",
    "\n",
    "ax[0].set_xlim(0, 1)\n",
    "ax[1].set_xlim(0, 1)\n",
    "\n",
    "\n",
    "ax[0].set(title='Pairwise text similarity distribution (video): Raphael Warnock', xlabel='similarity score')\n",
    "ax[1].set(title='Pairwise text similarity distribution (text): Raphael Warnock', xlabel='similarity score')"
   ]
  },
  {
   "cell_type": "code",
   "execution_count": 12,
   "id": "68e90697",
   "metadata": {},
   "outputs": [
    {
     "data": {
      "text/html": [
       "<div>\n",
       "<style scoped>\n",
       "    .dataframe tbody tr th:only-of-type {\n",
       "        vertical-align: middle;\n",
       "    }\n",
       "\n",
       "    .dataframe tbody tr th {\n",
       "        vertical-align: top;\n",
       "    }\n",
       "\n",
       "    .dataframe thead th {\n",
       "        text-align: right;\n",
       "    }\n",
       "</style>\n",
       "<table border=\"1\" class=\"dataframe\">\n",
       "  <thead>\n",
       "    <tr style=\"text-align: right;\">\n",
       "      <th></th>\n",
       "      <th>advertiser_id</th>\n",
       "      <th>ad_type</th>\n",
       "      <th>cids</th>\n",
       "      <th>avg</th>\n",
       "      <th>std</th>\n",
       "      <th>num_unique</th>\n",
       "    </tr>\n",
       "  </thead>\n",
       "  <tbody>\n",
       "    <tr>\n",
       "      <th>1434</th>\n",
       "      <td>AR07182956219827486721</td>\n",
       "      <td>TEXT</td>\n",
       "      <td>cid_62966 cid_62967 cid_62969 cid_62970 cid_62...</td>\n",
       "      <td>0.274865</td>\n",
       "      <td>0.186229</td>\n",
       "      <td>11</td>\n",
       "    </tr>\n",
       "    <tr>\n",
       "      <th>1435</th>\n",
       "      <td>AR07182956219827486721</td>\n",
       "      <td>VIDEO</td>\n",
       "      <td>cid_62968 cid_62978 cid_62979 cid_62980 cid_62...</td>\n",
       "      <td>0.394246</td>\n",
       "      <td>0.141464</td>\n",
       "      <td>176</td>\n",
       "    </tr>\n",
       "  </tbody>\n",
       "</table>\n",
       "</div>"
      ],
      "text/plain": [
       "               advertiser_id ad_type  \\\n",
       "1434  AR07182956219827486721    TEXT   \n",
       "1435  AR07182956219827486721   VIDEO   \n",
       "\n",
       "                                                   cids       avg       std  \\\n",
       "1434  cid_62966 cid_62967 cid_62969 cid_62970 cid_62...  0.274865  0.186229   \n",
       "1435  cid_62968 cid_62978 cid_62979 cid_62980 cid_62...  0.394246  0.141464   \n",
       "\n",
       "      num_unique  \n",
       "1434          11  \n",
       "1435         176  "
      ]
     },
     "execution_count": 12,
     "metadata": {},
     "output_type": "execute_result"
    }
   ],
   "source": [
    "# Warnock\n",
    "adv_agg[adv_agg.advertiser_id == 'AR07182956219827486721']"
   ]
  },
  {
   "cell_type": "code",
   "execution_count": 13,
   "id": "9d4813c1",
   "metadata": {},
   "outputs": [],
   "source": [
    "warnock_vid = compute_pairwise_similarity_adv_id(adv_agg, 'AR07182956219827486721', 'VIDEO')\n",
    "warnock_txt = compute_pairwise_similarity_adv_id(adv_agg, 'AR07182956219827486721', 'TEXT')"
   ]
  },
  {
   "cell_type": "code",
   "execution_count": 14,
   "id": "c37edcfd",
   "metadata": {},
   "outputs": [
    {
     "data": {
      "text/plain": [
       "[Text(0.5, 1.0, 'Pairwise text similarity distribution (text): Raphael Warnock'),\n",
       " Text(0.5, 0, 'similarity score')]"
      ]
     },
     "execution_count": 14,
     "metadata": {},
     "output_type": "execute_result"
    },
    {
     "data": {
      "image/png": "[encoded data removed]",
      "text/plain": [
       "<Figure size 640x480 with 2 Axes>"
      ]
     },
     "metadata": {},
     "output_type": "display_data"
    }
   ],
   "source": [
    "sns.set_theme(style='ticks', palette=\"tab10\")\n",
    "\n",
    "fig, ax = plt.subplots(2, sharex=True)\n",
    "\n",
    "sns.histplot(warnock_vid, kde=True, bins=40, color='gray', ax=ax[0])\n",
    "sns.histplot(warnock_txt, kde=True, bins=40, color='gray', ax=ax[1])\n",
    "\n",
    "ax[0].set_xlim(0, 1)\n",
    "ax[1].set_xlim(0, 1)\n",
    "\n",
    "\n",
    "ax[0].set(title='Pairwise text similarity distribution (video): Raphael Warnock', xlabel='similarity score')\n",
    "ax[1].set(title='Pairwise text similarity distribution (text): Raphael Warnock', xlabel='similarity score')"
   ]
  },
  {
   "cell_type": "code",
   "execution_count": 20,
   "id": "7099dd2d",
   "metadata": {},
   "outputs": [
    {
     "data": {
      "text/html": [
       "<div>\n",
       "<style scoped>\n",
       "    .dataframe tbody tr th:only-of-type {\n",
       "        vertical-align: middle;\n",
       "    }\n",
       "\n",
       "    .dataframe tbody tr th {\n",
       "        vertical-align: top;\n",
       "    }\n",
       "\n",
       "    .dataframe thead th {\n",
       "        text-align: right;\n",
       "    }\n",
       "</style>\n",
       "<table border=\"1\" class=\"dataframe\">\n",
       "  <thead>\n",
       "    <tr style=\"text-align: right;\">\n",
       "      <th></th>\n",
       "      <th>advertiser_id</th>\n",
       "      <th>ad_type</th>\n",
       "      <th>cids</th>\n",
       "      <th>num_unique</th>\n",
       "      <th>avg</th>\n",
       "      <th>std</th>\n",
       "    </tr>\n",
       "  </thead>\n",
       "  <tbody>\n",
       "    <tr>\n",
       "      <th>1787</th>\n",
       "      <td>AR17095295161908330497</td>\n",
       "      <td>TEXT</td>\n",
       "      <td>cid_1081</td>\n",
       "      <td>1</td>\n",
       "      <td>NaN</td>\n",
       "      <td>NaN</td>\n",
       "    </tr>\n",
       "    <tr>\n",
       "      <th>1788</th>\n",
       "      <td>AR17095295161908330497</td>\n",
       "      <td>VIDEO</td>\n",
       "      <td>cid_1093 cid_1094 cid_1095 cid_1096 cid_1100 c...</td>\n",
       "      <td>10</td>\n",
       "      <td>0.559905</td>\n",
       "      <td>0.131457</td>\n",
       "    </tr>\n",
       "  </tbody>\n",
       "</table>\n",
       "</div>"
      ],
      "text/plain": [
       "               advertiser_id ad_type  \\\n",
       "1787  AR17095295161908330497    TEXT   \n",
       "1788  AR17095295161908330497   VIDEO   \n",
       "\n",
       "                                                   cids  num_unique       avg  \\\n",
       "1787                                           cid_1081           1       NaN   \n",
       "1788  cid_1093 cid_1094 cid_1095 cid_1096 cid_1100 c...          10  0.559905   \n",
       "\n",
       "           std  \n",
       "1787       NaN  \n",
       "1788  0.131457  "
      ]
     },
     "execution_count": 20,
     "metadata": {},
     "output_type": "execute_result"
    }
   ],
   "source": [
    "# AOC general election\n",
    "adv_agg[adv_agg.advertiser_id == 'AR17095295161908330497']"
   ]
  },
  {
   "cell_type": "code",
   "execution_count": 18,
   "id": "c1c357c1",
   "metadata": {},
   "outputs": [
    {
     "data": {
      "text/plain": [
       "[Text(0.5, 1.0, 'Pairwise text similarity distribution (text): Alexandria Ocasio-Cortez'),\n",
       " Text(0.5, 0, 'similarity score')]"
      ]
     },
     "execution_count": 18,
     "metadata": {},
     "output_type": "execute_result"
    },
    {
     "data": {
      "image/png": "[encoded data removed]",
      "text/plain": [
       "<Figure size 640x480 with 2 Axes>"
      ]
     },
     "metadata": {},
     "output_type": "display_data"
    }
   ],
   "source": [
    "aoc_vid = compute_pairwise_similarity_adv_id(adv_agg, 'AR17095295161908330497', 'VIDEO')\n",
    "aoc_txt = compute_pairwise_similarity_adv_id(adv_agg, 'AR17095295161908330497', 'TEXT')\n",
    "\n",
    "sns.set_theme(style='ticks', palette=\"tab10\")\n",
    "\n",
    "fig, ax = plt.subplots(2, sharex=True)\n",
    "\n",
    "sns.histplot(aoc_vid, kde=True, bins=40, color='gray', ax=ax[0])\n",
    "sns.histplot(aoc_txt, kde=True, bins=40, color='gray', ax=ax[1])\n",
    "\n",
    "ax[0].set_xlim(0, 1)\n",
    "ax[1].set_xlim(0, 1)\n",
    "\n",
    "\n",
    "ax[0].set(title='Pairwise text similarity distribution (video): Alexandria Ocasio-Cortez', xlabel='similarity score')\n",
    "ax[1].set(title='Pairwise text similarity distribution (text): Alexandria Ocasio-Cortez', xlabel='similarity score')"
   ]
  },
  {
   "cell_type": "code",
   "execution_count": 15,
   "id": "ba9cebe8",
   "metadata": {},
   "outputs": [
    {
     "data": {
      "text/html": [
       "<div>\n",
       "<style scoped>\n",
       "    .dataframe tbody tr th:only-of-type {\n",
       "        vertical-align: middle;\n",
       "    }\n",
       "\n",
       "    .dataframe tbody tr th {\n",
       "        vertical-align: top;\n",
       "    }\n",
       "\n",
       "    .dataframe thead th {\n",
       "        text-align: right;\n",
       "    }\n",
       "</style>\n",
       "<table border=\"1\" class=\"dataframe\">\n",
       "  <thead>\n",
       "    <tr style=\"text-align: right;\">\n",
       "      <th></th>\n",
       "      <th>advertiser_id</th>\n",
       "      <th>ad_type</th>\n",
       "      <th>cids</th>\n",
       "      <th>avg</th>\n",
       "      <th>std</th>\n",
       "      <th>num_unique</th>\n",
       "    </tr>\n",
       "  </thead>\n",
       "  <tbody>\n",
       "    <tr>\n",
       "      <th>3241</th>\n",
       "      <td>AR17095295161908330497</td>\n",
       "      <td>TEXT</td>\n",
       "      <td>cid_1062 cid_1063 cid_1064 cid_1065 cid_1066 c...</td>\n",
       "      <td>0.468653</td>\n",
       "      <td>0.170634</td>\n",
       "      <td>31</td>\n",
       "    </tr>\n",
       "    <tr>\n",
       "      <th>3242</th>\n",
       "      <td>AR17095295161908330497</td>\n",
       "      <td>VIDEO</td>\n",
       "      <td>cid_1093 cid_1094 cid_1095 cid_1096 cid_1097 c...</td>\n",
       "      <td>0.452848</td>\n",
       "      <td>0.188370</td>\n",
       "      <td>13</td>\n",
       "    </tr>\n",
       "  </tbody>\n",
       "</table>\n",
       "</div>"
      ],
      "text/plain": [
       "               advertiser_id ad_type  \\\n",
       "3241  AR17095295161908330497    TEXT   \n",
       "3242  AR17095295161908330497   VIDEO   \n",
       "\n",
       "                                                   cids       avg       std  \\\n",
       "3241  cid_1062 cid_1063 cid_1064 cid_1065 cid_1066 c...  0.468653  0.170634   \n",
       "3242  cid_1093 cid_1094 cid_1095 cid_1096 cid_1097 c...  0.452848  0.188370   \n",
       "\n",
       "      num_unique  \n",
       "3241          31  \n",
       "3242          13  "
      ]
     },
     "execution_count": 15,
     "metadata": {},
     "output_type": "execute_result"
    }
   ],
   "source": [
    "# AOC\n",
    "adv_agg[adv_agg.advertiser_id == 'AR17095295161908330497']"
   ]
  },
  {
   "cell_type": "code",
   "execution_count": 17,
   "id": "9363affe",
   "metadata": {},
   "outputs": [],
   "source": [
    "aoc_vid = compute_pairwise_similarity_adv_id(adv_agg, 'AR17095295161908330497', 'VIDEO')\n",
    "aoc_txt = compute_pairwise_similarity_adv_id(adv_agg, 'AR17095295161908330497', 'TEXT')"
   ]
  },
  {
   "cell_type": "code",
   "execution_count": 19,
   "id": "aae6f3bc",
   "metadata": {},
   "outputs": [
    {
     "data": {
      "text/plain": [
       "[Text(0.5, 1.0, 'Pairwise text similarity distribution (text): Alexandria Ocasio-Cortez'),\n",
       " Text(0.5, 0, 'similarity score')]"
      ]
     },
     "execution_count": 19,
     "metadata": {},
     "output_type": "execute_result"
    },
    {
     "data": {
      "image/png": "[encoded data removed]",
      "text/plain": [
       "<Figure size 640x480 with 2 Axes>"
      ]
     },
     "metadata": {},
     "output_type": "display_data"
    }
   ],
   "source": [
    "sns.set_theme(style='ticks', palette=\"tab10\")\n",
    "\n",
    "fig, ax = plt.subplots(2, sharex=True)\n",
    "\n",
    "sns.histplot(aoc_vid, kde=True, bins=40, color='gray', ax=ax[0])\n",
    "sns.histplot(aoc_txt, kde=True, bins=40, color='gray', ax=ax[1])\n",
    "\n",
    "ax[0].set_xlim(0, 1)\n",
    "ax[1].set_xlim(0, 1)\n",
    "\n",
    "\n",
    "ax[0].set(title='Pairwise text similarity distribution (video): Alexandria Ocasio-Cortez', xlabel='similarity score')\n",
    "ax[1].set(title='Pairwise text similarity distribution (text): Alexandria Ocasio-Cortez', xlabel='similarity score')"
   ]
  },
  {
   "cell_type": "code",
   "execution_count": 20,
   "id": "1accdf2c",
   "metadata": {},
   "outputs": [
    {
     "data": {
      "text/html": [
       "<div>\n",
       "<style scoped>\n",
       "    .dataframe tbody tr th:only-of-type {\n",
       "        vertical-align: middle;\n",
       "    }\n",
       "\n",
       "    .dataframe tbody tr th {\n",
       "        vertical-align: top;\n",
       "    }\n",
       "\n",
       "    .dataframe thead th {\n",
       "        text-align: right;\n",
       "    }\n",
       "</style>\n",
       "<table border=\"1\" class=\"dataframe\">\n",
       "  <thead>\n",
       "    <tr style=\"text-align: right;\">\n",
       "      <th></th>\n",
       "      <th>advertiser_id</th>\n",
       "      <th>ad_type</th>\n",
       "      <th>cids</th>\n",
       "      <th>avg</th>\n",
       "      <th>std</th>\n",
       "      <th>num_unique</th>\n",
       "    </tr>\n",
       "  </thead>\n",
       "  <tbody>\n",
       "    <tr>\n",
       "      <th>804</th>\n",
       "      <td>AR03962319536304160769</td>\n",
       "      <td>IMAGE</td>\n",
       "      <td>cid_37615 cid_37616 cid_37779 cid_37780</td>\n",
       "      <td>0.717371</td>\n",
       "      <td>0.141119</td>\n",
       "      <td>4</td>\n",
       "    </tr>\n",
       "    <tr>\n",
       "      <th>805</th>\n",
       "      <td>AR03962319536304160769</td>\n",
       "      <td>TEXT</td>\n",
       "      <td>cid_37555 cid_37556 cid_37557 cid_37558 cid_37...</td>\n",
       "      <td>0.377477</td>\n",
       "      <td>0.188067</td>\n",
       "      <td>59</td>\n",
       "    </tr>\n",
       "    <tr>\n",
       "      <th>806</th>\n",
       "      <td>AR03962319536304160769</td>\n",
       "      <td>VIDEO</td>\n",
       "      <td>cid_37573 cid_37617 cid_37618 cid_37619 cid_37...</td>\n",
       "      <td>0.448795</td>\n",
       "      <td>0.144620</td>\n",
       "      <td>164</td>\n",
       "    </tr>\n",
       "  </tbody>\n",
       "</table>\n",
       "</div>"
      ],
      "text/plain": [
       "              advertiser_id ad_type  \\\n",
       "804  AR03962319536304160769   IMAGE   \n",
       "805  AR03962319536304160769    TEXT   \n",
       "806  AR03962319536304160769   VIDEO   \n",
       "\n",
       "                                                  cids       avg       std  \\\n",
       "804            cid_37615 cid_37616 cid_37779 cid_37780  0.717371  0.141119   \n",
       "805  cid_37555 cid_37556 cid_37557 cid_37558 cid_37...  0.377477  0.188067   \n",
       "806  cid_37573 cid_37617 cid_37618 cid_37619 cid_37...  0.448795  0.144620   \n",
       "\n",
       "     num_unique  \n",
       "804           4  \n",
       "805          59  \n",
       "806         164  "
      ]
     },
     "execution_count": 20,
     "metadata": {},
     "output_type": "execute_result"
    }
   ],
   "source": [
    "# Mark kelly\n",
    "adv_agg[adv_agg.advertiser_id == 'AR03962319536304160769']"
   ]
  },
  {
   "cell_type": "code",
   "execution_count": 21,
   "id": "e6052aec",
   "metadata": {},
   "outputs": [
    {
     "data": {
      "text/plain": [
       "[Text(0.5, 1.0, 'Pairwise text similarity distribution (text): Mark Kelly'),\n",
       " Text(0.5, 0, 'similarity score')]"
      ]
     },
     "execution_count": 21,
     "metadata": {},
     "output_type": "execute_result"
    },
    {
     "data": {
      "image/png": "[encoded data removed]",
      "text/plain": [
       "<Figure size 640x480 with 2 Axes>"
      ]
     },
     "metadata": {},
     "output_type": "display_data"
    }
   ],
   "source": [
    "mkelly_vid = compute_pairwise_similarity_adv_id(adv_agg, 'AR03962319536304160769', 'VIDEO')\n",
    "mkelly_txt = compute_pairwise_similarity_adv_id(adv_agg, 'AR03962319536304160769', 'TEXT')\n",
    "\n",
    "sns.set_theme(style='ticks', palette=\"tab10\")\n",
    "\n",
    "fig, ax = plt.subplots(2, sharex=True)\n",
    "\n",
    "sns.histplot(mkelly_vid, kde=True, bins=40, color='gray', ax=ax[0])\n",
    "sns.histplot(mkelly_txt, kde=True, bins=40, color='gray', ax=ax[1])\n",
    "\n",
    "ax[0].set_xlim(0, 1)\n",
    "ax[1].set_xlim(0, 1)\n",
    "\n",
    "\n",
    "ax[0].set(title='Pairwise text similarity distribution (video): Mark Kelly', xlabel='similarity score')\n",
    "ax[1].set(title='Pairwise text similarity distribution (text): Mark Kelly', xlabel='similarity score')"
   ]
  },
  {
   "cell_type": "code",
   "execution_count": 22,
   "id": "384c4574",
   "metadata": {},
   "outputs": [
    {
     "data": {
      "text/html": [
       "<div>\n",
       "<style scoped>\n",
       "    .dataframe tbody tr th:only-of-type {\n",
       "        vertical-align: middle;\n",
       "    }\n",
       "\n",
       "    .dataframe tbody tr th {\n",
       "        vertical-align: top;\n",
       "    }\n",
       "\n",
       "    .dataframe thead th {\n",
       "        text-align: right;\n",
       "    }\n",
       "</style>\n",
       "<table border=\"1\" class=\"dataframe\">\n",
       "  <thead>\n",
       "    <tr style=\"text-align: right;\">\n",
       "      <th></th>\n",
       "      <th>advertiser_id</th>\n",
       "      <th>ad_type</th>\n",
       "      <th>cids</th>\n",
       "      <th>avg</th>\n",
       "      <th>std</th>\n",
       "      <th>num_unique</th>\n",
       "    </tr>\n",
       "  </thead>\n",
       "  <tbody>\n",
       "    <tr>\n",
       "      <th>235</th>\n",
       "      <td>AR01112864509300572161</td>\n",
       "      <td>TEXT</td>\n",
       "      <td>cid_8855 cid_8856 cid_8857 cid_8858 cid_8859 c...</td>\n",
       "      <td>0.298775</td>\n",
       "      <td>0.203163</td>\n",
       "      <td>56</td>\n",
       "    </tr>\n",
       "    <tr>\n",
       "      <th>236</th>\n",
       "      <td>AR01112864509300572161</td>\n",
       "      <td>VIDEO</td>\n",
       "      <td>cid_8911 cid_8912 cid_8913 cid_8914 cid_8915 c...</td>\n",
       "      <td>0.485873</td>\n",
       "      <td>0.139578</td>\n",
       "      <td>121</td>\n",
       "    </tr>\n",
       "  </tbody>\n",
       "</table>\n",
       "</div>"
      ],
      "text/plain": [
       "              advertiser_id ad_type  \\\n",
       "235  AR01112864509300572161    TEXT   \n",
       "236  AR01112864509300572161   VIDEO   \n",
       "\n",
       "                                                  cids       avg       std  \\\n",
       "235  cid_8855 cid_8856 cid_8857 cid_8858 cid_8859 c...  0.298775  0.203163   \n",
       "236  cid_8911 cid_8912 cid_8913 cid_8914 cid_8915 c...  0.485873  0.139578   \n",
       "\n",
       "     num_unique  \n",
       "235          56  \n",
       "236         121  "
      ]
     },
     "execution_count": 22,
     "metadata": {},
     "output_type": "execute_result"
    }
   ],
   "source": [
    "# CATHERINE CORTEZ MASTO\n",
    "adv_agg[adv_agg.advertiser_id == 'AR01112864509300572161']"
   ]
  },
  {
   "cell_type": "code",
   "execution_count": 23,
   "id": "ac703a2e",
   "metadata": {},
   "outputs": [
    {
     "data": {
      "text/plain": [
       "[Text(0.5, 1.0, 'Pairwise text similarity distribution (text): Catherine Cortez Masto'),\n",
       " Text(0.5, 0, 'similarity score')]"
      ]
     },
     "execution_count": 23,
     "metadata": {},
     "output_type": "execute_result"
    },
    {
     "data": {
      "image/png": "[encoded data removed]",
      "text/plain": [
       "<Figure size 640x480 with 2 Axes>"
      ]
     },
     "metadata": {},
     "output_type": "display_data"
    }
   ],
   "source": [
    "ccm_vid = compute_pairwise_similarity_adv_id(adv_agg, 'AR01112864509300572161', 'VIDEO')\n",
    "ccm_txt = compute_pairwise_similarity_adv_id(adv_agg, 'AR01112864509300572161', 'TEXT')\n",
    "\n",
    "sns.set_theme(style='ticks', palette=\"tab10\")\n",
    "\n",
    "fig, ax = plt.subplots(2, sharex=True)\n",
    "\n",
    "sns.histplot(mkelly_vid, kde=True, bins=40, color='gray', ax=ax[0])\n",
    "sns.histplot(mkelly_txt, kde=True, bins=40, color='gray', ax=ax[1])\n",
    "\n",
    "ax[0].set_xlim(0, 1)\n",
    "ax[1].set_xlim(0, 1)\n",
    "\n",
    "ax[0].set(title='Pairwise text similarity distribution (video): Catherine Cortez Masto', xlabel='similarity score')\n",
    "ax[1].set(title='Pairwise text similarity distribution (text): Catherine Cortez Masto', xlabel='similarity score')"
   ]
  },
  {
   "cell_type": "code",
   "execution_count": null,
   "id": "2ca84f3c",
   "metadata": {},
   "outputs": [],
   "source": []
  }
 ],
 "metadata": {
  "kernelspec": {
   "display_name": "Python 3 (ipykernel)",
   "language": "python",
   "name": "python3"
  },
  "language_info": {
   "codemirror_mode": {
    "name": "ipython",
    "version": 3
   },
   "file_extension": ".py",
   "mimetype": "text/x-python",
   "name": "python",
   "nbconvert_exporter": "python",
   "pygments_lexer": "ipython3",
   "version": "3.11.4"
  }
 },
 "nbformat": 4,
 "nbformat_minor": 5
}
