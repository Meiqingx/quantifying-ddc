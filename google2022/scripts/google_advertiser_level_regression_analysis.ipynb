{
 "cells": [
  {
   "cell_type": "code",
   "execution_count": 1,
   "id": "12d9e84a",
   "metadata": {},
   "outputs": [],
   "source": [
    "import os\n",
    "import numpy as np\n",
    "import pandas as pd\n",
    "from collections import Counter\n",
    "import matplotlib.pyplot as plt\n",
    "import statsmodels.formula.api as smf\n",
    "from stargazer.stargazer import Stargazer\n",
    "from IPython.display import display, HTML"
   ]
  },
  {
   "cell_type": "markdown",
   "id": "e0a841cc",
   "metadata": {},
   "source": [
    "## Create Regression table"
   ]
  },
  {
   "cell_type": "code",
   "execution_count": 2,
   "id": "4323aae9",
   "metadata": {},
   "outputs": [],
   "source": [
    "source_path = '/home/mzhang01/google_2022/produce_complete_data/05-assemble-final-results'"
   ]
  },
  {
   "cell_type": "code",
   "execution_count": 3,
   "id": "50a1550d",
   "metadata": {},
   "outputs": [],
   "source": [
    "'''\n",
    "Import the var table with sets info\n",
    "'''\n",
    "var = pd.read_csv(os.path.join(source_path, 'g2022_adid_var_sets_072024.csv.gz'))"
   ]
  },
  {
   "cell_type": "code",
   "execution_count": 4,
   "id": "aeb369f8",
   "metadata": {},
   "outputs": [],
   "source": [
    "'''\n",
    "Filter for Gen election period and Set 3\n",
    "''' \n",
    "condition = (var.date_range_end >= '2022-09-01') & (var.date_range_start <= '2022-11-30')\n",
    "var = var[condition]\n",
    "\n",
    "var = var[var.set3 == 1]"
   ]
  },
  {
   "cell_type": "code",
   "execution_count": 5,
   "id": "fe5421bb",
   "metadata": {},
   "outputs": [
    {
     "name": "stdout",
     "output_type": "stream",
     "text": [
      "(33838, 75)\n"
     ]
    },
    {
     "data": {
      "text/plain": [
       "Index(['ad_id', 'advertiser_id', 'date_range_start', 'date_range_end',\n",
       "       'num_of_days', 'impressions', 'age_targeting', 'gender_targeting',\n",
       "       'geo_targeting_included', 'geo_targeting_excluded',\n",
       "       'spend_range_min_usd', 'spend_range_max_usd', 'aws_face_vid',\n",
       "       'aws_face_img', 'sub_bucket', 'race_of_focus', 'ad_tone_constructed',\n",
       "       'ad_tone_mentionbased', 'goal_DONATE_prediction',\n",
       "       'goal_DONATE_predicted_prob', 'goal_CONTACT_prediction',\n",
       "       'goal_CONTACT_predicted_prob', 'goal_PURCHASE_prediction',\n",
       "       'goal_PURCHASE_predicted_prob', 'goal_GOTV_prediction',\n",
       "       'goal_GOTV_predicted_prob', 'goal_EVENT_prediction',\n",
       "       'goal_EVENT_predicted_prob', 'goal_POLL_prediction',\n",
       "       'goal_POLL_predicted_prob', 'goal_GATHERINFO_prediction',\n",
       "       'goal_GATHERINFO_predicted_prob', 'goal_LEARNMORE_prediction',\n",
       "       'goal_LEARNMORE_predicted_prob', 'goal_PRIMARY_PERSUADE_prediction',\n",
       "       'goal_PRIMARY_PERSUADE_predicted_prob', 'goal_highest_prob',\n",
       "       'party_all_clf', 'prob_dem', 'prob_other', 'prob_rep',\n",
       "       'party_all_clf_adid', 'party_all_clf_adid_agg', 'party_all',\n",
       "       'detected_entities', 'field', 'detected_entities_federal',\n",
       "       'attacklike1_bert_pred', 'attacklike1_bert_prob',\n",
       "       'attacklike2_bert_pred', 'attacklike2_bert_prob',\n",
       "       'attacklike3_bert_pred', 'attacklike_senti_pred',\n",
       "       'attacklike_senti_prob', 'ABSA_number_of_mentions',\n",
       "       'ABSA_detected_entities', 'ABSA_predicted_sentiment_agg', 'aws_face',\n",
       "       'aws_face_federal', 'combined_entities_federal', 'federal_verified',\n",
       "       'issue_field', 'issue_class', 'candidate', 'federal_cd',\n",
       "       'federal_cdpty', 'wmp_spontype', 'wmp_sen', 'wmp_hse', 'wmp_gov',\n",
       "       'wmp_office', 'set3', 'set3b', 'set4', 'set4b'],\n",
       "      dtype='object')"
      ]
     },
     "execution_count": 5,
     "metadata": {},
     "output_type": "execute_result"
    }
   ],
   "source": [
    "print(var.shape)\n",
    "var.columns"
   ]
  },
  {
   "cell_type": "markdown",
   "id": "376e206e",
   "metadata": {},
   "source": [
    "### Import pairwise similarity results"
   ]
  },
  {
   "cell_type": "code",
   "execution_count": 6,
   "id": "eb3b3c39",
   "metadata": {},
   "outputs": [],
   "source": [
    "'''\n",
    "Set 3 advertiser-media level General election period data -- candidates\n",
    "'''\n",
    "df_cand = pd.read_csv('../output_data/g2022_set3_gen_elect_cand_media_level_average_pairwise_similarity.csv')\n",
    "\n",
    "'''\n",
    "Set 3 advertiser-media-race level General election period data -- non-candidate campaign sponsors\n",
    "\n",
    "'''\n",
    "df_noncand = pd.read_csv('../output_data/g2022_set3_gen_elect_noncandidate_advertiser_racefocus_media_level_average_pairwise_similarity.csv') "
   ]
  },
  {
   "cell_type": "code",
   "execution_count": 7,
   "id": "0df6fe94",
   "metadata": {},
   "outputs": [
    {
     "name": "stdout",
     "output_type": "stream",
     "text": [
      "Index(['advertiser_id', 'ad_type', 'race_of_focus', 'cids', 'num_unique',\n",
      "       'avg', 'std'],\n",
      "      dtype='object')\n"
     ]
    },
    {
     "data": {
      "text/html": [
       "<div>\n",
       "<style scoped>\n",
       "    .dataframe tbody tr th:only-of-type {\n",
       "        vertical-align: middle;\n",
       "    }\n",
       "\n",
       "    .dataframe tbody tr th {\n",
       "        vertical-align: top;\n",
       "    }\n",
       "\n",
       "    .dataframe thead th {\n",
       "        text-align: right;\n",
       "    }\n",
       "</style>\n",
       "<table border=\"1\" class=\"dataframe\">\n",
       "  <thead>\n",
       "    <tr style=\"text-align: right;\">\n",
       "      <th></th>\n",
       "      <th>advertiser_id</th>\n",
       "      <th>ad_type</th>\n",
       "      <th>race_of_focus</th>\n",
       "      <th>cids</th>\n",
       "      <th>num_unique</th>\n",
       "      <th>avg</th>\n",
       "      <th>std</th>\n",
       "    </tr>\n",
       "  </thead>\n",
       "  <tbody>\n",
       "    <tr>\n",
       "      <th>0</th>\n",
       "      <td>AR00035659773428891649</td>\n",
       "      <td>IMAGE</td>\n",
       "      <td>LA00</td>\n",
       "      <td>cid_5428 cid_5432</td>\n",
       "      <td>2</td>\n",
       "      <td>0.781259</td>\n",
       "      <td>0.0</td>\n",
       "    </tr>\n",
       "    <tr>\n",
       "      <th>1</th>\n",
       "      <td>AR00170851600011624449</td>\n",
       "      <td>IMAGE</td>\n",
       "      <td>MD01</td>\n",
       "      <td>cid_650 cid_652</td>\n",
       "      <td>2</td>\n",
       "      <td>0.116210</td>\n",
       "      <td>0.0</td>\n",
       "    </tr>\n",
       "  </tbody>\n",
       "</table>\n",
       "</div>"
      ],
      "text/plain": [
       "            advertiser_id ad_type race_of_focus               cids  \\\n",
       "0  AR00035659773428891649   IMAGE          LA00  cid_5428 cid_5432   \n",
       "1  AR00170851600011624449   IMAGE          MD01    cid_650 cid_652   \n",
       "\n",
       "   num_unique       avg  std  \n",
       "0           2  0.781259  0.0  \n",
       "1           2  0.116210  0.0  "
      ]
     },
     "execution_count": 7,
     "metadata": {},
     "output_type": "execute_result"
    }
   ],
   "source": [
    "print(df_noncand.columns)\n",
    "df_noncand.head(2)"
   ]
  },
  {
   "cell_type": "code",
   "execution_count": 8,
   "id": "34005619",
   "metadata": {},
   "outputs": [],
   "source": [
    "all_sponsor_ids = df_cand.advertiser_id.tolist() + df_noncand.advertiser_id.tolist()"
   ]
  },
  {
   "cell_type": "code",
   "execution_count": 9,
   "id": "59ef4fa5",
   "metadata": {},
   "outputs": [],
   "source": [
    "var = var[var.advertiser_id.isin(all_sponsor_ids)]"
   ]
  },
  {
   "cell_type": "code",
   "execution_count": 10,
   "id": "95504642",
   "metadata": {},
   "outputs": [],
   "source": [
    "'''\n",
    "Import \"text\" table to get \"ad_type\"\n",
    "\n",
    "'''\n",
    "text_table_path = os.path.join(source_path, 'g2022_adid_01062021_11082022_text_v20240115.csv.gz')\n",
    "text = pd.read_csv(text_table_path, usecols=['ad_id', 'ad_type', 'advertiser_name'])"
   ]
  },
  {
   "cell_type": "code",
   "execution_count": 11,
   "id": "a1fb0cf6",
   "metadata": {},
   "outputs": [],
   "source": [
    "var = var.merge(text, how='left', on='ad_id').drop_duplicates()"
   ]
  },
  {
   "cell_type": "markdown",
   "id": "61f3fc2e",
   "metadata": {},
   "source": [
    "### Process/explore variables"
   ]
  },
  {
   "cell_type": "markdown",
   "id": "2afe5b13",
   "metadata": {},
   "source": [
    "**Party variables**"
   ]
  },
  {
   "cell_type": "code",
   "execution_count": 12,
   "id": "b92b22e5",
   "metadata": {},
   "outputs": [
    {
     "name": "stdout",
     "output_type": "stream",
     "text": [
      "0.7138040760663686\n"
     ]
    },
    {
     "data": {
      "text/plain": [
       "0.8854545454545455"
      ]
     },
     "execution_count": 12,
     "metadata": {},
     "output_type": "execute_result"
    }
   ],
   "source": [
    "'''\n",
    "Count percentage of sponsors we need to infer party affiliation\n",
    "'''\n",
    "print(var[pd.isna(var.party_all)].shape[0]/var.shape[0])\n",
    "\n",
    "len(var[pd.isna(var.party_all)].groupby('advertiser_id')[['party_all']].first().reset_index().advertiser_id.unique())/len(var.advertiser_id.unique())"
   ]
  },
  {
   "cell_type": "code",
   "execution_count": 13,
   "id": "e59fbcb9",
   "metadata": {},
   "outputs": [],
   "source": [
    "var['party_pdid_opt'] = np.where(pd.isna(var.party_all), var.party_all_clf, var.party_all)"
   ]
  },
  {
   "cell_type": "markdown",
   "id": "4e8cd43f",
   "metadata": {},
   "source": [
    "**Race competitiveness**: \n",
    "\n",
    "SD: safe Dem\n",
    "DF: Dem favored\n",
    "LD: Lean Dem\n",
    "C: Too-close-to-call\n",
    "LR: Lean Republican\n",
    "RF: Republican favored\n",
    "SR: Safe Republican\n",
    " \n",
    "The SD and SR races are coded 1 in house2 (least competitive)\n",
    "DF and RF are coded 2\n",
    "LD and LR are coded 3\n",
    "C is coded 4 (most competitive)"
   ]
  },
  {
   "cell_type": "code",
   "execution_count": 14,
   "id": "eb5d6d35",
   "metadata": {},
   "outputs": [],
   "source": [
    "# load race competitiveness index file\n",
    "race = pd.read_csv('../../race_competitiveness.csv')"
   ]
  },
  {
   "cell_type": "code",
   "execution_count": 15,
   "id": "0f5b783f",
   "metadata": {},
   "outputs": [],
   "source": [
    "var = var.merge(race[['race_code','race_competitiveness']], how='left', left_on='race_of_focus', right_on='race_code')"
   ]
  },
  {
   "cell_type": "code",
   "execution_count": 50,
   "id": "b924c3c7",
   "metadata": {},
   "outputs": [
    {
     "data": {
      "text/plain": [
       "0        4.0\n",
       "1        4.0\n",
       "2        NaN\n",
       "3        NaN\n",
       "4        NaN\n",
       "        ... \n",
       "26393    2.0\n",
       "26394    2.0\n",
       "26395    4.0\n",
       "26396    4.0\n",
       "26397    4.0\n",
       "Name: race_competitiveness, Length: 26398, dtype: float64"
      ]
     },
     "execution_count": 50,
     "metadata": {},
     "output_type": "execute_result"
    }
   ],
   "source": [
    "var.race_competitiveness"
   ]
  },
  {
   "cell_type": "markdown",
   "id": "98563964",
   "metadata": {},
   "source": [
    "**campaign resources**"
   ]
  },
  {
   "cell_type": "code",
   "execution_count": 16,
   "id": "f2859da6",
   "metadata": {},
   "outputs": [],
   "source": [
    "cost = pd.read_csv('../input_data/campaign_resource_gg2022.csv')"
   ]
  },
  {
   "cell_type": "code",
   "execution_count": 17,
   "id": "b6929f8d",
   "metadata": {},
   "outputs": [],
   "source": [
    "'''\n",
    "Merge to candidate and non-candidate tables\n",
    "'''\n",
    "df_cand = df_cand.merge(cost[['advertiser_id', 'estcost']], on='advertiser_id', how='left')\n",
    "df_noncand = df_noncand.merge(cost[['advertiser_id', 'estcost']], on='advertiser_id', how='left')"
   ]
  },
  {
   "cell_type": "code",
   "execution_count": 18,
   "id": "b52b3ec2",
   "metadata": {},
   "outputs": [],
   "source": [
    "'''\n",
    "Magnitude of estimated cost is too large and nonlinear distribution --> no effects in models\n",
    "Use logs\n",
    "'''\n",
    "\n",
    "df_cand['estcost'] = np.log(df_cand.estcost)\n",
    "df_noncand['estcost'] = np.log(df_cand.estcost)"
   ]
  },
  {
   "cell_type": "markdown",
   "id": "1eb82298",
   "metadata": {},
   "source": [
    "### Select regression variables"
   ]
  },
  {
   "cell_type": "code",
   "execution_count": 19,
   "id": "698ca4d0",
   "metadata": {},
   "outputs": [],
   "source": [
    "# Select variables for regression\n",
    "cols = ['advertiser_id', 'ad_type', 'race_of_focus', 'race_competitiveness', 'party_pdid_opt',\n",
    "        'wmp_spontype', 'wmp_sen', 'wmp_hse']"
   ]
  },
  {
   "cell_type": "code",
   "execution_count": 20,
   "id": "8605c3c0",
   "metadata": {},
   "outputs": [],
   "source": [
    "data = var[cols]"
   ]
  },
  {
   "cell_type": "code",
   "execution_count": 21,
   "id": "dd6d1092",
   "metadata": {},
   "outputs": [
    {
     "data": {
      "text/plain": [
       "(26398, 8)"
      ]
     },
     "execution_count": 21,
     "metadata": {},
     "output_type": "execute_result"
    }
   ],
   "source": [
    "data.shape"
   ]
  },
  {
   "cell_type": "code",
   "execution_count": 22,
   "id": "38c2d912",
   "metadata": {},
   "outputs": [
    {
     "data": {
      "text/html": [
       "<div>\n",
       "<style scoped>\n",
       "    .dataframe tbody tr th:only-of-type {\n",
       "        vertical-align: middle;\n",
       "    }\n",
       "\n",
       "    .dataframe tbody tr th {\n",
       "        vertical-align: top;\n",
       "    }\n",
       "\n",
       "    .dataframe thead th {\n",
       "        text-align: right;\n",
       "    }\n",
       "</style>\n",
       "<table border=\"1\" class=\"dataframe\">\n",
       "  <thead>\n",
       "    <tr style=\"text-align: right;\">\n",
       "      <th></th>\n",
       "      <th>advertiser_id</th>\n",
       "      <th>ad_type</th>\n",
       "      <th>race_of_focus</th>\n",
       "      <th>race_competitiveness</th>\n",
       "      <th>party_pdid_opt</th>\n",
       "      <th>wmp_spontype</th>\n",
       "      <th>wmp_sen</th>\n",
       "      <th>wmp_hse</th>\n",
       "    </tr>\n",
       "  </thead>\n",
       "  <tbody>\n",
       "    <tr>\n",
       "      <th>0</th>\n",
       "      <td>AR05827288894227349505</td>\n",
       "      <td>VIDEO</td>\n",
       "      <td>CA13</td>\n",
       "      <td>4.0</td>\n",
       "      <td>DEM</td>\n",
       "      <td>campaign</td>\n",
       "      <td>0.0</td>\n",
       "      <td>1.0</td>\n",
       "    </tr>\n",
       "    <tr>\n",
       "      <th>1</th>\n",
       "      <td>AR05827288894227349505</td>\n",
       "      <td>VIDEO</td>\n",
       "      <td>CA13</td>\n",
       "      <td>4.0</td>\n",
       "      <td>DEM</td>\n",
       "      <td>campaign</td>\n",
       "      <td>0.0</td>\n",
       "      <td>1.0</td>\n",
       "    </tr>\n",
       "  </tbody>\n",
       "</table>\n",
       "</div>"
      ],
      "text/plain": [
       "            advertiser_id ad_type race_of_focus  race_competitiveness  \\\n",
       "0  AR05827288894227349505   VIDEO          CA13                   4.0   \n",
       "1  AR05827288894227349505   VIDEO          CA13                   4.0   \n",
       "\n",
       "  party_pdid_opt wmp_spontype  wmp_sen  wmp_hse  \n",
       "0            DEM     campaign      0.0      1.0  \n",
       "1            DEM     campaign      0.0      1.0  "
      ]
     },
     "execution_count": 22,
     "metadata": {},
     "output_type": "execute_result"
    }
   ],
   "source": [
    "data.head(2)"
   ]
  },
  {
   "cell_type": "markdown",
   "id": "1bd86433",
   "metadata": {},
   "source": [
    "### Process regression variables"
   ]
  },
  {
   "cell_type": "code",
   "execution_count": 23,
   "id": "67714a5a",
   "metadata": {},
   "outputs": [
    {
     "data": {
      "text/plain": [
       "array(['campaign', 'group', 'unclear could be campaign', 'party national',\n",
       "       'government agency', 'party', 'government official'], dtype=object)"
      ]
     },
     "execution_count": 23,
     "metadata": {},
     "output_type": "execute_result"
    }
   ],
   "source": [
    "data.wmp_spontype.unique()"
   ]
  },
  {
   "cell_type": "code",
   "execution_count": 24,
   "id": "79021c4e",
   "metadata": {
    "scrolled": true
   },
   "outputs": [
    {
     "name": "stderr",
     "output_type": "stream",
     "text": [
      "/tmp/ipykernel_25581/334181364.py:1: SettingWithCopyWarning: \n",
      "A value is trying to be set on a copy of a slice from a DataFrame.\n",
      "Try using .loc[row_indexer,col_indexer] = value instead\n",
      "\n",
      "See the caveats in the documentation: https://pandas.pydata.org/pandas-docs/stable/user_guide/indexing.html#returning-a-view-versus-a-copy\n",
      "  data['image'] = np.where((data.ad_type == 'VIDEO'), 1, 0)\n",
      "/tmp/ipykernel_25581/334181364.py:2: SettingWithCopyWarning: \n",
      "A value is trying to be set on a copy of a slice from a DataFrame.\n",
      "Try using .loc[row_indexer,col_indexer] = value instead\n",
      "\n",
      "See the caveats in the documentation: https://pandas.pydata.org/pandas-docs/stable/user_guide/indexing.html#returning-a-view-versus-a-copy\n",
      "  data['video'] = np.where((data.ad_type == 'IMAGE'), 1, 0)\n",
      "/tmp/ipykernel_25581/334181364.py:4: SettingWithCopyWarning: \n",
      "A value is trying to be set on a copy of a slice from a DataFrame.\n",
      "Try using .loc[row_indexer,col_indexer] = value instead\n",
      "\n",
      "See the caveats in the documentation: https://pandas.pydata.org/pandas-docs/stable/user_guide/indexing.html#returning-a-view-versus-a-copy\n",
      "  data['party'] = np.where((data.wmp_spontype == 'party') | (data.wmp_spontype == 'party national'), 1, 0)\n",
      "/tmp/ipykernel_25581/334181364.py:5: SettingWithCopyWarning: \n",
      "A value is trying to be set on a copy of a slice from a DataFrame.\n",
      "Try using .loc[row_indexer,col_indexer] = value instead\n",
      "\n",
      "See the caveats in the documentation: https://pandas.pydata.org/pandas-docs/stable/user_guide/indexing.html#returning-a-view-versus-a-copy\n",
      "  data['group'] = np.where(data.wmp_spontype == 'group', 1, 0)\n",
      "/tmp/ipykernel_25581/334181364.py:6: SettingWithCopyWarning: \n",
      "A value is trying to be set on a copy of a slice from a DataFrame.\n",
      "Try using .loc[row_indexer,col_indexer] = value instead\n",
      "\n",
      "See the caveats in the documentation: https://pandas.pydata.org/pandas-docs/stable/user_guide/indexing.html#returning-a-view-versus-a-copy\n",
      "  data['government'] = np.where(data.wmp_spontype.isin(['government agency', 'government official']), 1, 0)\n",
      "/tmp/ipykernel_25581/334181364.py:8: SettingWithCopyWarning: \n",
      "A value is trying to be set on a copy of a slice from a DataFrame.\n",
      "Try using .loc[row_indexer,col_indexer] = value instead\n",
      "\n",
      "See the caveats in the documentation: https://pandas.pydata.org/pandas-docs/stable/user_guide/indexing.html#returning-a-view-versus-a-copy\n",
      "  data['Democratic'] = np.where(data.party_pdid_opt == 'DEM', 1, 0)\n",
      "/tmp/ipykernel_25581/334181364.py:9: SettingWithCopyWarning: \n",
      "A value is trying to be set on a copy of a slice from a DataFrame.\n",
      "Try using .loc[row_indexer,col_indexer] = value instead\n",
      "\n",
      "See the caveats in the documentation: https://pandas.pydata.org/pandas-docs/stable/user_guide/indexing.html#returning-a-view-versus-a-copy\n",
      "  data['third_party'] = np.where(data.party_pdid_opt == 'OTHER', 1, 0)\n",
      "/tmp/ipykernel_25581/334181364.py:11: SettingWithCopyWarning: \n",
      "A value is trying to be set on a copy of a slice from a DataFrame.\n",
      "Try using .loc[row_indexer,col_indexer] = value instead\n",
      "\n",
      "See the caveats in the documentation: https://pandas.pydata.org/pandas-docs/stable/user_guide/indexing.html#returning-a-view-versus-a-copy\n",
      "  data.loc[:, 'race_of_focus'] = data.race_of_focus.fillna('')\n",
      "/tmp/ipykernel_25581/334181364.py:12: SettingWithCopyWarning: \n",
      "A value is trying to be set on a copy of a slice from a DataFrame.\n",
      "Try using .loc[row_indexer,col_indexer] = value instead\n",
      "\n",
      "See the caveats in the documentation: https://pandas.pydata.org/pandas-docs/stable/user_guide/indexing.html#returning-a-view-versus-a-copy\n",
      "  data['senate'] = np.where((data.wmp_sen == 1) | (data.race_of_focus.str.endswith('S0')), 1, 0)\n"
     ]
    }
   ],
   "source": [
    "data['image'] = np.where((data.ad_type == 'VIDEO'), 1, 0)\n",
    "data['video'] = np.where((data.ad_type == 'IMAGE'), 1, 0)\n",
    "\n",
    "data['party'] = np.where((data.wmp_spontype == 'party') | (data.wmp_spontype == 'party national'), 1, 0)\n",
    "data['group'] = np.where(data.wmp_spontype == 'group', 1, 0)\n",
    "data['government'] = np.where(data.wmp_spontype.isin(['government agency', 'government official']), 1, 0)\n",
    "\n",
    "data['Democratic'] = np.where(data.party_pdid_opt == 'DEM', 1, 0) \n",
    "data['third_party'] = np.where(data.party_pdid_opt == 'OTHER', 1, 0) \n",
    "\n",
    "data.loc[:, 'race_of_focus'] = data.race_of_focus.fillna('')\n",
    "data['senate'] = np.where((data.wmp_sen == 1) | (data.race_of_focus.str.endswith('S0')), 1, 0)"
   ]
  },
  {
   "cell_type": "code",
   "execution_count": 26,
   "id": "7f4c5139",
   "metadata": {},
   "outputs": [],
   "source": [
    "# aggregate at the advertiser level\n",
    "agg = data.groupby(['advertiser_id', 'ad_type']).mean(numeric_only=True).reset_index()"
   ]
  },
  {
   "cell_type": "markdown",
   "id": "929cf986",
   "metadata": {},
   "source": [
    "### Candidates regression table"
   ]
  },
  {
   "cell_type": "code",
   "execution_count": 27,
   "id": "9e88c7d7",
   "metadata": {},
   "outputs": [],
   "source": [
    "df_cand = df_cand.merge(agg, on=['advertiser_id', 'ad_type'], how='left')"
   ]
  },
  {
   "cell_type": "code",
   "execution_count": 28,
   "id": "87e0dd68",
   "metadata": {},
   "outputs": [],
   "source": [
    "df_cand.rename(columns={'avg': 'AverageSimilarity'}, inplace=True)"
   ]
  },
  {
   "cell_type": "code",
   "execution_count": 29,
   "id": "e9822f35",
   "metadata": {},
   "outputs": [],
   "source": [
    "df_cand['candidate'] = 1"
   ]
  },
  {
   "cell_type": "code",
   "execution_count": 30,
   "id": "7bae526a",
   "metadata": {},
   "outputs": [
    {
     "data": {
      "text/plain": [
       "Index(['advertiser_id', 'ad_type', 'cids', 'AverageSimilarity', 'std',\n",
       "       'num_unique', 'estcost', 'race_competitiveness', 'wmp_sen', 'wmp_hse',\n",
       "       'image', 'video', 'party', 'group', 'government', 'Democratic',\n",
       "       'third_party', 'senate', 'candidate'],\n",
       "      dtype='object')"
      ]
     },
     "execution_count": 30,
     "metadata": {},
     "output_type": "execute_result"
    }
   ],
   "source": [
    "df_cand.columns"
   ]
  },
  {
   "cell_type": "code",
   "execution_count": 31,
   "id": "0457d045",
   "metadata": {},
   "outputs": [
    {
     "data": {
      "text/plain": [
       "(506, 19)"
      ]
     },
     "execution_count": 31,
     "metadata": {},
     "output_type": "execute_result"
    }
   ],
   "source": [
    "df_cand.shape"
   ]
  },
  {
   "cell_type": "markdown",
   "id": "ae2ca041",
   "metadata": {},
   "source": [
    "### Non-candidates regression table"
   ]
  },
  {
   "cell_type": "code",
   "execution_count": 32,
   "id": "b9f78ba1",
   "metadata": {},
   "outputs": [],
   "source": [
    "'''\n",
    "Get variables for regression table for non-candidate sponsors (grouped by race of focus)\n",
    "\n",
    "Aggregate at advertiser_id, ad_type, race_of_focus level\n",
    "'''\n",
    " \n",
    "agg2 = data.groupby(['advertiser_id', 'ad_type', 'race_of_focus']).mean(numeric_only=True).reset_index()"
   ]
  },
  {
   "cell_type": "code",
   "execution_count": 33,
   "id": "731e4798",
   "metadata": {},
   "outputs": [],
   "source": [
    "df_noncand = df_noncand.merge(agg2, on=['advertiser_id', 'ad_type', 'race_of_focus'], how='left')\n",
    "\n",
    "df_noncand.rename(columns={'avg': 'AverageSimilarity'}, inplace=True)"
   ]
  },
  {
   "cell_type": "code",
   "execution_count": 34,
   "id": "f537e4fa",
   "metadata": {},
   "outputs": [],
   "source": [
    "df_noncand['candidate'] = 0"
   ]
  },
  {
   "cell_type": "code",
   "execution_count": 35,
   "id": "870eb97f",
   "metadata": {},
   "outputs": [
    {
     "data": {
      "text/plain": [
       "Index(['advertiser_id', 'ad_type', 'race_of_focus', 'cids', 'num_unique',\n",
       "       'AverageSimilarity', 'std', 'estcost', 'race_competitiveness',\n",
       "       'wmp_sen', 'wmp_hse', 'image', 'video', 'party', 'group', 'government',\n",
       "       'Democratic', 'third_party', 'senate', 'candidate'],\n",
       "      dtype='object')"
      ]
     },
     "execution_count": 35,
     "metadata": {},
     "output_type": "execute_result"
    }
   ],
   "source": [
    "df_noncand.columns"
   ]
  },
  {
   "cell_type": "code",
   "execution_count": 37,
   "id": "5631b9b7",
   "metadata": {},
   "outputs": [
    {
     "data": {
      "text/plain": [
       "(688, 20)"
      ]
     },
     "execution_count": 37,
     "metadata": {},
     "output_type": "execute_result"
    }
   ],
   "source": [
    "df_noncand.shape"
   ]
  },
  {
   "cell_type": "markdown",
   "id": "134a5d23",
   "metadata": {},
   "source": [
    "### Combine candidates only and non-candidates sponsors grouped by race of focus"
   ]
  },
  {
   "cell_type": "code",
   "execution_count": 39,
   "id": "362dfdcc",
   "metadata": {},
   "outputs": [],
   "source": [
    "df = pd.concat([df_cand, df_noncand.drop(\"race_of_focus\", axis=1)])"
   ]
  },
  {
   "cell_type": "code",
   "execution_count": 40,
   "id": "29a150ba",
   "metadata": {},
   "outputs": [],
   "source": [
    "# 2022 general election cycle: Sept ~ Nov 2022\n",
    "df.to_csv('../input_data/gg_regression_table_for_descriptives.csv', index=False)"
   ]
  },
  {
   "cell_type": "code",
   "execution_count": 118,
   "id": "a96721cc",
   "metadata": {},
   "outputs": [
    {
     "data": {
      "text/plain": [
       "Index(['advertiser_id', 'ad_type', 'cids', 'AverageSimilarity', 'std',\n",
       "       'num_unique', 'estcost', 'race_competitiveness', 'wmp_sen', 'wmp_hse',\n",
       "       'image', 'video', 'party', 'group', 'government', 'Democratic',\n",
       "       'third_party', 'senate', 'candidate'],\n",
       "      dtype='object')"
      ]
     },
     "execution_count": 118,
     "metadata": {},
     "output_type": "execute_result"
    }
   ],
   "source": [
    "df.columns"
   ]
  },
  {
   "cell_type": "markdown",
   "id": "63694cae",
   "metadata": {},
   "source": [
    "## Import created regression table directly"
   ]
  },
  {
   "cell_type": "code",
   "execution_count": 4,
   "id": "26990a5b",
   "metadata": {},
   "outputs": [],
   "source": [
    "df = pd.read_csv('../input_data/gg_regression_table_for_descriptives.csv')"
   ]
  },
  {
   "cell_type": "code",
   "execution_count": 5,
   "id": "cdd30c9b",
   "metadata": {},
   "outputs": [
    {
     "data": {
      "text/plain": [
       "(1194, 19)"
      ]
     },
     "execution_count": 5,
     "metadata": {},
     "output_type": "execute_result"
    }
   ],
   "source": [
    "df.shape"
   ]
  },
  {
   "cell_type": "code",
   "execution_count": 6,
   "id": "32ff2e9a",
   "metadata": {},
   "outputs": [],
   "source": [
    "df_cand = df[df.candidate == 1]"
   ]
  },
  {
   "cell_type": "markdown",
   "id": "047850d0",
   "metadata": {},
   "source": [
    "### Subset of sponsors who invested in TV ads"
   ]
  },
  {
   "cell_type": "code",
   "execution_count": 41,
   "id": "9f59d350",
   "metadata": {},
   "outputs": [],
   "source": [
    "df.rename(columns={'estcost': 'log_estimated_cost'}, inplace=True)"
   ]
  },
  {
   "cell_type": "code",
   "execution_count": 42,
   "id": "1eee8e4c",
   "metadata": {},
   "outputs": [],
   "source": [
    "df_cost = df[~pd.isna(df.log_estimated_cost)]"
   ]
  },
  {
   "cell_type": "code",
   "execution_count": 43,
   "id": "25d8cd0e",
   "metadata": {},
   "outputs": [
    {
     "name": "stdout",
     "output_type": "stream",
     "text": [
      "(1194, 19)\n",
      "(728, 19)\n"
     ]
    }
   ],
   "source": [
    "print(df.shape)\n",
    "print(df_cost.shape)"
   ]
  },
  {
   "cell_type": "code",
   "execution_count": 44,
   "id": "985d6888",
   "metadata": {},
   "outputs": [
    {
     "name": "stdout",
     "output_type": "stream",
     "text": [
      "(364, 19)\n"
     ]
    }
   ],
   "source": [
    "df_cand_cost = df_cost[(df_cost.candidate == 1)]\n",
    "print(df_cand_cost.shape)"
   ]
  },
  {
   "cell_type": "markdown",
   "id": "5127c30e",
   "metadata": {},
   "source": [
    "## Create DV (Sophistication index)"
   ]
  },
  {
   "cell_type": "code",
   "execution_count": 45,
   "id": "7b2e530a",
   "metadata": {},
   "outputs": [],
   "source": [
    "def create_sophistication_index(input_df):\n",
    "    max_ = input_df.num_unique.max()\n",
    "    min_ = input_df.num_unique.min()\n",
    "    input_df['num_unique_normalized'] = (input_df.num_unique - min_)/(max_ - min_)\n",
    "    input_df['sophistication_index'] = input_df['num_unique_normalized'] * (1 - input_df.AverageSimilarity)\n",
    "    return input_df"
   ]
  },
  {
   "cell_type": "code",
   "execution_count": 46,
   "id": "7ea1f5cb",
   "metadata": {
    "scrolled": true
   },
   "outputs": [],
   "source": [
    "df = create_sophistication_index(df)\n",
    "df_cand = create_sophistication_index(df_cand)"
   ]
  },
  {
   "cell_type": "code",
   "execution_count": 47,
   "id": "87eecd4c",
   "metadata": {
    "scrolled": true
   },
   "outputs": [
    {
     "name": "stderr",
     "output_type": "stream",
     "text": [
      "/tmp/ipykernel_25581/1499460830.py:4: SettingWithCopyWarning: \n",
      "A value is trying to be set on a copy of a slice from a DataFrame.\n",
      "Try using .loc[row_indexer,col_indexer] = value instead\n",
      "\n",
      "See the caveats in the documentation: https://pandas.pydata.org/pandas-docs/stable/user_guide/indexing.html#returning-a-view-versus-a-copy\n",
      "  input_df['num_unique_normalized'] = (input_df.num_unique - min_)/(max_ - min_)\n",
      "/tmp/ipykernel_25581/1499460830.py:5: SettingWithCopyWarning: \n",
      "A value is trying to be set on a copy of a slice from a DataFrame.\n",
      "Try using .loc[row_indexer,col_indexer] = value instead\n",
      "\n",
      "See the caveats in the documentation: https://pandas.pydata.org/pandas-docs/stable/user_guide/indexing.html#returning-a-view-versus-a-copy\n",
      "  input_df['sophistication_index'] = input_df['num_unique_normalized'] * (1 - input_df.AverageSimilarity)\n",
      "/tmp/ipykernel_25581/1499460830.py:4: SettingWithCopyWarning: \n",
      "A value is trying to be set on a copy of a slice from a DataFrame.\n",
      "Try using .loc[row_indexer,col_indexer] = value instead\n",
      "\n",
      "See the caveats in the documentation: https://pandas.pydata.org/pandas-docs/stable/user_guide/indexing.html#returning-a-view-versus-a-copy\n",
      "  input_df['num_unique_normalized'] = (input_df.num_unique - min_)/(max_ - min_)\n",
      "/tmp/ipykernel_25581/1499460830.py:5: SettingWithCopyWarning: \n",
      "A value is trying to be set on a copy of a slice from a DataFrame.\n",
      "Try using .loc[row_indexer,col_indexer] = value instead\n",
      "\n",
      "See the caveats in the documentation: https://pandas.pydata.org/pandas-docs/stable/user_guide/indexing.html#returning-a-view-versus-a-copy\n",
      "  input_df['sophistication_index'] = input_df['num_unique_normalized'] * (1 - input_df.AverageSimilarity)\n"
     ]
    }
   ],
   "source": [
    "df_cost = create_sophistication_index(df_cost)\n",
    "df_cand_cost = create_sophistication_index(df_cand_cost)"
   ]
  },
  {
   "cell_type": "markdown",
   "id": "07cf2224",
   "metadata": {},
   "source": [
    "## Regression"
   ]
  },
  {
   "cell_type": "markdown",
   "id": "03c06fe8",
   "metadata": {},
   "source": [
    "### DV: sophistication index"
   ]
  },
  {
   "cell_type": "code",
   "execution_count": 78,
   "id": "4d7d5684",
   "metadata": {},
   "outputs": [],
   "source": [
    "import statsmodels.api as sm"
   ]
  },
  {
   "cell_type": "code",
   "execution_count": 48,
   "id": "a417ccd4",
   "metadata": {
    "scrolled": true
   },
   "outputs": [],
   "source": [
    "df_cand = df_cand.drop_duplicates(subset=['advertiser_id', 'ad_type', 'sophistication_index'])"
   ]
  },
  {
   "cell_type": "code",
   "execution_count": 60,
   "id": "1df43a3d",
   "metadata": {},
   "outputs": [],
   "source": [
    "rename_labels = {'senate': 'Senate', 'race_competitiveness': 'Race competitiveness', \n",
    "                  'third_party': 'Third party', \n",
    "                 'log_estimated_cost': 'TV ad spending (logged)', \n",
    "                 'party': 'Party', 'group': 'Group', \n",
    "                 'government': 'Other sponsor type',\n",
    "                 'image': 'Image', 'video': 'Video',}"
   ]
  },
  {
   "cell_type": "code",
   "execution_count": 55,
   "id": "a2bb8833",
   "metadata": {},
   "outputs": [],
   "source": [
    "# for house/senate candidates only \n",
    "form1 = \"sophistication_index ~ senate + race_competitiveness \\\n",
    "        + Democratic + third_party + video + image\"\n",
    "\n",
    "form2 = \"sophistication_index ~ senate + race_competitiveness \\\n",
    "        + Democratic + third_party + log_estimated_cost \\\n",
    "        + video + image\"\n",
    "\n",
    "model1 = smf.ols(formula=form1, data=df_cand).fit()\n",
    "model2 = smf.ols(formula=form2, data=df_cand_cost).fit()"
   ]
  },
  {
   "cell_type": "code",
   "execution_count": 56,
   "id": "ea39b282",
   "metadata": {
    "scrolled": true
   },
   "outputs": [
    {
     "data": {
      "text/html": [
       "<table style=\"text-align:center\"><tr><td colspan=\"3\" style=\"border-bottom: 1px solid black\"></td></tr>\n",
       "<tr><td style=\"text-align:left\"></td><td colspan=\"2\"><em>Dependent variable: sophistication_index</em></td></tr><tr><td style=\"text-align:left\"></td><tr><td style=\"text-align:left\"></td><td>(1)</td><td>(2)</td></tr>\n",
       "<tr><td colspan=\"3\" style=\"border-bottom: 1px solid black\"></td></tr>\n",
       "\n",
       "<tr><td style=\"text-align:left\">Senate</td><td>0.062<sup>***</sup></td><td>0.050<sup>***</sup></td></tr>\n",
       "<tr><td style=\"text-align:left\"></td><td>(0.009)</td><td>(0.012)</td></tr>\n",
       "<tr><td style=\"text-align:left\">Race competitiveness</td><td>0.006<sup>***</sup></td><td>0.002<sup></sup></td></tr>\n",
       "<tr><td style=\"text-align:left\"></td><td>(0.002)</td><td>(0.003)</td></tr>\n",
       "<tr><td style=\"text-align:left\">Democratic</td><td>0.009<sup>*</sup></td><td>0.010<sup></sup></td></tr>\n",
       "<tr><td style=\"text-align:left\"></td><td>(0.005)</td><td>(0.006)</td></tr>\n",
       "<tr><td style=\"text-align:left\">Third party</td><td>-0.000<sup>***</sup></td><td>-0.000<sup></sup></td></tr>\n",
       "<tr><td style=\"text-align:left\"></td><td>(0.000)</td><td>(0.000)</td></tr>\n",
       "<tr><td style=\"text-align:left\">TV ad spending (logged)</td><td></td><td>0.009<sup>***</sup></td></tr>\n",
       "<tr><td style=\"text-align:left\"></td><td></td><td>(0.003)</td></tr>\n",
       "<tr><td style=\"text-align:left\">Video</td><td>0.036<sup>***</sup></td><td>0.064<sup>***</sup></td></tr>\n",
       "<tr><td style=\"text-align:left\"></td><td>(0.010)</td><td>(0.016)</td></tr>\n",
       "<tr><td style=\"text-align:left\">Image</td><td>0.011<sup>**</sup></td><td>0.015<sup>**</sup></td></tr>\n",
       "<tr><td style=\"text-align:left\"></td><td>(0.005)</td><td>(0.007)</td></tr>\n",
       "<tr><td style=\"text-align:left\">Intercept</td><td>-0.008<sup></sup></td><td>-0.114<sup>***</sup></td></tr>\n",
       "<tr><td style=\"text-align:left\"></td><td>(0.006)</td><td>(0.031)</td></tr>\n",
       "\n",
       "<td colspan=\"3\" style=\"border-bottom: 1px solid black\"></td></tr>\n",
       "<tr><td style=\"text-align: left\">Observations</td><td>321</td><td>231</td></tr><tr><td style=\"text-align: left\">R<sup>2</sup></td><td>0.173</td><td>0.242</td></tr><tr><td style=\"text-align: left\">Adjusted R<sup>2</sup></td><td>0.160</td><td>0.222</td></tr><tr><td style=\"text-align: left\">Residual Std. Error</td><td>0.043 (df=315)</td><td>0.048 (df=224)</td></tr><tr><td style=\"text-align: left\">F Statistic</td><td>13.185<sup>***</sup> (df=5; 315)</td><td>11.924<sup>***</sup> (df=6; 224)</td></tr>\n",
       "<tr><td colspan=\"3\" style=\"border-bottom: 1px solid black\"></td></tr><tr><td style=\"text-align: left\">Note:</td><td colspan=\"2\" style=\"text-align: right\"><sup>*</sup>p&lt;0.1; <sup>**</sup>p&lt;0.05; <sup>***</sup>p&lt;0.01</td></tr></table>"
      ],
      "text/plain": [
       "<IPython.core.display.HTML object>"
      ]
     },
     "metadata": {},
     "output_type": "display_data"
    }
   ],
   "source": [
    "# DV: sophistication index, Candidates Only\n",
    "'''\n",
    "Current display is general election period. \n",
    "'''\n",
    "cov_order = ['senate', 'race_competitiveness',\n",
    "             'Democratic', 'third_party', 'log_estimated_cost', \n",
    "             'video', 'image', 'Intercept'] \n",
    "\n",
    "stargazer = Stargazer([model1, model2])\n",
    "stargazer.covariate_order(cov_order)\n",
    "stargazer.rename_covariates(rename_labels)\n",
    "display(HTML(stargazer.render_html()))"
   ]
  },
  {
   "cell_type": "code",
   "execution_count": 61,
   "id": "1f3cbed8",
   "metadata": {},
   "outputs": [],
   "source": [
    "# for all sponsors, non-campaign sponsors grouped by race of focus\n",
    "form3 = \"sophistication_index ~ senate + party + group + government + race_competitiveness \\\n",
    "        + Democratic + third_party + video + image\"\n",
    "\n",
    "form4 = \"sophistication_index ~ senate + party + group + government + race_competitiveness \\\n",
    "        + Democratic + third_party + log_estimated_cost \\\n",
    "        + video + image\"\n",
    "\n",
    "model3 = smf.ols(formula=form3, data=df).fit()\n",
    "model4 = smf.ols(formula=form4, data=df_cost).fit()"
   ]
  },
  {
   "cell_type": "code",
   "execution_count": 63,
   "id": "969061a0",
   "metadata": {
    "scrolled": true
   },
   "outputs": [
    {
     "data": {
      "text/html": [
       "<table style=\"text-align:center\"><tr><td colspan=\"3\" style=\"border-bottom: 1px solid black\"></td></tr>\n",
       "<tr><td style=\"text-align:left\"></td><td colspan=\"2\"><em>Dependent variable: sophistication_index</em></td></tr><tr><td style=\"text-align:left\"></td><tr><td style=\"text-align:left\"></td><td>(1)</td><td>(2)</td></tr>\n",
       "<tr><td colspan=\"3\" style=\"border-bottom: 1px solid black\"></td></tr>\n",
       "\n",
       "<tr><td style=\"text-align:left\">Senate</td><td>0.063<sup>***</sup></td><td>0.057<sup>***</sup></td></tr>\n",
       "<tr><td style=\"text-align:left\"></td><td>(0.006)</td><td>(0.008)</td></tr>\n",
       "<tr><td style=\"text-align:left\">Party</td><td>-0.017<sup>***</sup></td><td>0.020<sup>**</sup></td></tr>\n",
       "<tr><td style=\"text-align:left\"></td><td>(0.003)</td><td>(0.010)</td></tr>\n",
       "<tr><td style=\"text-align:left\">Group</td><td>-0.015<sup>***</sup></td><td>0.021<sup>**</sup></td></tr>\n",
       "<tr><td style=\"text-align:left\"></td><td>(0.002)</td><td>(0.009)</td></tr>\n",
       "<tr><td style=\"text-align:left\">Other sponsor type</td><td>-0.010<sup></sup></td><td>0.027<sup>**</sup></td></tr>\n",
       "<tr><td style=\"text-align:left\"></td><td>(0.006)</td><td>(0.013)</td></tr>\n",
       "<tr><td style=\"text-align:left\">Race competitiveness</td><td>0.003<sup>***</sup></td><td>0.002<sup>**</sup></td></tr>\n",
       "<tr><td style=\"text-align:left\"></td><td>(0.001)</td><td>(0.001)</td></tr>\n",
       "<tr><td style=\"text-align:left\">Democratic</td><td>0.003<sup></sup></td><td>0.003<sup></sup></td></tr>\n",
       "<tr><td style=\"text-align:left\"></td><td>(0.002)</td><td>(0.003)</td></tr>\n",
       "<tr><td style=\"text-align:left\">Third party</td><td>0.000<sup>***</sup></td><td>-0.000<sup>***</sup></td></tr>\n",
       "<tr><td style=\"text-align:left\"></td><td>(0.000)</td><td>(0.000)</td></tr>\n",
       "<tr><td style=\"text-align:left\">TV ad spending (logged)</td><td></td><td>0.004<sup>***</sup></td></tr>\n",
       "<tr><td style=\"text-align:left\"></td><td></td><td>(0.001)</td></tr>\n",
       "<tr><td style=\"text-align:left\">Video</td><td>0.012<sup>***</sup></td><td>0.018<sup>***</sup></td></tr>\n",
       "<tr><td style=\"text-align:left\"></td><td>(0.003)</td><td>(0.005)</td></tr>\n",
       "<tr><td style=\"text-align:left\">Image</td><td>0.008<sup>***</sup></td><td>0.011<sup>***</sup></td></tr>\n",
       "<tr><td style=\"text-align:left\"></td><td>(0.002)</td><td>(0.003)</td></tr>\n",
       "<tr><td style=\"text-align:left\">Intercept</td><td>0.004<sup></sup></td><td>-0.044<sup>***</sup></td></tr>\n",
       "<tr><td style=\"text-align:left\"></td><td>(0.003)</td><td>(0.011)</td></tr>\n",
       "\n",
       "<td colspan=\"3\" style=\"border-bottom: 1px solid black\"></td></tr>\n",
       "<tr><td style=\"text-align: left\">Observations</td><td>880</td><td>534</td></tr><tr><td style=\"text-align: left\">R<sup>2</sup></td><td>0.208</td><td>0.252</td></tr><tr><td style=\"text-align: left\">Adjusted R<sup>2</sup></td><td>0.200</td><td>0.240</td></tr><tr><td style=\"text-align: left\">Residual Std. Error</td><td>0.028 (df=871)</td><td>0.033 (df=524)</td></tr><tr><td style=\"text-align: left\">F Statistic</td><td>28.521<sup>***</sup> (df=8; 871)</td><td>19.663<sup>***</sup> (df=9; 524)</td></tr>\n",
       "<tr><td colspan=\"3\" style=\"border-bottom: 1px solid black\"></td></tr><tr><td style=\"text-align: left\">Note:</td><td colspan=\"2\" style=\"text-align: right\"><sup>*</sup>p&lt;0.1; <sup>**</sup>p&lt;0.05; <sup>***</sup>p&lt;0.01</td></tr></table>"
      ],
      "text/plain": [
       "<IPython.core.display.HTML object>"
      ]
     },
     "metadata": {},
     "output_type": "display_data"
    }
   ],
   "source": [
    "# DV: sophistication index, Candidates + non-candidates grouped by race of focus\n",
    "'''\n",
    "Current display is general election period\n",
    "'''\n",
    "\n",
    "cov_order = ['senate', 'party', 'group', 'government', 'race_competitiveness',\n",
    "             'Democratic', 'third_party', 'log_estimated_cost', \n",
    "             'video', 'image', 'Intercept'] \n",
    "\n",
    "stargazer = Stargazer([model3, model4])\n",
    "stargazer.covariate_order(cov_order)\n",
    "stargazer.rename_covariates(rename_labels)\n",
    "display(HTML(stargazer.render_html()))"
   ]
  },
  {
   "cell_type": "markdown",
   "id": "0faba66f",
   "metadata": {},
   "source": [
    "### Main effects plots"
   ]
  },
  {
   "cell_type": "code",
   "execution_count": 64,
   "id": "3fe2e061",
   "metadata": {},
   "outputs": [],
   "source": [
    "import matplotlib.pyplot as plt\n",
    "import seaborn as sns\n",
    "import matplotlib.lines as mlines"
   ]
  },
  {
   "cell_type": "code",
   "execution_count": 73,
   "id": "70fbd466",
   "metadata": {},
   "outputs": [],
   "source": [
    "def plot_coefficents(m1, m2, offset=-0.15):\n",
    "    '''\n",
    "      Inputs: \n",
    "          m1, m2: two OLS regression models\n",
    "    '''\n",
    "    coefficients1 = m1.params\n",
    "    conf1 = m1.conf_int()\n",
    "    conf1['coef'] = coefficients1\n",
    "    conf1.columns = ['lower', 'upper', 'coef']\n",
    "    conf1['model'] = 'Model 1'\n",
    "\n",
    "    coefficients2 = m2.params\n",
    "    conf2 = m2.conf_int()\n",
    "    conf2['coef'] = coefficients2\n",
    "    conf2.columns = ['lower', 'upper', 'coef']\n",
    "    conf2['model'] = 'Model 2'\n",
    "    \n",
    "    conf12 = pd.concat([conf1, conf2])\n",
    "    conf12.rename(index=rename_labels, inplace=True)\n",
    "    conf12 = conf12[conf12.index != 'Intercept']\n",
    "    \n",
    "    # Add offset to separate the models\n",
    "    conf12['y_offset'] = conf12.groupby(conf12.index).cumcount() * offset\n",
    "    \n",
    "    labels = list(conf12.index.unique()[::-1])\n",
    "\n",
    "    y_steps = {}\n",
    "    for i, label in enumerate(labels):\n",
    "        y_steps[label] = i\n",
    "\n",
    "    conf12['y_step'] = conf12.index.map(y_steps)\n",
    "    \n",
    "    # Plotting\n",
    "    plt.figure(figsize=(12, 8))\n",
    "    fig, ax = plt.subplots()\n",
    "\n",
    "    colors=['black', 'gray']\n",
    "\n",
    "    for i, model in enumerate(conf12.model.unique()):\n",
    "        curr_coef = conf12[conf12.model == model]\n",
    "        ax.errorbar(y=curr_coef['y_offset'] + curr_coef['y_step'], \n",
    "                     x=curr_coef['coef'], \n",
    "                     xerr=(curr_coef['upper'] - curr_coef['lower']) / 2, \n",
    "                     fmt='o', \n",
    "                     markersize = 5,\n",
    "                     color=colors[i])\n",
    "\n",
    "\n",
    "\n",
    "    # Create legend\n",
    "    handle1 = mlines.Line2D([], [], color='black', linestyle='-', marker='o', markersize=4, label='Model 1')\n",
    "    handle2 = mlines.Line2D([], [], color='gray', linestyle='-', marker='o', markersize=4, label='Model 2')\n",
    "    ax.legend(handles=[handle1, handle2], loc='best')\n",
    "\n",
    "    # Format yticks labels and other labels\n",
    "    plt.yticks(ticks=range(len(labels)), labels=labels)\n",
    "    plt.title('')\n",
    "    plt.ylabel('Predictor')\n",
    "    plt.xlabel('Coefficient')\n",
    "    plt.axvline(0, color='grey', linestyle='--')\n",
    "    plt.show()"
   ]
  },
  {
   "cell_type": "code",
   "execution_count": 74,
   "id": "98943198",
   "metadata": {
    "scrolled": true
   },
   "outputs": [
    {
     "data": {
      "text/plain": [
       "<Figure size 1200x800 with 0 Axes>"
      ]
     },
     "metadata": {},
     "output_type": "display_data"
    },
    {
     "data": {
      "image/png": "[encoded data removed]",
      "text/plain": [
       "<Figure size 640x480 with 1 Axes>"
      ]
     },
     "metadata": {},
     "output_type": "display_data"
    }
   ],
   "source": [
    "plot_coefficents(model1, model2, offset=-0.2)"
   ]
  },
  {
   "cell_type": "code",
   "execution_count": 75,
   "id": "8aecccdd",
   "metadata": {
    "scrolled": true
   },
   "outputs": [
    {
     "data": {
      "text/plain": [
       "<Figure size 1200x800 with 0 Axes>"
      ]
     },
     "metadata": {},
     "output_type": "display_data"
    },
    {
     "data": {
      "image/png": "[encoded data removed]",
      "text/plain": [
       "<Figure size 640x480 with 1 Axes>"
      ]
     },
     "metadata": {},
     "output_type": "display_data"
    }
   ],
   "source": [
    "plot_coefficents(model3, model4, offset=-0.2)"
   ]
  },
  {
   "cell_type": "code",
   "execution_count": null,
   "id": "e6282894",
   "metadata": {},
   "outputs": [],
   "source": []
  }
 ],
 "metadata": {
  "kernelspec": {
   "display_name": "Python 3 (ipykernel)",
   "language": "python",
   "name": "python3"
  },
  "language_info": {
   "codemirror_mode": {
    "name": "ipython",
    "version": 3
   },
   "file_extension": ".py",
   "mimetype": "text/x-python",
   "name": "python",
   "nbconvert_exporter": "python",
   "pygments_lexer": "ipython3",
   "version": "3.11.4"
  }
 },
 "nbformat": 4,
 "nbformat_minor": 5
}
