{
 "cells": [
  {
   "cell_type": "code",
   "execution_count": 1,
   "id": "6e85d1df",
   "metadata": {},
   "outputs": [],
   "source": [
    "import os\n",
    "import numpy as np\n",
    "import pandas as pd\n",
    "from collections import Counter\n",
    "import matplotlib.pyplot as plt\n",
    "import statsmodels.formula.api as smf\n",
    "from stargazer.stargazer import Stargazer\n",
    "from IPython.display import display, HTML"
   ]
  },
  {
   "cell_type": "markdown",
   "id": "a710c6a1",
   "metadata": {},
   "source": [
    "## Create regression table"
   ]
  },
  {
   "cell_type": "code",
   "execution_count": 2,
   "id": "2b03d4f5",
   "metadata": {},
   "outputs": [],
   "source": [
    "source_path = '../../../fb_2022'"
   ]
  },
  {
   "cell_type": "code",
   "execution_count": 3,
   "id": "49abbc34",
   "metadata": {
    "scrolled": true
   },
   "outputs": [
    {
     "name": "stderr",
     "output_type": "stream",
     "text": [
      "/tmp/ipykernel_4095/1101205232.py:1: DtypeWarning: Columns (4) have mixed types. Specify dtype option on import or set low_memory=False.\n",
      "  var = pd.read_csv(os.path.join(source_path, 'fb_2022_adid_var_sets_072124.csv.gz'))\n"
     ]
    }
   ],
   "source": [
    "var = pd.read_csv(os.path.join(source_path, 'fb_2022_adid_var_sets_072124.csv.gz'))"
   ]
  },
  {
   "cell_type": "code",
   "execution_count": 4,
   "id": "39060f2f",
   "metadata": {},
   "outputs": [],
   "source": [
    "'''\n",
    "Filter for Set 3\n",
    "'''\n",
    "var = var[var.set3 == 1]"
   ]
  },
  {
   "cell_type": "code",
   "execution_count": 5,
   "id": "2fbd883f",
   "metadata": {},
   "outputs": [
    {
     "data": {
      "text/plain": [
       "(123991, 73)"
      ]
     },
     "execution_count": 5,
     "metadata": {},
     "output_type": "execute_result"
    }
   ],
   "source": [
    "var.shape"
   ]
  },
  {
   "cell_type": "markdown",
   "id": "fb041b42",
   "metadata": {},
   "source": [
    "### Import average text similarity results"
   ]
  },
  {
   "cell_type": "code",
   "execution_count": 6,
   "id": "44fe5ee4",
   "metadata": {},
   "outputs": [],
   "source": [
    "'''\n",
    "fed candidate campaign sponsors\n",
    "'''\n",
    "df_cand = pd.read_csv('../output_data/fb_set3_cand_pdid_media_average_pairwise_similarity.csv')\n",
    "\n",
    "'''''\n",
    "non-campaign sponsors\n",
    "'''''\n",
    "df_noncand = pd.read_csv('../output_data/fb_set3_noncandidate_pdid_racefocus_media_average_pairwise_similarity.csv')"
   ]
  },
  {
   "cell_type": "code",
   "execution_count": 7,
   "id": "dbec085b",
   "metadata": {},
   "outputs": [
    {
     "name": "stdout",
     "output_type": "stream",
     "text": [
      "Index(['pd_id', 'race_of_focus', 'wmp_media_type', 'cid', 'num_unique', 'avg',\n",
      "       'std'],\n",
      "      dtype='object')\n"
     ]
    },
    {
     "data": {
      "text/html": [
       "<div>\n",
       "<style scoped>\n",
       "    .dataframe tbody tr th:only-of-type {\n",
       "        vertical-align: middle;\n",
       "    }\n",
       "\n",
       "    .dataframe tbody tr th {\n",
       "        vertical-align: top;\n",
       "    }\n",
       "\n",
       "    .dataframe thead th {\n",
       "        text-align: right;\n",
       "    }\n",
       "</style>\n",
       "<table border=\"1\" class=\"dataframe\">\n",
       "  <thead>\n",
       "    <tr style=\"text-align: right;\">\n",
       "      <th></th>\n",
       "      <th>pd_id</th>\n",
       "      <th>race_of_focus</th>\n",
       "      <th>wmp_media_type</th>\n",
       "      <th>cid</th>\n",
       "      <th>num_unique</th>\n",
       "      <th>avg</th>\n",
       "      <th>std</th>\n",
       "    </tr>\n",
       "  </thead>\n",
       "  <tbody>\n",
       "    <tr>\n",
       "      <th>0</th>\n",
       "      <td>pd-100053898949-2</td>\n",
       "      <td>CA11</td>\n",
       "      <td>image</td>\n",
       "      <td>cid_127823 cid_66514</td>\n",
       "      <td>2</td>\n",
       "      <td>0.689309</td>\n",
       "      <td>0.000000</td>\n",
       "    </tr>\n",
       "    <tr>\n",
       "      <th>1</th>\n",
       "      <td>pd-100053898949-2</td>\n",
       "      <td>MT01</td>\n",
       "      <td>video</td>\n",
       "      <td>cid_153207 cid_153208 cid_153209 cid_153210</td>\n",
       "      <td>4</td>\n",
       "      <td>0.895821</td>\n",
       "      <td>0.034215</td>\n",
       "    </tr>\n",
       "  </tbody>\n",
       "</table>\n",
       "</div>"
      ],
      "text/plain": [
       "               pd_id race_of_focus wmp_media_type  \\\n",
       "0  pd-100053898949-2          CA11          image   \n",
       "1  pd-100053898949-2          MT01          video   \n",
       "\n",
       "                                           cid  num_unique       avg       std  \n",
       "0                         cid_127823 cid_66514           2  0.689309  0.000000  \n",
       "1  cid_153207 cid_153208 cid_153209 cid_153210           4  0.895821  0.034215  "
      ]
     },
     "execution_count": 7,
     "metadata": {},
     "output_type": "execute_result"
    }
   ],
   "source": [
    "print(df_noncand.columns)\n",
    "df_noncand.head(2)"
   ]
  },
  {
   "cell_type": "code",
   "execution_count": 8,
   "id": "4a5e0d5b",
   "metadata": {},
   "outputs": [],
   "source": [
    "'''\n",
    "Select only relevant sponsors from set3 var table\n",
    "'''\n",
    "all_sponsor_ids = df_cand.pd_id.tolist() + df_noncand.pd_id.tolist()\n",
    "var = var[var.pd_id.isin(all_sponsor_ids)]"
   ]
  },
  {
   "cell_type": "markdown",
   "id": "2f13978d",
   "metadata": {},
   "source": [
    "### Process/explore variables"
   ]
  },
  {
   "cell_type": "markdown",
   "id": "7aa74384",
   "metadata": {},
   "source": [
    "**Party variables**"
   ]
  },
  {
   "cell_type": "markdown",
   "id": "0ee8477e",
   "metadata": {},
   "source": [
    "Check percentage of sponsors for whom we have to infer party "
   ]
  },
  {
   "cell_type": "code",
   "execution_count": 9,
   "id": "ae8df138",
   "metadata": {},
   "outputs": [
    {
     "name": "stdout",
     "output_type": "stream",
     "text": [
      "0.07295933448756386\n"
     ]
    }
   ],
   "source": [
    "# 7% ads\n",
    "print(var[pd.isna(var.party_all)].shape[0]/var.shape[0])"
   ]
  },
  {
   "cell_type": "code",
   "execution_count": 10,
   "id": "b7ca134c",
   "metadata": {},
   "outputs": [
    {
     "data": {
      "text/plain": [
       "0.2840396753832281"
      ]
     },
     "execution_count": 10,
     "metadata": {},
     "output_type": "execute_result"
    }
   ],
   "source": [
    "# 28% sponsors\n",
    "len(var[pd.isna(var.party_all)].groupby('pd_id')[['party_all']].first().reset_index().pd_id.unique())/len(var.pd_id.unique())"
   ]
  },
  {
   "cell_type": "code",
   "execution_count": 11,
   "id": "25dfc53f",
   "metadata": {},
   "outputs": [
    {
     "data": {
      "text/plain": [
       "630"
      ]
     },
     "execution_count": 11,
     "metadata": {},
     "output_type": "execute_result"
    }
   ],
   "source": [
    "len(var[pd.isna(var.party_all)].groupby('pd_id')[['party_all']].first().reset_index().pd_id.unique())"
   ]
  },
  {
   "cell_type": "code",
   "execution_count": 12,
   "id": "95962773",
   "metadata": {},
   "outputs": [
    {
     "data": {
      "text/plain": [
       "2218"
      ]
     },
     "execution_count": 12,
     "metadata": {},
     "output_type": "execute_result"
    }
   ],
   "source": [
    "len(var.pd_id.unique())"
   ]
  },
  {
   "cell_type": "code",
   "execution_count": 13,
   "id": "3ff69ad3",
   "metadata": {},
   "outputs": [],
   "source": [
    "# calculate party classifier accuracy, pd_id level\n",
    "confusion_mat_tab = var[['pd_id', 'party_all', 'party_all_clf_pdid']].groupby('pd_id').first().reset_index()"
   ]
  },
  {
   "cell_type": "code",
   "execution_count": 14,
   "id": "4379fef9",
   "metadata": {},
   "outputs": [
    {
     "data": {
      "text/html": [
       "<div>\n",
       "<style scoped>\n",
       "    .dataframe tbody tr th:only-of-type {\n",
       "        vertical-align: middle;\n",
       "    }\n",
       "\n",
       "    .dataframe tbody tr th {\n",
       "        vertical-align: top;\n",
       "    }\n",
       "\n",
       "    .dataframe thead th {\n",
       "        text-align: right;\n",
       "    }\n",
       "</style>\n",
       "<table border=\"1\" class=\"dataframe\">\n",
       "  <thead>\n",
       "    <tr style=\"text-align: right;\">\n",
       "      <th>party_all_clf_pdid</th>\n",
       "      <th>DEM</th>\n",
       "      <th>OTHER</th>\n",
       "      <th>REP</th>\n",
       "    </tr>\n",
       "    <tr>\n",
       "      <th>party_all</th>\n",
       "      <th></th>\n",
       "      <th></th>\n",
       "      <th></th>\n",
       "    </tr>\n",
       "  </thead>\n",
       "  <tbody>\n",
       "    <tr>\n",
       "      <th>DEM</th>\n",
       "      <td>525</td>\n",
       "      <td>0</td>\n",
       "      <td>68</td>\n",
       "    </tr>\n",
       "    <tr>\n",
       "      <th>MISSING</th>\n",
       "      <td>303</td>\n",
       "      <td>0</td>\n",
       "      <td>179</td>\n",
       "    </tr>\n",
       "    <tr>\n",
       "      <th>OTHER</th>\n",
       "      <td>24</td>\n",
       "      <td>2</td>\n",
       "      <td>11</td>\n",
       "    </tr>\n",
       "    <tr>\n",
       "      <th>REP</th>\n",
       "      <td>75</td>\n",
       "      <td>0</td>\n",
       "      <td>401</td>\n",
       "    </tr>\n",
       "  </tbody>\n",
       "</table>\n",
       "</div>"
      ],
      "text/plain": [
       "party_all_clf_pdid  DEM  OTHER  REP\n",
       "party_all                          \n",
       "DEM                 525      0   68\n",
       "MISSING             303      0  179\n",
       "OTHER                24      2   11\n",
       "REP                  75      0  401"
      ]
     },
     "execution_count": 14,
     "metadata": {},
     "output_type": "execute_result"
    }
   ],
   "source": [
    "pd.crosstab(confusion_mat_tab.party_all, confusion_mat_tab.party_all_clf_pdid)"
   ]
  },
  {
   "cell_type": "code",
   "execution_count": 15,
   "id": "07ab7c89",
   "metadata": {},
   "outputs": [],
   "source": [
    "'''\n",
    "Create \"optimized\" party var\n",
    "1) Use party variables from entity files. \n",
    "2) When they are not available, use pd_id level party classifier's predictions \n",
    "'''\n",
    "\n",
    "var['party_pdid_opt'] = np.where(pd.isna(var.party_all), var.party_all_clf_pdid, var.party_all)"
   ]
  },
  {
   "cell_type": "markdown",
   "id": "259617bc",
   "metadata": {},
   "source": [
    "**Race competitiveness**: \n",
    "\n",
    "SD: safe Dem\n",
    "DF: Dem favored\n",
    "LD: Lean Dem\n",
    "C: Too-close-to-call\n",
    "LR: Lean Republican\n",
    "RF: Republican favored\n",
    "SR: Safe Republican\n",
    " \n",
    "The SD and SR races are coded 1 in house2 (least competitive)\n",
    "DF and RF are coded 2\n",
    "LD and LR are coded 3\n",
    "C is coded 4 (most competitive)"
   ]
  },
  {
   "cell_type": "code",
   "execution_count": 16,
   "id": "3887b5ce",
   "metadata": {},
   "outputs": [],
   "source": [
    "# load race competitiveness index file\n",
    "race = pd.read_csv('../../race_competitiveness.csv')"
   ]
  },
  {
   "cell_type": "code",
   "execution_count": 17,
   "id": "9af8b7ae",
   "metadata": {},
   "outputs": [],
   "source": [
    "var = var.merge(race[['race_code','race_competitiveness']], how='left', left_on='race_of_focus', right_on='race_code')"
   ]
  },
  {
   "cell_type": "code",
   "execution_count": 18,
   "id": "3bf8cb8b",
   "metadata": {},
   "outputs": [
    {
     "data": {
      "text/plain": [
       "0        1.0\n",
       "1        1.0\n",
       "2        1.0\n",
       "3        1.0\n",
       "4        1.0\n",
       "        ... \n",
       "94719    NaN\n",
       "94720    NaN\n",
       "94721    NaN\n",
       "94722    NaN\n",
       "94723    1.0\n",
       "Name: race_competitiveness, Length: 94724, dtype: float64"
      ]
     },
     "execution_count": 18,
     "metadata": {},
     "output_type": "execute_result"
    }
   ],
   "source": [
    "var.race_competitiveness"
   ]
  },
  {
   "cell_type": "markdown",
   "id": "758a1233",
   "metadata": {},
   "source": [
    "**If we were to group non-campaign sponsor types by their race of focus (to use the new DV):**"
   ]
  },
  {
   "cell_type": "code",
   "execution_count": 51,
   "id": "ae1a5e32",
   "metadata": {},
   "outputs": [
    {
     "data": {
      "text/plain": [
       "array(['government agency', 'group', nan, 'government official',\n",
       "       'campaign', 'party national', 'party'], dtype=object)"
      ]
     },
     "execution_count": 51,
     "metadata": {},
     "output_type": "execute_result"
    }
   ],
   "source": [
    "# var.wmp_spontype.unique() # remove nan"
   ]
  },
  {
   "cell_type": "code",
   "execution_count": 53,
   "id": "04beb785",
   "metadata": {},
   "outputs": [],
   "source": [
    "# grouped = var[var.wmp_spontype != 'campaign'].groupby([\"pd_id\", \"wmp_spontype\", \"race_of_focus\"]).size().reset_index()\n",
    "# grouped.rename(columns={0:'race_count'}, inplace=True)"
   ]
  },
  {
   "cell_type": "code",
   "execution_count": 56,
   "id": "84c4b992",
   "metadata": {},
   "outputs": [
    {
     "data": {
      "text/plain": [
       "array(['party', 'group', 'government official', 'party national',\n",
       "       'coordinated', 'government agency'], dtype=object)"
      ]
     },
     "execution_count": 56,
     "metadata": {},
     "output_type": "execute_result"
    }
   ],
   "source": [
    "# grouped.wmp_spontype.unique()"
   ]
  },
  {
   "cell_type": "markdown",
   "id": "e36c428e",
   "metadata": {},
   "source": [
    "**campaign resources**\n",
    "\n",
    "Only for the subset of sponsors who invested in TV ads"
   ]
  },
  {
   "cell_type": "code",
   "execution_count": 19,
   "id": "35457a13",
   "metadata": {},
   "outputs": [],
   "source": [
    "cost = pd.read_csv('../input_data/campaign_resource_fb2022.csv')"
   ]
  },
  {
   "cell_type": "code",
   "execution_count": 20,
   "id": "dd799640",
   "metadata": {},
   "outputs": [],
   "source": [
    "'''\n",
    "Merge to regression tables\n",
    "'''\n",
    "\n",
    "df_cand = df_cand.merge(cost[['pd_id', 'estcost']], on='pd_id', how='left')\n",
    "df_noncand = df_noncand.merge(cost[['pd_id', 'estcost']], on='pd_id', how='left')"
   ]
  },
  {
   "cell_type": "code",
   "execution_count": 21,
   "id": "bb964177",
   "metadata": {},
   "outputs": [],
   "source": [
    "# Log transform\n",
    "df_cand['estcost'] = np.log(df_cand['estcost'])\n",
    "df_noncand['estcost'] = np.log(df_noncand['estcost'])"
   ]
  },
  {
   "cell_type": "code",
   "execution_count": 22,
   "id": "2c918247",
   "metadata": {},
   "outputs": [],
   "source": [
    "df_cand.rename(columns={\"estcost\":\"log_estimated_cost\"}, inplace=True)\n",
    "df_noncand.rename(columns={\"estcost\":\"log_estimated_cost\"}, inplace=True)"
   ]
  },
  {
   "cell_type": "markdown",
   "id": "3562f476",
   "metadata": {},
   "source": [
    "### Select regression variables"
   ]
  },
  {
   "cell_type": "code",
   "execution_count": 23,
   "id": "c28f80ca",
   "metadata": {},
   "outputs": [],
   "source": [
    "cols = ['pd_id', 'wmp_media_type', 'wmp_office', 'wmp_spontype', 'party_pdid_opt', \n",
    "        'race_of_focus', 'race_competitiveness', ]"
   ]
  },
  {
   "cell_type": "code",
   "execution_count": 24,
   "id": "8ab920e4",
   "metadata": {},
   "outputs": [],
   "source": [
    "data = var[cols]"
   ]
  },
  {
   "cell_type": "code",
   "execution_count": 25,
   "id": "fd0040ac",
   "metadata": {},
   "outputs": [
    {
     "data": {
      "text/html": [
       "<div>\n",
       "<style scoped>\n",
       "    .dataframe tbody tr th:only-of-type {\n",
       "        vertical-align: middle;\n",
       "    }\n",
       "\n",
       "    .dataframe tbody tr th {\n",
       "        vertical-align: top;\n",
       "    }\n",
       "\n",
       "    .dataframe thead th {\n",
       "        text-align: right;\n",
       "    }\n",
       "</style>\n",
       "<table border=\"1\" class=\"dataframe\">\n",
       "  <thead>\n",
       "    <tr style=\"text-align: right;\">\n",
       "      <th></th>\n",
       "      <th>pd_id</th>\n",
       "      <th>wmp_media_type</th>\n",
       "      <th>wmp_office</th>\n",
       "      <th>wmp_spontype</th>\n",
       "      <th>party_pdid_opt</th>\n",
       "      <th>race_of_focus</th>\n",
       "      <th>race_competitiveness</th>\n",
       "    </tr>\n",
       "  </thead>\n",
       "  <tbody>\n",
       "    <tr>\n",
       "      <th>0</th>\n",
       "      <td>pd-105355871121994-2</td>\n",
       "      <td>video</td>\n",
       "      <td>NaN</td>\n",
       "      <td>government agency</td>\n",
       "      <td>MISSING</td>\n",
       "      <td>FL08</td>\n",
       "      <td>1.0</td>\n",
       "    </tr>\n",
       "    <tr>\n",
       "      <th>1</th>\n",
       "      <td>pd-105355871121994-2</td>\n",
       "      <td>video</td>\n",
       "      <td>NaN</td>\n",
       "      <td>government agency</td>\n",
       "      <td>MISSING</td>\n",
       "      <td>FL08</td>\n",
       "      <td>1.0</td>\n",
       "    </tr>\n",
       "  </tbody>\n",
       "</table>\n",
       "</div>"
      ],
      "text/plain": [
       "                  pd_id wmp_media_type wmp_office       wmp_spontype  \\\n",
       "0  pd-105355871121994-2          video        NaN  government agency   \n",
       "1  pd-105355871121994-2          video        NaN  government agency   \n",
       "\n",
       "  party_pdid_opt race_of_focus  race_competitiveness  \n",
       "0        MISSING          FL08                   1.0  \n",
       "1        MISSING          FL08                   1.0  "
      ]
     },
     "execution_count": 25,
     "metadata": {},
     "output_type": "execute_result"
    }
   ],
   "source": [
    "data.head(2)"
   ]
  },
  {
   "cell_type": "code",
   "execution_count": 26,
   "id": "cdb4ba2c",
   "metadata": {},
   "outputs": [
    {
     "data": {
      "text/plain": [
       "array(['image', 'video', 'image, video'], dtype=object)"
      ]
     },
     "execution_count": 26,
     "metadata": {},
     "output_type": "execute_result"
    }
   ],
   "source": [
    "# FB/Insta don't have text ads\n",
    "df_cand.wmp_media_type.unique()"
   ]
  },
  {
   "cell_type": "code",
   "execution_count": 27,
   "id": "911cf371",
   "metadata": {},
   "outputs": [
    {
     "data": {
      "text/plain": [
       "array([nan, 'us house', 'us senate',\n",
       "       'us house - not in our 2022 FEC cd file'], dtype=object)"
      ]
     },
     "execution_count": 27,
     "metadata": {},
     "output_type": "execute_result"
    }
   ],
   "source": [
    "data.wmp_office.unique()"
   ]
  },
  {
   "cell_type": "markdown",
   "id": "83f8d017",
   "metadata": {},
   "source": [
    "### Process regression variables"
   ]
  },
  {
   "cell_type": "code",
   "execution_count": 29,
   "id": "c893b660",
   "metadata": {
    "scrolled": true
   },
   "outputs": [
    {
     "name": "stderr",
     "output_type": "stream",
     "text": [
      "/tmp/ipykernel_4095/1168873442.py:1: SettingWithCopyWarning: \n",
      "A value is trying to be set on a copy of a slice from a DataFrame.\n",
      "Try using .loc[row_indexer,col_indexer] = value instead\n",
      "\n",
      "See the caveats in the documentation: https://pandas.pydata.org/pandas-docs/stable/user_guide/indexing.html#returning-a-view-versus-a-copy\n",
      "  data['image'] = np.where((data.wmp_media_type == 'image'), 1, 0)\n",
      "/tmp/ipykernel_4095/1168873442.py:3: SettingWithCopyWarning: \n",
      "A value is trying to be set on a copy of a slice from a DataFrame.\n",
      "Try using .loc[row_indexer,col_indexer] = value instead\n",
      "\n",
      "See the caveats in the documentation: https://pandas.pydata.org/pandas-docs/stable/user_guide/indexing.html#returning-a-view-versus-a-copy\n",
      "  data['party'] = np.where(data.wmp_spontype.isin(['party', 'party national']), 1, 0)\n",
      "/tmp/ipykernel_4095/1168873442.py:4: SettingWithCopyWarning: \n",
      "A value is trying to be set on a copy of a slice from a DataFrame.\n",
      "Try using .loc[row_indexer,col_indexer] = value instead\n",
      "\n",
      "See the caveats in the documentation: https://pandas.pydata.org/pandas-docs/stable/user_guide/indexing.html#returning-a-view-versus-a-copy\n",
      "  data['group'] = np.where(data.wmp_spontype == 'group', 1, 0)\n",
      "/tmp/ipykernel_4095/1168873442.py:5: SettingWithCopyWarning: \n",
      "A value is trying to be set on a copy of a slice from a DataFrame.\n",
      "Try using .loc[row_indexer,col_indexer] = value instead\n",
      "\n",
      "See the caveats in the documentation: https://pandas.pydata.org/pandas-docs/stable/user_guide/indexing.html#returning-a-view-versus-a-copy\n",
      "  data['other_sponsor_type'] = np.where(data.wmp_spontype.isin(['government official',\n",
      "/tmp/ipykernel_4095/1168873442.py:8: SettingWithCopyWarning: \n",
      "A value is trying to be set on a copy of a slice from a DataFrame.\n",
      "Try using .loc[row_indexer,col_indexer] = value instead\n",
      "\n",
      "See the caveats in the documentation: https://pandas.pydata.org/pandas-docs/stable/user_guide/indexing.html#returning-a-view-versus-a-copy\n",
      "  data['Democratic'] = np.where(data.party_pdid_opt == 'DEM', 1, 0)\n",
      "/tmp/ipykernel_4095/1168873442.py:9: SettingWithCopyWarning: \n",
      "A value is trying to be set on a copy of a slice from a DataFrame.\n",
      "Try using .loc[row_indexer,col_indexer] = value instead\n",
      "\n",
      "See the caveats in the documentation: https://pandas.pydata.org/pandas-docs/stable/user_guide/indexing.html#returning-a-view-versus-a-copy\n",
      "  data['third_party'] = np.where(data.party_pdid_opt == 'OTHER', 1, 0)\n",
      "/tmp/ipykernel_4095/1168873442.py:12: SettingWithCopyWarning: \n",
      "A value is trying to be set on a copy of a slice from a DataFrame.\n",
      "Try using .loc[row_indexer,col_indexer] = value instead\n",
      "\n",
      "See the caveats in the documentation: https://pandas.pydata.org/pandas-docs/stable/user_guide/indexing.html#returning-a-view-versus-a-copy\n",
      "  data['senate'] = np.where((data.wmp_office == 'us senate') | (data.race_of_focus.str.endswith('S0')), 1, 0)\n"
     ]
    }
   ],
   "source": [
    "data['image'] = np.where((data.wmp_media_type == 'image'), 1, 0)\n",
    "\n",
    "data['party'] = np.where(data.wmp_spontype.isin(['party', 'party national']), 1, 0)\n",
    "data['group'] = np.where(data.wmp_spontype == 'group', 1, 0)\n",
    "data['other_sponsor_type'] = np.where(data.wmp_spontype.isin(['government official',\n",
    "                                                              'coordinated', 'government agency',]), 1, 0)\n",
    "\n",
    "data['Democratic'] = np.where(data.party_pdid_opt == 'DEM', 1, 0)\n",
    "data['third_party'] = np.where(data.party_pdid_opt == 'OTHER', 1, 0)\n",
    "\n",
    "# Senate races\n",
    "data['senate'] = np.where((data.wmp_office == 'us senate') | (data.race_of_focus.str.endswith('S0')), 1, 0)"
   ]
  },
  {
   "cell_type": "code",
   "execution_count": 34,
   "id": "ac6e010e",
   "metadata": {},
   "outputs": [],
   "source": [
    "# aggregate at the advertiser level\n",
    "agg = data.groupby(['pd_id', 'wmp_media_type']).mean(numeric_only=True).reset_index()"
   ]
  },
  {
   "cell_type": "markdown",
   "id": "d510d063",
   "metadata": {},
   "source": [
    "### Candidate regression table"
   ]
  },
  {
   "cell_type": "code",
   "execution_count": 35,
   "id": "6c919b8f",
   "metadata": {},
   "outputs": [],
   "source": [
    "df_cand = df_cand.merge(agg, on=['pd_id', 'wmp_media_type'], how='left')"
   ]
  },
  {
   "cell_type": "code",
   "execution_count": 36,
   "id": "abb55a32",
   "metadata": {},
   "outputs": [],
   "source": [
    "df_cand.rename(columns={'avg': 'AverageSimilarity'}, inplace=True)"
   ]
  },
  {
   "cell_type": "code",
   "execution_count": 37,
   "id": "eaf5bd9b",
   "metadata": {},
   "outputs": [],
   "source": [
    "df_cand['candidate'] = 1"
   ]
  },
  {
   "cell_type": "code",
   "execution_count": 38,
   "id": "e1229f05",
   "metadata": {},
   "outputs": [
    {
     "data": {
      "text/plain": [
       "Index(['pd_id', 'wmp_media_type', 'cid', 'num_unique', 'AverageSimilarity',\n",
       "       'std', 'log_estimated_cost', 'race_competitiveness', 'image', 'party',\n",
       "       'group', 'other_sponsor_type', 'Democratic', 'third_party', 'senate',\n",
       "       'candidate'],\n",
       "      dtype='object')"
      ]
     },
     "execution_count": 38,
     "metadata": {},
     "output_type": "execute_result"
    }
   ],
   "source": [
    "df_cand.columns"
   ]
  },
  {
   "cell_type": "code",
   "execution_count": 39,
   "id": "6cf60a8d",
   "metadata": {},
   "outputs": [
    {
     "data": {
      "text/plain": [
       "(1017, 16)"
      ]
     },
     "execution_count": 39,
     "metadata": {},
     "output_type": "execute_result"
    }
   ],
   "source": [
    "df_cand.shape"
   ]
  },
  {
   "cell_type": "markdown",
   "id": "561376fb",
   "metadata": {},
   "source": [
    "### Non-candidate regression table"
   ]
  },
  {
   "cell_type": "code",
   "execution_count": 40,
   "id": "afbb7f70",
   "metadata": {},
   "outputs": [],
   "source": [
    "'''\n",
    "for non-candidate, non-campaign sponsors\n",
    "\n",
    "to merge with df_noncand \n",
    "'''\n",
    "agg2 = data.groupby(['pd_id', 'wmp_media_type', 'race_of_focus']).mean(numeric_only=True).reset_index()"
   ]
  },
  {
   "cell_type": "code",
   "execution_count": 44,
   "id": "31d44f39",
   "metadata": {},
   "outputs": [
    {
     "data": {
      "text/plain": [
       "Index(['pd_id', 'wmp_media_type', 'race_of_focus', 'race_competitiveness',\n",
       "       'image', 'party', 'group', 'other_sponsor_type', 'Democratic',\n",
       "       'third_party', 'senate'],\n",
       "      dtype='object')"
      ]
     },
     "execution_count": 44,
     "metadata": {},
     "output_type": "execute_result"
    }
   ],
   "source": [
    "agg2.columns"
   ]
  },
  {
   "cell_type": "code",
   "execution_count": 45,
   "id": "c0efce9f",
   "metadata": {},
   "outputs": [],
   "source": [
    "df_noncand = df_noncand.merge(agg2, on=['pd_id', 'wmp_media_type', 'race_of_focus'], how='left')\n",
    "\n",
    "df_noncand.rename(columns={'avg': 'AverageSimilarity'}, inplace=True)"
   ]
  },
  {
   "cell_type": "code",
   "execution_count": 46,
   "id": "73550a83",
   "metadata": {},
   "outputs": [],
   "source": [
    "df_noncand['candidate'] = 0"
   ]
  },
  {
   "cell_type": "code",
   "execution_count": 47,
   "id": "347d3b8f",
   "metadata": {},
   "outputs": [
    {
     "name": "stdout",
     "output_type": "stream",
     "text": [
      "(3482, 17)\n"
     ]
    },
    {
     "data": {
      "text/plain": [
       "Index(['pd_id', 'race_of_focus', 'wmp_media_type', 'cid', 'num_unique',\n",
       "       'AverageSimilarity', 'std', 'log_estimated_cost',\n",
       "       'race_competitiveness', 'image', 'party', 'group', 'other_sponsor_type',\n",
       "       'Democratic', 'third_party', 'senate', 'candidate'],\n",
       "      dtype='object')"
      ]
     },
     "execution_count": 47,
     "metadata": {},
     "output_type": "execute_result"
    }
   ],
   "source": [
    "print(df_noncand.shape)\n",
    "df_noncand.columns"
   ]
  },
  {
   "cell_type": "markdown",
   "id": "166d4329",
   "metadata": {},
   "source": [
    "### Combine candidates only and non-candidates sponsors grouped by race of focus"
   ]
  },
  {
   "cell_type": "code",
   "execution_count": 49,
   "id": "a3a26e2f",
   "metadata": {},
   "outputs": [
    {
     "data": {
      "text/plain": [
       "(1017, 16)"
      ]
     },
     "execution_count": 49,
     "metadata": {},
     "output_type": "execute_result"
    }
   ],
   "source": [
    "df_cand.shape"
   ]
  },
  {
   "cell_type": "code",
   "execution_count": 50,
   "id": "b8728eeb",
   "metadata": {},
   "outputs": [],
   "source": [
    "df = pd.concat([df_cand, df_noncand.drop(\"race_of_focus\", axis=1)])"
   ]
  },
  {
   "cell_type": "code",
   "execution_count": 51,
   "id": "6cb9613d",
   "metadata": {},
   "outputs": [
    {
     "data": {
      "text/plain": [
       "Index(['pd_id', 'wmp_media_type', 'cid', 'num_unique', 'AverageSimilarity',\n",
       "       'std', 'log_estimated_cost', 'race_competitiveness', 'image', 'party',\n",
       "       'group', 'other_sponsor_type', 'Democratic', 'third_party', 'senate',\n",
       "       'candidate'],\n",
       "      dtype='object')"
      ]
     },
     "execution_count": 51,
     "metadata": {},
     "output_type": "execute_result"
    }
   ],
   "source": [
    "df.columns"
   ]
  },
  {
   "cell_type": "code",
   "execution_count": 52,
   "id": "b079ec6c",
   "metadata": {},
   "outputs": [],
   "source": [
    "'''\n",
    "Final regression table\n",
    "'''\n",
    "df.to_csv('../input_data/fb_regression_table_for_descriptives.csv', index=False)"
   ]
  },
  {
   "cell_type": "markdown",
   "id": "d4e08749",
   "metadata": {},
   "source": [
    "### Import regression table directly"
   ]
  },
  {
   "cell_type": "code",
   "execution_count": 5,
   "id": "0eb2113e",
   "metadata": {},
   "outputs": [],
   "source": [
    "df = pd.read_csv('../input_data/fb_regression_table_for_descriptives.csv')"
   ]
  },
  {
   "cell_type": "code",
   "execution_count": 54,
   "id": "5efc4054",
   "metadata": {},
   "outputs": [
    {
     "data": {
      "text/plain": [
       "(4499, 16)"
      ]
     },
     "execution_count": 54,
     "metadata": {},
     "output_type": "execute_result"
    }
   ],
   "source": [
    "df.shape"
   ]
  },
  {
   "cell_type": "code",
   "execution_count": 6,
   "id": "d22af84d",
   "metadata": {},
   "outputs": [],
   "source": [
    "df_cand = df[df.candidate == 1]"
   ]
  },
  {
   "cell_type": "markdown",
   "id": "59a11d87",
   "metadata": {},
   "source": [
    "### Subset of sponsors who invested in TV ads"
   ]
  },
  {
   "cell_type": "code",
   "execution_count": 7,
   "id": "6bbc477f",
   "metadata": {},
   "outputs": [],
   "source": [
    "df_cost = df[~pd.isna(df.log_estimated_cost)]"
   ]
  },
  {
   "cell_type": "code",
   "execution_count": 8,
   "id": "1fbea340",
   "metadata": {},
   "outputs": [
    {
     "name": "stdout",
     "output_type": "stream",
     "text": [
      "(4499, 16)\n",
      "(593, 16)\n"
     ]
    }
   ],
   "source": [
    "print(df.shape)\n",
    "print(df_cost.shape)"
   ]
  },
  {
   "cell_type": "code",
   "execution_count": 9,
   "id": "b402e0fa",
   "metadata": {
    "scrolled": true
   },
   "outputs": [],
   "source": [
    "df_cand_cost = df_cost[(df_cost.candidate == 1)]"
   ]
  },
  {
   "cell_type": "code",
   "execution_count": 10,
   "id": "1a72d504",
   "metadata": {},
   "outputs": [
    {
     "data": {
      "text/plain": [
       "(537, 16)"
      ]
     },
     "execution_count": 10,
     "metadata": {},
     "output_type": "execute_result"
    }
   ],
   "source": [
    "df_cand_cost.shape"
   ]
  },
  {
   "cell_type": "markdown",
   "id": "6dae5392",
   "metadata": {},
   "source": [
    "## Create DV (new method)"
   ]
  },
  {
   "cell_type": "code",
   "execution_count": 11,
   "id": "af759765",
   "metadata": {},
   "outputs": [],
   "source": [
    "def create_sophistication_index(input_df):\n",
    "    max_ = input_df.num_unique.max()\n",
    "    min_ = input_df.num_unique.min()\n",
    "    input_df['num_unique_normalized'] = (input_df.num_unique - min_)/(max_ - min_)\n",
    "    input_df['sophistication_index'] = input_df['num_unique_normalized'] * (1 - input_df.AverageSimilarity)\n",
    "    return input_df"
   ]
  },
  {
   "cell_type": "code",
   "execution_count": 12,
   "id": "f249a683",
   "metadata": {},
   "outputs": [],
   "source": [
    "df = create_sophistication_index(df)"
   ]
  },
  {
   "cell_type": "code",
   "execution_count": 13,
   "id": "5768ef14",
   "metadata": {
    "scrolled": true
   },
   "outputs": [
    {
     "name": "stderr",
     "output_type": "stream",
     "text": [
      "/tmp/ipykernel_25918/1499460830.py:4: SettingWithCopyWarning: \n",
      "A value is trying to be set on a copy of a slice from a DataFrame.\n",
      "Try using .loc[row_indexer,col_indexer] = value instead\n",
      "\n",
      "See the caveats in the documentation: https://pandas.pydata.org/pandas-docs/stable/user_guide/indexing.html#returning-a-view-versus-a-copy\n",
      "  input_df['num_unique_normalized'] = (input_df.num_unique - min_)/(max_ - min_)\n",
      "/tmp/ipykernel_25918/1499460830.py:5: SettingWithCopyWarning: \n",
      "A value is trying to be set on a copy of a slice from a DataFrame.\n",
      "Try using .loc[row_indexer,col_indexer] = value instead\n",
      "\n",
      "See the caveats in the documentation: https://pandas.pydata.org/pandas-docs/stable/user_guide/indexing.html#returning-a-view-versus-a-copy\n",
      "  input_df['sophistication_index'] = input_df['num_unique_normalized'] * (1 - input_df.AverageSimilarity)\n",
      "/tmp/ipykernel_25918/1499460830.py:4: SettingWithCopyWarning: \n",
      "A value is trying to be set on a copy of a slice from a DataFrame.\n",
      "Try using .loc[row_indexer,col_indexer] = value instead\n",
      "\n",
      "See the caveats in the documentation: https://pandas.pydata.org/pandas-docs/stable/user_guide/indexing.html#returning-a-view-versus-a-copy\n",
      "  input_df['num_unique_normalized'] = (input_df.num_unique - min_)/(max_ - min_)\n",
      "/tmp/ipykernel_25918/1499460830.py:5: SettingWithCopyWarning: \n",
      "A value is trying to be set on a copy of a slice from a DataFrame.\n",
      "Try using .loc[row_indexer,col_indexer] = value instead\n",
      "\n",
      "See the caveats in the documentation: https://pandas.pydata.org/pandas-docs/stable/user_guide/indexing.html#returning-a-view-versus-a-copy\n",
      "  input_df['sophistication_index'] = input_df['num_unique_normalized'] * (1 - input_df.AverageSimilarity)\n",
      "/tmp/ipykernel_25918/1499460830.py:4: SettingWithCopyWarning: \n",
      "A value is trying to be set on a copy of a slice from a DataFrame.\n",
      "Try using .loc[row_indexer,col_indexer] = value instead\n",
      "\n",
      "See the caveats in the documentation: https://pandas.pydata.org/pandas-docs/stable/user_guide/indexing.html#returning-a-view-versus-a-copy\n",
      "  input_df['num_unique_normalized'] = (input_df.num_unique - min_)/(max_ - min_)\n",
      "/tmp/ipykernel_25918/1499460830.py:5: SettingWithCopyWarning: \n",
      "A value is trying to be set on a copy of a slice from a DataFrame.\n",
      "Try using .loc[row_indexer,col_indexer] = value instead\n",
      "\n",
      "See the caveats in the documentation: https://pandas.pydata.org/pandas-docs/stable/user_guide/indexing.html#returning-a-view-versus-a-copy\n",
      "  input_df['sophistication_index'] = input_df['num_unique_normalized'] * (1 - input_df.AverageSimilarity)\n"
     ]
    }
   ],
   "source": [
    "df_cand = create_sophistication_index(df_cand)\n",
    "df_cost = create_sophistication_index(df_cost)\n",
    "df_cand_cost = create_sophistication_index(df_cand_cost)"
   ]
  },
  {
   "cell_type": "markdown",
   "id": "2d208e64",
   "metadata": {},
   "source": [
    "## Regression"
   ]
  },
  {
   "cell_type": "code",
   "execution_count": 4,
   "id": "527fb5f0",
   "metadata": {},
   "outputs": [],
   "source": [
    "import statsmodels.api as sm"
   ]
  },
  {
   "cell_type": "markdown",
   "id": "dc7e3b1c",
   "metadata": {},
   "source": [
    "### New DV"
   ]
  },
  {
   "cell_type": "code",
   "execution_count": 31,
   "id": "258155ca",
   "metadata": {},
   "outputs": [],
   "source": [
    "rename_labels = {'senate': 'Senate', 'race_competitiveness': 'Race competitiveness', \n",
    "                  'third_party': 'Third party', 'image': 'Image',\n",
    "                 'log_estimated_cost': 'TV ad spending (logged)', \n",
    "                 'party': 'Party', 'group': 'Group', \n",
    "                 'other_sponsor_type': 'Other sponsor type'}"
   ]
  },
  {
   "cell_type": "code",
   "execution_count": 184,
   "id": "b7e988cc",
   "metadata": {},
   "outputs": [],
   "source": [
    "# for house/senate candidates only \n",
    "form1 = \"sophistication_index ~ senate + race_competitiveness \\\n",
    "        + Democratic + third_party + image\"\n",
    "\n",
    "form2 = \"sophistication_index ~ senate + race_competitiveness \\\n",
    "        + Democratic + third_party + log_estimated_cost \\\n",
    "        + image\"\n",
    "\n",
    "model1 = smf.ols(formula=form1, data=df_cand).fit()\n",
    "model2 = smf.ols(formula=form2, data=df_cand_cost).fit()"
   ]
  },
  {
   "cell_type": "code",
   "execution_count": 185,
   "id": "db512066",
   "metadata": {
    "scrolled": true
   },
   "outputs": [
    {
     "data": {
      "text/html": [
       "<table style=\"text-align:center\"><tr><td colspan=\"3\" style=\"border-bottom: 1px solid black\"></td></tr>\n",
       "<tr><td style=\"text-align:left\"></td><td colspan=\"2\"><em>Dependent variable: sophistication_index</em></td></tr><tr><td style=\"text-align:left\"></td><tr><td style=\"text-align:left\"></td><td>(1)</td><td>(2)</td></tr>\n",
       "<tr><td colspan=\"3\" style=\"border-bottom: 1px solid black\"></td></tr>\n",
       "\n",
       "<tr><td style=\"text-align:left\">Senate</td><td>0.019<sup>***</sup></td><td>0.024<sup>***</sup></td></tr>\n",
       "<tr><td style=\"text-align:left\"></td><td>(0.002)</td><td>(0.004)</td></tr>\n",
       "<tr><td style=\"text-align:left\">Race competitiveness</td><td>0.006<sup>***</sup></td><td>0.005<sup>***</sup></td></tr>\n",
       "<tr><td style=\"text-align:left\"></td><td>(0.001)</td><td>(0.001)</td></tr>\n",
       "<tr><td style=\"text-align:left\">Democratic</td><td>0.007<sup>***</sup></td><td>0.013<sup>***</sup></td></tr>\n",
       "<tr><td style=\"text-align:left\"></td><td>(0.002)</td><td>(0.003)</td></tr>\n",
       "<tr><td style=\"text-align:left\">Third party</td><td>-0.004<sup></sup></td><td>-0.000<sup></sup></td></tr>\n",
       "<tr><td style=\"text-align:left\"></td><td>(0.004)</td><td>(0.012)</td></tr>\n",
       "<tr><td style=\"text-align:left\">TV ad spending (logged)</td><td></td><td>0.001<sup></sup></td></tr>\n",
       "<tr><td style=\"text-align:left\"></td><td></td><td>(0.001)</td></tr>\n",
       "<tr><td style=\"text-align:left\">Image</td><td>0.007<sup>***</sup></td><td>0.010<sup>***</sup></td></tr>\n",
       "<tr><td style=\"text-align:left\"></td><td>(0.002)</td><td>(0.003)</td></tr>\n",
       "<tr><td style=\"text-align:left\">Intercept</td><td>-0.006<sup>***</sup></td><td>-0.026<sup>**</sup></td></tr>\n",
       "<tr><td style=\"text-align:left\"></td><td>(0.002)</td><td>(0.010)</td></tr>\n",
       "\n",
       "<td colspan=\"3\" style=\"border-bottom: 1px solid black\"></td></tr>\n",
       "<tr><td style=\"text-align: left\">Observations</td><td>1011</td><td>537</td></tr><tr><td style=\"text-align: left\">R<sup>2</sup></td><td>0.158</td><td>0.191</td></tr><tr><td style=\"text-align: left\">Adjusted R<sup>2</sup></td><td>0.154</td><td>0.182</td></tr><tr><td style=\"text-align: left\">Residual Std. Error</td><td>0.026 (df=1005)</td><td>0.032 (df=530)</td></tr><tr><td style=\"text-align: left\">F Statistic</td><td>37.789<sup>***</sup> (df=5; 1005)</td><td>20.881<sup>***</sup> (df=6; 530)</td></tr>\n",
       "<tr><td colspan=\"3\" style=\"border-bottom: 1px solid black\"></td></tr><tr><td style=\"text-align: left\">Note:</td><td colspan=\"2\" style=\"text-align: right\"><sup>*</sup>p&lt;0.1; <sup>**</sup>p&lt;0.05; <sup>***</sup>p&lt;0.01</td></tr></table>"
      ],
      "text/plain": [
       "<IPython.core.display.HTML object>"
      ]
     },
     "metadata": {},
     "output_type": "display_data"
    }
   ],
   "source": [
    "# DV Sophistication index, Candidates Only\n",
    "cov_order = ['senate', 'race_competitiveness',\n",
    "             'Democratic', 'third_party', 'log_estimated_cost', \n",
    "             'image', 'Intercept'] \n",
    "\n",
    "stargazer = Stargazer([model1, model2])\n",
    "stargazer.covariate_order(cov_order)\n",
    "stargazer.rename_covariates(rename_labels)\n",
    "display(HTML(stargazer.render_html()))"
   ]
  },
  {
   "cell_type": "code",
   "execution_count": 186,
   "id": "b4324123",
   "metadata": {},
   "outputs": [],
   "source": [
    "# for all sponsors, non-campaign sponsors grouped by race \n",
    "form3 = \"sophistication_index ~ senate + party + group + other_sponsor_type + race_competitiveness \\\n",
    "        + Democratic + third_party + image\"\n",
    "\n",
    "form4 = \"sophistication_index ~ senate + party + group + other_sponsor_type + race_competitiveness \\\n",
    "        + Democratic + third_party + log_estimated_cost \\\n",
    "        + image\"\n",
    "\n",
    "model3 = smf.ols(formula=form3, data=df).fit()\n",
    "model4 = smf.ols(formula=form4, data=df_cost).fit()"
   ]
  },
  {
   "cell_type": "code",
   "execution_count": 187,
   "id": "36a107ad",
   "metadata": {
    "scrolled": true
   },
   "outputs": [
    {
     "data": {
      "text/html": [
       "<table style=\"text-align:center\"><tr><td colspan=\"3\" style=\"border-bottom: 1px solid black\"></td></tr>\n",
       "<tr><td style=\"text-align:left\"></td><td colspan=\"2\"><em>Dependent variable: sophistication_index</em></td></tr><tr><td style=\"text-align:left\"></td><tr><td style=\"text-align:left\"></td><td>(1)</td><td>(2)</td></tr>\n",
       "<tr><td colspan=\"3\" style=\"border-bottom: 1px solid black\"></td></tr>\n",
       "\n",
       "<tr><td style=\"text-align:left\">Senate</td><td>0.004<sup>***</sup></td><td>0.024<sup>***</sup></td></tr>\n",
       "<tr><td style=\"text-align:left\"></td><td>(0.001)</td><td>(0.003)</td></tr>\n",
       "<tr><td style=\"text-align:left\">Party</td><td>-0.008<sup>***</sup></td><td>-0.000<sup></sup></td></tr>\n",
       "<tr><td style=\"text-align:left\"></td><td>(0.001)</td><td>(0.000)</td></tr>\n",
       "<tr><td style=\"text-align:left\">Group</td><td>-0.008<sup>***</sup></td><td>-0.014<sup></sup></td></tr>\n",
       "<tr><td style=\"text-align:left\"></td><td>(0.000)</td><td>(0.015)</td></tr>\n",
       "<tr><td style=\"text-align:left\">Other sponsor type</td><td>-0.005<sup>***</sup></td><td>-0.014<sup>***</sup></td></tr>\n",
       "<tr><td style=\"text-align:left\"></td><td>(0.001)</td><td>(0.005)</td></tr>\n",
       "<tr><td style=\"text-align:left\">Race competitiveness</td><td>0.001<sup>***</sup></td><td>0.004<sup>***</sup></td></tr>\n",
       "<tr><td style=\"text-align:left\"></td><td>(0.000)</td><td>(0.001)</td></tr>\n",
       "<tr><td style=\"text-align:left\">Democratic</td><td>0.001<sup>**</sup></td><td>0.012<sup>***</sup></td></tr>\n",
       "<tr><td style=\"text-align:left\"></td><td>(0.000)</td><td>(0.003)</td></tr>\n",
       "<tr><td style=\"text-align:left\">Third party</td><td>-0.001<sup></sup></td><td>-0.001<sup></sup></td></tr>\n",
       "<tr><td style=\"text-align:left\"></td><td>(0.002)</td><td>(0.011)</td></tr>\n",
       "<tr><td style=\"text-align:left\">TV ad spending (logged)</td><td></td><td>0.001<sup></sup></td></tr>\n",
       "<tr><td style=\"text-align:left\"></td><td></td><td>(0.001)</td></tr>\n",
       "<tr><td style=\"text-align:left\">Image</td><td>0.001<sup></sup></td><td>0.010<sup>***</sup></td></tr>\n",
       "<tr><td style=\"text-align:left\"></td><td>(0.000)</td><td>(0.003)</td></tr>\n",
       "<tr><td style=\"text-align:left\">Intercept</td><td>0.005<sup>***</sup></td><td>-0.021<sup>**</sup></td></tr>\n",
       "<tr><td style=\"text-align:left\"></td><td>(0.001)</td><td>(0.009)</td></tr>\n",
       "\n",
       "<td colspan=\"3\" style=\"border-bottom: 1px solid black\"></td></tr>\n",
       "<tr><td style=\"text-align: left\">Observations</td><td>4480</td><td>593</td></tr><tr><td style=\"text-align: left\">R<sup>2</sup></td><td>0.092</td><td>0.199</td></tr><tr><td style=\"text-align: left\">Adjusted R<sup>2</sup></td><td>0.090</td><td>0.188</td></tr><tr><td style=\"text-align: left\">Residual Std. Error</td><td>0.014 (df=4471)</td><td>0.031 (df=584)</td></tr><tr><td style=\"text-align: left\">F Statistic</td><td>56.627<sup>***</sup> (df=8; 4471)</td><td>18.101<sup>***</sup> (df=8; 584)</td></tr>\n",
       "<tr><td colspan=\"3\" style=\"border-bottom: 1px solid black\"></td></tr><tr><td style=\"text-align: left\">Note:</td><td colspan=\"2\" style=\"text-align: right\"><sup>*</sup>p&lt;0.1; <sup>**</sup>p&lt;0.05; <sup>***</sup>p&lt;0.01</td></tr></table>"
      ],
      "text/plain": [
       "<IPython.core.display.HTML object>"
      ]
     },
     "metadata": {},
     "output_type": "display_data"
    }
   ],
   "source": [
    "# DV Sophistication index, Candidates + non-candidates grouped by race of focus\n",
    "cov_order = ['senate', 'party', 'group', 'other_sponsor_type', 'race_competitiveness',\n",
    "             'Democratic', 'third_party', 'log_estimated_cost', \n",
    "             'image', 'Intercept'] \n",
    "\n",
    "stargazer = Stargazer([model3, model4])\n",
    "stargazer.covariate_order(cov_order)\n",
    "stargazer.rename_covariates(rename_labels)\n",
    "display(HTML(stargazer.render_html()))"
   ]
  },
  {
   "cell_type": "markdown",
   "id": "eb71092a",
   "metadata": {},
   "source": [
    "### Diagnostic plots"
   ]
  },
  {
   "cell_type": "code",
   "execution_count": 101,
   "id": "6709aa9d",
   "metadata": {
    "scrolled": true
   },
   "outputs": [
    {
     "data": {
      "image/png": "[encoded data removed]",
      "text/plain": [
       "<Figure size 640x480 with 7 Axes>"
      ]
     },
     "metadata": {},
     "output_type": "display_data"
    }
   ],
   "source": [
    "fig = sm.graphics.plot_partregress_grid(model2)\n",
    "fig.tight_layout(pad=1.0)"
   ]
  },
  {
   "cell_type": "code",
   "execution_count": 105,
   "id": "a167a76d",
   "metadata": {
    "scrolled": true
   },
   "outputs": [
    {
     "data": {
      "image/png": "[encoded data removed]",
      "text/plain": [
       "<Figure size 640x480 with 9 Axes>"
      ]
     },
     "metadata": {},
     "output_type": "display_data"
    }
   ],
   "source": [
    "fig = sm.graphics.plot_partregress_grid(model1)\n",
    "fig.tight_layout(pad=1.0)"
   ]
  },
  {
   "cell_type": "markdown",
   "id": "50df4756",
   "metadata": {},
   "source": [
    "## Main effects plots"
   ]
  },
  {
   "cell_type": "code",
   "execution_count": 244,
   "id": "502d8202",
   "metadata": {},
   "outputs": [],
   "source": [
    "import matplotlib.pyplot as plt\n",
    "import seaborn as sns\n",
    "import matplotlib.lines as mlines"
   ]
  },
  {
   "cell_type": "code",
   "execution_count": 222,
   "id": "8eab5da4",
   "metadata": {},
   "outputs": [],
   "source": [
    "coefficients1 = model1.params\n",
    "conf1 = model1.conf_int()\n",
    "conf1['coef'] = coefficients1\n",
    "conf1.columns = ['lower', 'upper', 'coef']\n",
    "conf1['model'] = 'Model 1'\n",
    "\n",
    "coefficients2 = model2.params\n",
    "conf2 = model2.conf_int()\n",
    "conf2['coef'] = coefficients2\n",
    "conf2.columns = ['lower', 'upper', 'coef']\n",
    "conf2['model'] = 'Model 2'"
   ]
  },
  {
   "cell_type": "code",
   "execution_count": 223,
   "id": "b1343491",
   "metadata": {
    "scrolled": true
   },
   "outputs": [],
   "source": [
    "conf12 = pd.concat([conf1, conf2])\n",
    "conf12.rename(index=rename_labels, inplace=True)\n",
    "conf12 = conf12[conf12.index != 'Intercept']"
   ]
  },
  {
   "cell_type": "code",
   "execution_count": 225,
   "id": "9fc817d2",
   "metadata": {},
   "outputs": [],
   "source": [
    "# Add offset to separate the models\n",
    "offset = -0.15\n",
    "conf12['y_offset'] = conf12.groupby(conf12.index).cumcount() * offset"
   ]
  },
  {
   "cell_type": "code",
   "execution_count": 226,
   "id": "71f62a33",
   "metadata": {},
   "outputs": [
    {
     "data": {
      "text/plain": [
       "Index(['TV ad spending (logged)', 'Image', 'Third party', 'Democratic',\n",
       "       'Race competitiveness', 'Senate'],\n",
       "      dtype='object')"
      ]
     },
     "execution_count": 226,
     "metadata": {},
     "output_type": "execute_result"
    }
   ],
   "source": [
    "conf12.index.unique()[::-1]"
   ]
  },
  {
   "cell_type": "code",
   "execution_count": 227,
   "id": "ccfbc141",
   "metadata": {
    "scrolled": true
   },
   "outputs": [
    {
     "data": {
      "text/plain": [
       "Int64Index([5, 4, 3, 2, 1, 5, 4, 3, 2, 0, 1], dtype='int64')"
      ]
     },
     "execution_count": 227,
     "metadata": {},
     "output_type": "execute_result"
    }
   ],
   "source": [
    "conf12.index.map(y_steps)"
   ]
  },
  {
   "cell_type": "code",
   "execution_count": 228,
   "id": "ba6a1359",
   "metadata": {},
   "outputs": [
    {
     "data": {
      "text/plain": [
       "['TV ad spending (logged)',\n",
       " 'Image',\n",
       " 'Third party',\n",
       " 'Democratic',\n",
       " 'Race competitiveness',\n",
       " 'Senate']"
      ]
     },
     "execution_count": 228,
     "metadata": {},
     "output_type": "execute_result"
    }
   ],
   "source": [
    "labels = list(conf12.index.unique()[::-1])\n",
    "labels"
   ]
  },
  {
   "cell_type": "code",
   "execution_count": 229,
   "id": "a73f794d",
   "metadata": {},
   "outputs": [
    {
     "data": {
      "text/plain": [
       "{'TV ad spending (logged)': 0,\n",
       " 'Image': 1,\n",
       " 'Third party': 2,\n",
       " 'Democratic': 3,\n",
       " 'Race competitiveness': 4,\n",
       " 'Senate': 5}"
      ]
     },
     "execution_count": 229,
     "metadata": {},
     "output_type": "execute_result"
    }
   ],
   "source": [
    "y_steps = {}\n",
    "for i, label in enumerate(labels):\n",
    "    y_steps[label] = i\n",
    "\n",
    "y_steps"
   ]
  },
  {
   "cell_type": "code",
   "execution_count": 230,
   "id": "80e5c51b",
   "metadata": {},
   "outputs": [],
   "source": [
    "conf12['y_step'] = conf12.index.map(y_steps)"
   ]
  },
  {
   "cell_type": "code",
   "execution_count": 248,
   "id": "45f37f65",
   "metadata": {
    "scrolled": true
   },
   "outputs": [
    {
     "data": {
      "text/plain": [
       "<Figure size 1000x800 with 0 Axes>"
      ]
     },
     "metadata": {},
     "output_type": "display_data"
    },
    {
     "data": {
      "image/png": "[encoded data removed]",
      "text/plain": [
       "<Figure size 640x480 with 1 Axes>"
      ]
     },
     "metadata": {},
     "output_type": "display_data"
    }
   ],
   "source": [
    "# Plotting\n",
    "plt.figure(figsize=(10, 8))\n",
    "fig, ax = plt.subplots()\n",
    "\n",
    "colors=['black', 'gray']\n",
    "\n",
    "for i, model in enumerate(conf12.model.unique()):\n",
    "    curr_coef = conf12[conf12.model == model]\n",
    "    ax.errorbar(y=curr_coef['y_offset'] + curr_coef['y_step'], \n",
    "                 x=curr_coef['coef'], \n",
    "                 xerr=(curr_coef['upper'] - curr_coef['lower']) / 2, \n",
    "                 fmt='o', \n",
    "                 color=colors[i])\n",
    "\n",
    "    \n",
    "\n",
    "# Create legend\n",
    "handle1 = mlines.Line2D([], [], color='black', linestyle='-', marker='o', markersize=4, label='Model 1')\n",
    "handle2 = mlines.Line2D([], [], color='gray', linestyle='-', marker='o', markersize=4, label='Model 2')\n",
    "ax.legend(handles=[handle1, handle2], loc='best')\n",
    "\n",
    "# Format yticks labels and other labels\n",
    "plt.yticks(ticks=range(len(labels)), labels=labels)\n",
    "plt.title('')\n",
    "plt.ylabel('Predictor')\n",
    "plt.xlabel('Coefficient')\n",
    "plt.axvline(0, color='grey', linestyle='--')\n",
    "plt.show()\n"
   ]
  },
  {
   "cell_type": "code",
   "execution_count": 256,
   "id": "6d67cb46",
   "metadata": {},
   "outputs": [],
   "source": [
    "def plot_coefficents(m1, m2, offset=-0.15):\n",
    "    '''\n",
    "      Inputs: \n",
    "          m1, m2: two OLS regression models\n",
    "    '''\n",
    "    coefficients1 = m1.params\n",
    "    conf1 = m1.conf_int()\n",
    "    conf1['coef'] = coefficients1\n",
    "    conf1.columns = ['lower', 'upper', 'coef']\n",
    "    conf1['model'] = 'Model 1'\n",
    "\n",
    "    coefficients2 = m2.params\n",
    "    conf2 = m2.conf_int()\n",
    "    conf2['coef'] = coefficients2\n",
    "    conf2.columns = ['lower', 'upper', 'coef']\n",
    "    conf2['model'] = 'Model 2'\n",
    "    \n",
    "    conf12 = pd.concat([conf1, conf2])\n",
    "    conf12.rename(index=rename_labels, inplace=True)\n",
    "    conf12 = conf12[conf12.index != 'Intercept']\n",
    "    \n",
    "    # Add offset to separate the models\n",
    "    conf12['y_offset'] = conf12.groupby(conf12.index).cumcount() * offset\n",
    "    \n",
    "    labels = list(conf12.index.unique()[::-1])\n",
    "\n",
    "    y_steps = {}\n",
    "    for i, label in enumerate(labels):\n",
    "        y_steps[label] = i\n",
    "\n",
    "    conf12['y_step'] = conf12.index.map(y_steps)\n",
    "    \n",
    "    # Plotting\n",
    "    plt.figure(figsize=(10, 8))\n",
    "    fig, ax = plt.subplots()\n",
    "\n",
    "    colors=['black', 'gray']\n",
    "\n",
    "    for i, model in enumerate(conf12.model.unique()):\n",
    "        curr_coef = conf12[conf12.model == model]\n",
    "        ax.errorbar(y=curr_coef['y_offset'] + curr_coef['y_step'], \n",
    "                     x=curr_coef['coef'], \n",
    "                     xerr=(curr_coef['upper'] - curr_coef['lower']) / 2, \n",
    "                     fmt='o', \n",
    "                     color=colors[i])\n",
    "\n",
    "\n",
    "\n",
    "    # Create legend\n",
    "    handle1 = mlines.Line2D([], [], color='black', linestyle='-', marker='o', markersize=4, label='Model 1')\n",
    "    handle2 = mlines.Line2D([], [], color='gray', linestyle='-', marker='o', markersize=4, label='Model 2')\n",
    "    ax.legend(handles=[handle1, handle2], loc='best')\n",
    "\n",
    "    # Format yticks labels and other labels\n",
    "    plt.yticks(ticks=range(len(labels)), labels=labels)\n",
    "    plt.title('')\n",
    "    plt.ylabel('Predictor')\n",
    "    plt.xlabel('Coefficient')\n",
    "    plt.axvline(0, color='grey', linestyle='--')\n",
    "    plt.show()"
   ]
  },
  {
   "cell_type": "code",
   "execution_count": 257,
   "id": "f149ec81",
   "metadata": {
    "scrolled": true
   },
   "outputs": [
    {
     "data": {
      "text/plain": [
       "<Figure size 1000x800 with 0 Axes>"
      ]
     },
     "metadata": {},
     "output_type": "display_data"
    },
    {
     "data": {
      "image/png": "[encoded data removed]",
      "text/plain": [
       "<Figure size 640x480 with 1 Axes>"
      ]
     },
     "metadata": {},
     "output_type": "display_data"
    }
   ],
   "source": [
    "plot_coefficents(model1, model2)"
   ]
  },
  {
   "cell_type": "code",
   "execution_count": 258,
   "id": "93a332fa",
   "metadata": {
    "scrolled": true
   },
   "outputs": [
    {
     "data": {
      "text/plain": [
       "<Figure size 1000x800 with 0 Axes>"
      ]
     },
     "metadata": {},
     "output_type": "display_data"
    },
    {
     "data": {
      "image/png": "[encoded data removed]",
      "text/plain": [
       "<Figure size 640x480 with 1 Axes>"
      ]
     },
     "metadata": {},
     "output_type": "display_data"
    }
   ],
   "source": [
    "plot_coefficents(model3, model4,offset=-0.25)"
   ]
  },
  {
   "cell_type": "markdown",
   "id": "8e9bf2bc",
   "metadata": {},
   "source": [
    "**Legacy**"
   ]
  },
  {
   "cell_type": "code",
   "execution_count": 126,
   "id": "7fedd9eb",
   "metadata": {},
   "outputs": [],
   "source": [
    "# for a single model\n",
    "def plot_coefs(model, rename_dict, title=''):\n",
    "    coefficients = model.params\n",
    "    conf = model.conf_int()\n",
    "    conf['coef'] = coefficients\n",
    "    conf.columns = ['2.5%', '97.5%', 'coef']\n",
    "    conf = conf.rename(index=rename_dict)\n",
    "    conf = conf[conf.index != 'Intercept']\n",
    "    \n",
    "    # Plotting\n",
    "    plt.figure(figsize=(8, 6))\n",
    "    sns.pointplot(y=conf.index, x='coef', data=conf, join=False, ci=None, color='black')\n",
    "    plt.errorbar(y=conf.index, x=conf['coef'], xerr=(conf['97.5%'] - conf['2.5%']) / 2, fmt='o', color='black')\n",
    "\n",
    "    plt.title(title)\n",
    "    plt.ylabel('Predictor')\n",
    "    plt.xlabel('Coefficient')\n",
    "    plt.axvline(0, color='grey', linestyle='--')\n",
    "    plt.show()"
   ]
  },
  {
   "cell_type": "code",
   "execution_count": 133,
   "id": "74c610af",
   "metadata": {
    "scrolled": true
   },
   "outputs": [
    {
     "name": "stderr",
     "output_type": "stream",
     "text": [
      "/tmp/ipykernel_25073/3338089615.py:11: FutureWarning: \n",
      "\n",
      "The `ci` parameter is deprecated. Use `errorbar=None` for the same effect.\n",
      "\n",
      "  sns.pointplot(y=conf.index, x='coef', data=conf, join=False, ci=None, color='black')\n"
     ]
    },
    {
     "data": {
      "image/png": "[encoded data removed]",
      "text/plain": [
       "<Figure size 800x600 with 1 Axes>"
      ]
     },
     "metadata": {},
     "output_type": "display_data"
    }
   ],
   "source": [
    "plot_coefs(model1, rename_labels)"
   ]
  },
  {
   "cell_type": "code",
   "execution_count": null,
   "id": "00e2f7a1",
   "metadata": {},
   "outputs": [],
   "source": []
  }
 ],
 "metadata": {
  "kernelspec": {
   "display_name": "Python 3 (ipykernel)",
   "language": "python",
   "name": "python3"
  },
  "language_info": {
   "codemirror_mode": {
    "name": "ipython",
    "version": 3
   },
   "file_extension": ".py",
   "mimetype": "text/x-python",
   "name": "python",
   "nbconvert_exporter": "python",
   "pygments_lexer": "ipython3",
   "version": "3.11.4"
  }
 },
 "nbformat": 4,
 "nbformat_minor": 5
}
