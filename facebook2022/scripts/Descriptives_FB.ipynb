{
 "cells": [
  {
   "cell_type": "code",
   "execution_count": 1,
   "id": "f1557991",
   "metadata": {},
   "outputs": [],
   "source": [
    "import os\n",
    "import numpy as np\n",
    "import pandas as pd\n",
    "import matplotlib.pyplot as plt\n",
    "import seaborn as sns"
   ]
  },
  {
   "cell_type": "code",
   "execution_count": 2,
   "id": "c8bc7f87",
   "metadata": {},
   "outputs": [],
   "source": [
    "source_path = '../../../fb_2022'"
   ]
  },
  {
   "cell_type": "code",
   "execution_count": 3,
   "id": "b3703973",
   "metadata": {
    "scrolled": true
   },
   "outputs": [
    {
     "name": "stderr",
     "output_type": "stream",
     "text": [
      "/tmp/ipykernel_4762/1101205232.py:1: DtypeWarning: Columns (4) have mixed types. Specify dtype option on import or set low_memory=False.\n",
      "  var = pd.read_csv(os.path.join(source_path, 'fb_2022_adid_var_sets_072124.csv.gz'))\n"
     ]
    }
   ],
   "source": [
    "var = pd.read_csv(os.path.join(source_path, 'fb_2022_adid_var_sets_072124.csv.gz'))"
   ]
  },
  {
   "cell_type": "code",
   "execution_count": 4,
   "id": "c5762587",
   "metadata": {},
   "outputs": [],
   "source": [
    "# Set3\n",
    "var = var.loc[var.set3 == 1]"
   ]
  },
  {
   "cell_type": "code",
   "execution_count": 5,
   "id": "7571a155",
   "metadata": {},
   "outputs": [],
   "source": [
    "text = pd.read_csv(os.path.join(source_path, 'fb_2022_adid_text.csv.gz'))"
   ]
  },
  {
   "cell_type": "code",
   "execution_count": 6,
   "id": "842f2e34",
   "metadata": {},
   "outputs": [],
   "source": [
    "var = var.merge(text, how='left', on='ad_id')"
   ]
  },
  {
   "cell_type": "code",
   "execution_count": 8,
   "id": "906c5b1c",
   "metadata": {
    "scrolled": true
   },
   "outputs": [
    {
     "data": {
      "text/plain": [
       "Index(['ad_id', 'page_id', 'ad_creation_time', 'ad_delivery_start_time',\n",
       "       'ad_delivery_stop_time', 'spend', 'impressions', 'region_distribution',\n",
       "       'demographic_distribution', 'publisher_platforms', 'potential_reach',\n",
       "       'from_pd_id', 'wmp_media_type', 'aws_face_vid', 'aws_face_img',\n",
       "       'sub_bucket', 'race_of_focus', 'race_of_focus_region_pct',\n",
       "       'ad_tone_constructed', 'ad_tone_mentionbased', 'goal_DONATE_prediction',\n",
       "       'goal_DONATE_predicted_prob', 'goal_CONTACT_prediction',\n",
       "       'goal_CONTACT_predicted_prob', 'goal_PURCHASE_prediction',\n",
       "       'goal_PURCHASE_predicted_prob', 'goal_GOTV_prediction',\n",
       "       'goal_GOTV_predicted_prob', 'goal_EVENT_prediction',\n",
       "       'goal_EVENT_predicted_prob', 'goal_POLL_prediction',\n",
       "       'goal_POLL_predicted_prob', 'goal_GATHERINFO_prediction',\n",
       "       'goal_GATHERINFO_predicted_prob', 'goal_LEARNMORE_prediction',\n",
       "       'goal_LEARNMORE_predicted_prob', 'goal_PRIMARY_PERSUADE_prediction',\n",
       "       'goal_PRIMARY_PERSUADE_predicted_prob', 'goal_highest_prob',\n",
       "       'party_all_clf_pdid', 'prob_dem', 'prob_other', 'prob_rep',\n",
       "       'party_all_clf_adid', 'party_all_clf_adid_agg', 'detected_entities',\n",
       "       'detected_entities_federal', 'attacklike1_bert_pred',\n",
       "       'attacklike1_bert_prob', 'attacklike2_bert_pred',\n",
       "       'attacklike2_bert_prob', 'attacklike3_bert_pred',\n",
       "       'attacklike_senti_pred', 'attacklike_senti_prob',\n",
       "       'ABSA_number_of_mentions', 'ABSA_detected_entities',\n",
       "       'ABSA_predicted_sentiment_agg', 'issue_field', 'issue_class',\n",
       "       'aws_face', 'aws_face_federal', 'combined_entities_federal',\n",
       "       'federal_verified', 'pd_id', 'federal_cd', 'federal_cdpty',\n",
       "       'wmp_spontype', 'wmp_office', 'party_all', 'set3', 'set3b', 'set4',\n",
       "       'set4b', 'page_name', 'disclaimer', 'ad_creative_body',\n",
       "       'ad_creative_bodies', 'ad_snapshot_url', 'ad_creative_link_caption',\n",
       "       'ad_creative_link_captions', 'ad_creative_link_title',\n",
       "       'ad_creative_link_titles', 'ad_creative_link_description',\n",
       "       'ad_creative_link_descriptions', 'google_asr_text', 'google_asr_status',\n",
       "       'aws_ocr_text_img', 'aws_status_img', 'aws_ocr_text_vid',\n",
       "       'aws_status_vid', 'product_brand', 'product_name',\n",
       "       'product_description'],\n",
       "      dtype='object')"
      ]
     },
     "execution_count": 8,
     "metadata": {},
     "output_type": "execute_result"
    }
   ],
   "source": [
    "var.columns"
   ]
  },
  {
   "cell_type": "code",
   "execution_count": null,
   "id": "7d3efe50",
   "metadata": {},
   "outputs": [],
   "source": []
  },
  {
   "cell_type": "code",
   "execution_count": 10,
   "id": "aa7026a2",
   "metadata": {},
   "outputs": [],
   "source": [
    "'''''\n",
    "Regression table: WMP Set 3 (sponsor-media level)\n",
    "'''''\n",
    "df = pd.read_csv(\"../input_data/fb_regression_table_for_descriptives.csv\")"
   ]
  },
  {
   "cell_type": "code",
   "execution_count": 11,
   "id": "6728f72f",
   "metadata": {},
   "outputs": [
    {
     "data": {
      "text/plain": [
       "Index(['pd_id', 'wmp_media_type', 'cid', 'num_unique', 'AverageSimilarity',\n",
       "       'std', 'log_estimated_cost', 'race_competitiveness', 'image', 'party',\n",
       "       'group', 'other_sponsor_type', 'Democratic', 'third_party', 'senate',\n",
       "       'candidate'],\n",
       "      dtype='object')"
      ]
     },
     "execution_count": 11,
     "metadata": {},
     "output_type": "execute_result"
    }
   ],
   "source": [
    "df.columns"
   ]
  },
  {
   "cell_type": "code",
   "execution_count": 12,
   "id": "8d026c14",
   "metadata": {},
   "outputs": [
    {
     "data": {
      "text/plain": [
       "2218"
      ]
     },
     "execution_count": 12,
     "metadata": {},
     "output_type": "execute_result"
    }
   ],
   "source": [
    "len(df.pd_id.unique()) # All unique sponsors"
   ]
  },
  {
   "cell_type": "code",
   "execution_count": 13,
   "id": "95ba427d",
   "metadata": {},
   "outputs": [
    {
     "data": {
      "text/plain": [
       "333"
      ]
     },
     "execution_count": 13,
     "metadata": {},
     "output_type": "execute_result"
    }
   ],
   "source": [
    "len(df.dropna(subset='log_estimated_cost').pd_id.unique()) # Number of sponsors who invested in TV ads"
   ]
  },
  {
   "cell_type": "code",
   "execution_count": 14,
   "id": "291bc220",
   "metadata": {},
   "outputs": [
    {
     "name": "stdout",
     "output_type": "stream",
     "text": [
      "(1017, 16)\n"
     ]
    }
   ],
   "source": [
    "df_cand = df[df.candidate == 1]\n",
    "print(df_cand.shape)"
   ]
  },
  {
   "cell_type": "code",
   "execution_count": 16,
   "id": "84731ae1",
   "metadata": {},
   "outputs": [
    {
     "data": {
      "text/plain": [
       "0.8039394839422309"
      ]
     },
     "execution_count": 16,
     "metadata": {},
     "output_type": "execute_result"
    }
   ],
   "source": [
    "df.AverageSimilarity.mean()"
   ]
  },
  {
   "cell_type": "code",
   "execution_count": 17,
   "id": "fa79dda5",
   "metadata": {
    "scrolled": true
   },
   "outputs": [
    {
     "data": {
      "image/png": "[encoded data removed]",
      "text/plain": [
       "<Figure size 640x480 with 1 Axes>"
      ]
     },
     "metadata": {},
     "output_type": "display_data"
    }
   ],
   "source": [
    "# DV\n",
    "sns.set_theme(style='ticks', palette=\"tab10\")\n",
    "\n",
    "g = sns.histplot(df.AverageSimilarity, kde=True, bins=40, color='gray', line_kws={'color': 'gray'})\n",
    "\n",
    "g.set(title='Distribution of average pairwise similarity at the race-sponsor-media level\\n\\nMeta', xlabel='Average similarity')\n",
    "g.title.set_size(10)"
   ]
  },
  {
   "cell_type": "code",
   "execution_count": 18,
   "id": "ead8b1b2",
   "metadata": {
    "scrolled": true
   },
   "outputs": [
    {
     "data": {
      "image/png": "[encoded data removed]",
      "text/plain": [
       "<Figure size 640x480 with 1 Axes>"
      ]
     },
     "metadata": {},
     "output_type": "display_data"
    }
   ],
   "source": [
    "g = sns.histplot(df_cand.AverageSimilarity, kde=True, bins=40, color='gray')\n",
    "\n",
    "g.set(title='Distribution of average pairwise similarity at the sponsor-media level\\nCandidates', xlabel='Average similarity')\n",
    "g.title.set_size(10)"
   ]
  },
  {
   "cell_type": "code",
   "execution_count": 19,
   "id": "f0dec12d",
   "metadata": {},
   "outputs": [],
   "source": [
    "df = df.merge(var[['pd_id', 'page_name', 'disclaimer']].drop_duplicates(), how='left', on='pd_id')"
   ]
  },
  {
   "cell_type": "code",
   "execution_count": 20,
   "id": "1f3266e1",
   "metadata": {},
   "outputs": [
    {
     "data": {
      "text/plain": [
       "0.8033912443313223"
      ]
     },
     "execution_count": 20,
     "metadata": {},
     "output_type": "execute_result"
    }
   ],
   "source": [
    "df.AverageSimilarity.mean()"
   ]
  },
  {
   "cell_type": "code",
   "execution_count": 21,
   "id": "094e9c16",
   "metadata": {},
   "outputs": [],
   "source": [
    "df_agg = df.groupby(['pd_id']).agg({'page_name': 'first', 'disclaimer': 'first', 'num_unique': 'sum'}).reset_index() "
   ]
  },
  {
   "cell_type": "code",
   "execution_count": 22,
   "id": "7acbcb09",
   "metadata": {},
   "outputs": [
    {
     "data": {
      "text/plain": [
       "13.32506762849414"
      ]
     },
     "execution_count": 22,
     "metadata": {},
     "output_type": "execute_result"
    }
   ],
   "source": [
    "df_agg.num_unique.mean()"
   ]
  },
  {
   "cell_type": "code",
   "execution_count": 23,
   "id": "f16698eb",
   "metadata": {},
   "outputs": [
    {
     "data": {
      "text/plain": [
       "5.0"
      ]
     },
     "execution_count": 23,
     "metadata": {},
     "output_type": "execute_result"
    }
   ],
   "source": [
    "df_agg.num_unique.median()"
   ]
  },
  {
   "cell_type": "code",
   "execution_count": 24,
   "id": "35ebf2f2",
   "metadata": {
    "scrolled": true
   },
   "outputs": [
    {
     "data": {
      "text/html": [
       "<div>\n",
       "<style scoped>\n",
       "    .dataframe tbody tr th:only-of-type {\n",
       "        vertical-align: middle;\n",
       "    }\n",
       "\n",
       "    .dataframe tbody tr th {\n",
       "        vertical-align: top;\n",
       "    }\n",
       "\n",
       "    .dataframe thead th {\n",
       "        text-align: right;\n",
       "    }\n",
       "</style>\n",
       "<table border=\"1\" class=\"dataframe\">\n",
       "  <thead>\n",
       "    <tr style=\"text-align: right;\">\n",
       "      <th></th>\n",
       "      <th>pd_id</th>\n",
       "      <th>page_name</th>\n",
       "      <th>disclaimer</th>\n",
       "      <th>num_unique</th>\n",
       "    </tr>\n",
       "  </thead>\n",
       "  <tbody>\n",
       "    <tr>\n",
       "      <th>935</th>\n",
       "      <td>pd-1155212867963791-2</td>\n",
       "      <td>AFP Action</td>\n",
       "      <td>AMERICANS FOR PROSPERITY ACTION, INC.(AFP ACTION)</td>\n",
       "      <td>759</td>\n",
       "    </tr>\n",
       "    <tr>\n",
       "      <th>1954</th>\n",
       "      <td>pd-57495285387-2</td>\n",
       "      <td>Michael Bennet</td>\n",
       "      <td>Bennet for Colorado</td>\n",
       "      <td>758</td>\n",
       "    </tr>\n",
       "    <tr>\n",
       "      <th>2084</th>\n",
       "      <td>pd-747436915270894-3</td>\n",
       "      <td>Congressional Leadership Fund</td>\n",
       "      <td>CONGRESSIONAL LEADERSHIP FUND</td>\n",
       "      <td>455</td>\n",
       "    </tr>\n",
       "    <tr>\n",
       "      <th>732</th>\n",
       "      <td>pd-109111900634787-2</td>\n",
       "      <td>Reverend Raphael Warnock</td>\n",
       "      <td>WARNOCK FOR GEORGIA</td>\n",
       "      <td>446</td>\n",
       "    </tr>\n",
       "    <tr>\n",
       "      <th>1401</th>\n",
       "      <td>pd-197908256931216-7</td>\n",
       "      <td>Tim Ryan</td>\n",
       "      <td>TIM RYAN FOR OHIO</td>\n",
       "      <td>412</td>\n",
       "    </tr>\n",
       "    <tr>\n",
       "      <th>1517</th>\n",
       "      <td>pd-228754857151053-1</td>\n",
       "      <td>House Majority PAC</td>\n",
       "      <td>House Majority PAC</td>\n",
       "      <td>388</td>\n",
       "    </tr>\n",
       "    <tr>\n",
       "      <th>576</th>\n",
       "      <td>pd-106612915352436-1</td>\n",
       "      <td>Mary Peltola</td>\n",
       "      <td>Mary Peltola for Congress</td>\n",
       "      <td>330</td>\n",
       "    </tr>\n",
       "    <tr>\n",
       "      <th>1589</th>\n",
       "      <td>pd-261792742524-8</td>\n",
       "      <td>1199SEIU United Healthcare Workers East</td>\n",
       "      <td>1199 SERVICE EMPLOYEES INT'L UNION FEDERAL POL...</td>\n",
       "      <td>272</td>\n",
       "    </tr>\n",
       "    <tr>\n",
       "      <th>1231</th>\n",
       "      <td>pd-163148530407080-2</td>\n",
       "      <td>Captain Mark Kelly</td>\n",
       "      <td>MARK KELLY FOR SENATE</td>\n",
       "      <td>229</td>\n",
       "    </tr>\n",
       "    <tr>\n",
       "      <th>1559</th>\n",
       "      <td>pd-245711905631405-6</td>\n",
       "      <td>Jeff Jackson</td>\n",
       "      <td>JEFF JACKSON FOR CONGRESS</td>\n",
       "      <td>221</td>\n",
       "    </tr>\n",
       "    <tr>\n",
       "      <th>2178</th>\n",
       "      <td>pd-92021268117-2</td>\n",
       "      <td>Working America</td>\n",
       "      <td>Working America</td>\n",
       "      <td>217</td>\n",
       "    </tr>\n",
       "    <tr>\n",
       "      <th>2186</th>\n",
       "      <td>pd-933921763326425-2</td>\n",
       "      <td>Catherine Cortez Masto</td>\n",
       "      <td>CATHERINE CORTEZ-MASTO FOR SENATE</td>\n",
       "      <td>207</td>\n",
       "    </tr>\n",
       "    <tr>\n",
       "      <th>1351</th>\n",
       "      <td>pd-187594818048424-4</td>\n",
       "      <td>Mandela Barnes</td>\n",
       "      <td>Mandela Barnes for Wisconsin</td>\n",
       "      <td>205</td>\n",
       "    </tr>\n",
       "    <tr>\n",
       "      <th>1185</th>\n",
       "      <td>pd-1576552839287418-1</td>\n",
       "      <td>Senate Leadership Fund</td>\n",
       "      <td>Senate Leadership Fund</td>\n",
       "      <td>199</td>\n",
       "    </tr>\n",
       "    <tr>\n",
       "      <th>1234</th>\n",
       "      <td>pd-1640974916008350-2</td>\n",
       "      <td>LIBRE Action</td>\n",
       "      <td>AMERICANS FOR PROSPERITY ACTION, INC.(AFP ACTION)</td>\n",
       "      <td>194</td>\n",
       "    </tr>\n",
       "    <tr>\n",
       "      <th>731</th>\n",
       "      <td>pd-109092142462587-3</td>\n",
       "      <td>Adam Schiff</td>\n",
       "      <td>SCHIFF FOR CONGRESS</td>\n",
       "      <td>192</td>\n",
       "    </tr>\n",
       "    <tr>\n",
       "      <th>1967</th>\n",
       "      <td>pd-58736997707-4</td>\n",
       "      <td>Marco Rubio</td>\n",
       "      <td>Marco Rubio for Senate</td>\n",
       "      <td>191</td>\n",
       "    </tr>\n",
       "    <tr>\n",
       "      <th>1050</th>\n",
       "      <td>pd-1354622541311687-3</td>\n",
       "      <td>Dr. Kim Schrier</td>\n",
       "      <td>DR KIM SCHRIER FOR CONGRESS</td>\n",
       "      <td>183</td>\n",
       "    </tr>\n",
       "    <tr>\n",
       "      <th>1042</th>\n",
       "      <td>pd-134498556891640-4</td>\n",
       "      <td>Val Demings</td>\n",
       "      <td>Val Demings for U.S. Senate</td>\n",
       "      <td>182</td>\n",
       "    </tr>\n",
       "    <tr>\n",
       "      <th>1834</th>\n",
       "      <td>pd-428821014132730-4</td>\n",
       "      <td>Katie Porter</td>\n",
       "      <td>Katie Porter For Congress</td>\n",
       "      <td>179</td>\n",
       "    </tr>\n",
       "    <tr>\n",
       "      <th>1232</th>\n",
       "      <td>pd-1632814840319802-2</td>\n",
       "      <td>John Fetterman</td>\n",
       "      <td>Fetterman for PA</td>\n",
       "      <td>150</td>\n",
       "    </tr>\n",
       "    <tr>\n",
       "      <th>1578</th>\n",
       "      <td>pd-25852730092-6</td>\n",
       "      <td>Care2</td>\n",
       "      <td>Care2.com, Inc</td>\n",
       "      <td>144</td>\n",
       "    </tr>\n",
       "    <tr>\n",
       "      <th>1476</th>\n",
       "      <td>pd-215968684159-2</td>\n",
       "      <td>AFT - American Federation of Teachers</td>\n",
       "      <td>American Federation of Teachers</td>\n",
       "      <td>143</td>\n",
       "    </tr>\n",
       "    <tr>\n",
       "      <th>1751</th>\n",
       "      <td>pd-355046634513837-1</td>\n",
       "      <td>Jay Chen</td>\n",
       "      <td>JAY CHEN FOR CONGRESS</td>\n",
       "      <td>139</td>\n",
       "    </tr>\n",
       "    <tr>\n",
       "      <th>1490</th>\n",
       "      <td>pd-221672224659507-3</td>\n",
       "      <td>Seth Magaziner</td>\n",
       "      <td>MAGAZINER FOR CONGRESS</td>\n",
       "      <td>136</td>\n",
       "    </tr>\n",
       "    <tr>\n",
       "      <th>125</th>\n",
       "      <td>pd-101165966152-1</td>\n",
       "      <td>AFL-CIO</td>\n",
       "      <td>AFL-CIO</td>\n",
       "      <td>133</td>\n",
       "    </tr>\n",
       "    <tr>\n",
       "      <th>1732</th>\n",
       "      <td>pd-345378512258813-2</td>\n",
       "      <td>Elise Stefanik</td>\n",
       "      <td>ELISE FOR CONGRESS</td>\n",
       "      <td>132</td>\n",
       "    </tr>\n",
       "    <tr>\n",
       "      <th>1456</th>\n",
       "      <td>pd-2116141045107743-5</td>\n",
       "      <td>Mike Garcia for Congress</td>\n",
       "      <td>MIKE GARCIA FOR CONGRESS</td>\n",
       "      <td>128</td>\n",
       "    </tr>\n",
       "    <tr>\n",
       "      <th>1507</th>\n",
       "      <td>pd-22561081832-7</td>\n",
       "      <td>NRA Institute for Legislative Action</td>\n",
       "      <td>National Rifle Association Institute for Legis...</td>\n",
       "      <td>126</td>\n",
       "    </tr>\n",
       "    <tr>\n",
       "      <th>1647</th>\n",
       "      <td>pd-294793907203877-1</td>\n",
       "      <td>Liz Mathis</td>\n",
       "      <td>Liz Mathis for Congress</td>\n",
       "      <td>122</td>\n",
       "    </tr>\n",
       "    <tr>\n",
       "      <th>1020</th>\n",
       "      <td>pd-1316372698453411-2</td>\n",
       "      <td>Alexandria Ocasio-Cortez</td>\n",
       "      <td>Alexandria Ocasio-Cortez for Congress</td>\n",
       "      <td>119</td>\n",
       "    </tr>\n",
       "    <tr>\n",
       "      <th>716</th>\n",
       "      <td>pd-108840621533552-1</td>\n",
       "      <td>Matt Castelli</td>\n",
       "      <td>CASTELLI FOR CONGRESS</td>\n",
       "      <td>117</td>\n",
       "    </tr>\n",
       "    <tr>\n",
       "      <th>1043</th>\n",
       "      <td>pd-134535726580904-1</td>\n",
       "      <td>Maggie Hassan</td>\n",
       "      <td>Maggie for NH</td>\n",
       "      <td>112</td>\n",
       "    </tr>\n",
       "    <tr>\n",
       "      <th>448</th>\n",
       "      <td>pd-1049573471767276-2</td>\n",
       "      <td>The Guardian Fund</td>\n",
       "      <td>THE GUARDIAN FUND</td>\n",
       "      <td>110</td>\n",
       "    </tr>\n",
       "    <tr>\n",
       "      <th>2113</th>\n",
       "      <td>pd-80892038525-3</td>\n",
       "      <td>Ohio Democratic Party</td>\n",
       "      <td>OHIO DEMOCRATIC PARTY</td>\n",
       "      <td>108</td>\n",
       "    </tr>\n",
       "    <tr>\n",
       "      <th>879</th>\n",
       "      <td>pd-112325855474892-5</td>\n",
       "      <td>Speak Up For Education and Kids</td>\n",
       "      <td>National Education Association</td>\n",
       "      <td>106</td>\n",
       "    </tr>\n",
       "    <tr>\n",
       "      <th>1743</th>\n",
       "      <td>pd-350692761610088-4</td>\n",
       "      <td>Matt Cartwright</td>\n",
       "      <td>CARTWRIGHT FOR CONGRESS</td>\n",
       "      <td>98</td>\n",
       "    </tr>\n",
       "    <tr>\n",
       "      <th>326</th>\n",
       "      <td>pd-103510721077820-3</td>\n",
       "      <td>Christina Bohannan for Iowa</td>\n",
       "      <td>Christina Bohannan for Congress</td>\n",
       "      <td>97</td>\n",
       "    </tr>\n",
       "    <tr>\n",
       "      <th>1441</th>\n",
       "      <td>pd-20787991568-3</td>\n",
       "      <td>Senate Democrats</td>\n",
       "      <td>DSCC</td>\n",
       "      <td>93</td>\n",
       "    </tr>\n",
       "    <tr>\n",
       "      <th>1117</th>\n",
       "      <td>pd-1483977658578577-3</td>\n",
       "      <td>Jasmine Beach-Ferrara</td>\n",
       "      <td>JASMINE BEACH-FERRARA FOR CONGRESS</td>\n",
       "      <td>89</td>\n",
       "    </tr>\n",
       "  </tbody>\n",
       "</table>\n",
       "</div>"
      ],
      "text/plain": [
       "                      pd_id                                page_name  \\\n",
       "935   pd-1155212867963791-2                               AFP Action   \n",
       "1954       pd-57495285387-2                           Michael Bennet   \n",
       "2084   pd-747436915270894-3            Congressional Leadership Fund   \n",
       "732    pd-109111900634787-2                 Reverend Raphael Warnock   \n",
       "1401   pd-197908256931216-7                                 Tim Ryan   \n",
       "1517   pd-228754857151053-1                       House Majority PAC   \n",
       "576    pd-106612915352436-1                             Mary Peltola   \n",
       "1589      pd-261792742524-8  1199SEIU United Healthcare Workers East   \n",
       "1231   pd-163148530407080-2                       Captain Mark Kelly   \n",
       "1559   pd-245711905631405-6                             Jeff Jackson   \n",
       "2178       pd-92021268117-2                          Working America   \n",
       "2186   pd-933921763326425-2                   Catherine Cortez Masto   \n",
       "1351   pd-187594818048424-4                           Mandela Barnes   \n",
       "1185  pd-1576552839287418-1                   Senate Leadership Fund   \n",
       "1234  pd-1640974916008350-2                             LIBRE Action   \n",
       "731    pd-109092142462587-3                              Adam Schiff   \n",
       "1967       pd-58736997707-4                              Marco Rubio   \n",
       "1050  pd-1354622541311687-3                          Dr. Kim Schrier   \n",
       "1042   pd-134498556891640-4                              Val Demings   \n",
       "1834   pd-428821014132730-4                             Katie Porter   \n",
       "1232  pd-1632814840319802-2                           John Fetterman   \n",
       "1578       pd-25852730092-6                                    Care2   \n",
       "1476      pd-215968684159-2    AFT - American Federation of Teachers   \n",
       "1751   pd-355046634513837-1                                 Jay Chen   \n",
       "1490   pd-221672224659507-3                           Seth Magaziner   \n",
       "125       pd-101165966152-1                                  AFL-CIO   \n",
       "1732   pd-345378512258813-2                           Elise Stefanik   \n",
       "1456  pd-2116141045107743-5                 Mike Garcia for Congress   \n",
       "1507       pd-22561081832-7     NRA Institute for Legislative Action   \n",
       "1647   pd-294793907203877-1                               Liz Mathis   \n",
       "1020  pd-1316372698453411-2                 Alexandria Ocasio-Cortez   \n",
       "716    pd-108840621533552-1                            Matt Castelli   \n",
       "1043   pd-134535726580904-1                            Maggie Hassan   \n",
       "448   pd-1049573471767276-2                        The Guardian Fund   \n",
       "2113       pd-80892038525-3                    Ohio Democratic Party   \n",
       "879    pd-112325855474892-5          Speak Up For Education and Kids   \n",
       "1743   pd-350692761610088-4                          Matt Cartwright   \n",
       "326    pd-103510721077820-3              Christina Bohannan for Iowa   \n",
       "1441       pd-20787991568-3                         Senate Democrats   \n",
       "1117  pd-1483977658578577-3                    Jasmine Beach-Ferrara   \n",
       "\n",
       "                                             disclaimer  num_unique  \n",
       "935   AMERICANS FOR PROSPERITY ACTION, INC.(AFP ACTION)         759  \n",
       "1954                                Bennet for Colorado         758  \n",
       "2084                      CONGRESSIONAL LEADERSHIP FUND         455  \n",
       "732                                 WARNOCK FOR GEORGIA         446  \n",
       "1401                                  TIM RYAN FOR OHIO         412  \n",
       "1517                                 House Majority PAC         388  \n",
       "576                           Mary Peltola for Congress         330  \n",
       "1589  1199 SERVICE EMPLOYEES INT'L UNION FEDERAL POL...         272  \n",
       "1231                              MARK KELLY FOR SENATE         229  \n",
       "1559                          JEFF JACKSON FOR CONGRESS         221  \n",
       "2178                                    Working America         217  \n",
       "2186                  CATHERINE CORTEZ-MASTO FOR SENATE         207  \n",
       "1351                       Mandela Barnes for Wisconsin         205  \n",
       "1185                             Senate Leadership Fund         199  \n",
       "1234  AMERICANS FOR PROSPERITY ACTION, INC.(AFP ACTION)         194  \n",
       "731                                 SCHIFF FOR CONGRESS         192  \n",
       "1967                             Marco Rubio for Senate         191  \n",
       "1050                        DR KIM SCHRIER FOR CONGRESS         183  \n",
       "1042                        Val Demings for U.S. Senate         182  \n",
       "1834                          Katie Porter For Congress         179  \n",
       "1232                                   Fetterman for PA         150  \n",
       "1578                                     Care2.com, Inc         144  \n",
       "1476                    American Federation of Teachers         143  \n",
       "1751                              JAY CHEN FOR CONGRESS         139  \n",
       "1490                             MAGAZINER FOR CONGRESS         136  \n",
       "125                                             AFL-CIO         133  \n",
       "1732                                 ELISE FOR CONGRESS         132  \n",
       "1456                           MIKE GARCIA FOR CONGRESS         128  \n",
       "1507  National Rifle Association Institute for Legis...         126  \n",
       "1647                            Liz Mathis for Congress         122  \n",
       "1020              Alexandria Ocasio-Cortez for Congress         119  \n",
       "716                               CASTELLI FOR CONGRESS         117  \n",
       "1043                                      Maggie for NH         112  \n",
       "448                                   THE GUARDIAN FUND         110  \n",
       "2113                              OHIO DEMOCRATIC PARTY         108  \n",
       "879                      National Education Association         106  \n",
       "1743                            CARTWRIGHT FOR CONGRESS          98  \n",
       "326                     Christina Bohannan for Congress          97  \n",
       "1441                                               DSCC          93  \n",
       "1117                 JASMINE BEACH-FERRARA FOR CONGRESS          89  "
      ]
     },
     "execution_count": 24,
     "metadata": {},
     "output_type": "execute_result"
    }
   ],
   "source": [
    "df_agg.sort_values(by='num_unique', ascending=False).head(40)"
   ]
  },
  {
   "cell_type": "code",
   "execution_count": 25,
   "id": "d8b4bfbe",
   "metadata": {
    "scrolled": true
   },
   "outputs": [
    {
     "data": {
      "text/plain": [
       "(0.0, 100.0)"
      ]
     },
     "execution_count": 25,
     "metadata": {},
     "output_type": "execute_result"
    },
    {
     "data": {
      "image/png": "[encoded data removed]",
      "text/plain": [
       "<Figure size 640x480 with 1 Axes>"
      ]
     },
     "metadata": {},
     "output_type": "display_data"
    }
   ],
   "source": [
    "# aggregated num_unique histogram (sponsor level)\n",
    "g = sns.histplot(df_agg.num_unique, kde=True, bins=200, color='gray')\n",
    "g.set(title='Number of unique creatives at the sponsor level\\n\\nMeta', xlabel='')\n",
    "plt.xlim((0, 100))"
   ]
  },
  {
   "cell_type": "markdown",
   "id": "32db7c1b",
   "metadata": {},
   "source": [
    "## Table to display in the draft"
   ]
  },
  {
   "cell_type": "code",
   "execution_count": 26,
   "id": "ca9c6557",
   "metadata": {},
   "outputs": [],
   "source": [
    "from IPython.display import display, HTML"
   ]
  },
  {
   "cell_type": "code",
   "execution_count": 27,
   "id": "5d5645de",
   "metadata": {},
   "outputs": [
    {
     "data": {
      "text/plain": [
       "(1043, 18)"
      ]
     },
     "execution_count": 27,
     "metadata": {},
     "output_type": "execute_result"
    }
   ],
   "source": [
    "df_cand = df[df.candidate == 1]\n",
    "df_cand.shape"
   ]
  },
  {
   "cell_type": "code",
   "execution_count": 28,
   "id": "3a07fd0d",
   "metadata": {},
   "outputs": [
    {
     "name": "stderr",
     "output_type": "stream",
     "text": [
      "/tmp/ipykernel_4762/2828349845.py:1: SettingWithCopyWarning: \n",
      "A value is trying to be set on a copy of a slice from a DataFrame.\n",
      "Try using .loc[row_indexer,col_indexer] = value instead\n",
      "\n",
      "See the caveats in the documentation: https://pandas.pydata.org/pandas-docs/stable/user_guide/indexing.html#returning-a-view-versus-a-copy\n",
      "  df_cand[\"sponsor\"] = df_cand.disclaimer.str.upper()\n"
     ]
    }
   ],
   "source": [
    "df_cand[\"sponsor\"] = df_cand.disclaimer.str.upper()"
   ]
  },
  {
   "cell_type": "code",
   "execution_count": 29,
   "id": "32cf7637",
   "metadata": {},
   "outputs": [],
   "source": [
    "def create_sophistication_index(input_df):\n",
    "    max_ = input_df.num_unique.max()\n",
    "    min_ = input_df.num_unique.min()\n",
    "    input_df['num_unique_normalized'] = (input_df.num_unique - min_)/(max_ - min_)\n",
    "    input_df['sophistication_index'] = input_df['num_unique_normalized'] * (1 - input_df.AverageSimilarity)\n",
    "    return input_df"
   ]
  },
  {
   "cell_type": "code",
   "execution_count": 30,
   "id": "a5d6674d",
   "metadata": {},
   "outputs": [
    {
     "name": "stderr",
     "output_type": "stream",
     "text": [
      "/tmp/ipykernel_4762/1499460830.py:4: SettingWithCopyWarning: \n",
      "A value is trying to be set on a copy of a slice from a DataFrame.\n",
      "Try using .loc[row_indexer,col_indexer] = value instead\n",
      "\n",
      "See the caveats in the documentation: https://pandas.pydata.org/pandas-docs/stable/user_guide/indexing.html#returning-a-view-versus-a-copy\n",
      "  input_df['num_unique_normalized'] = (input_df.num_unique - min_)/(max_ - min_)\n",
      "/tmp/ipykernel_4762/1499460830.py:5: SettingWithCopyWarning: \n",
      "A value is trying to be set on a copy of a slice from a DataFrame.\n",
      "Try using .loc[row_indexer,col_indexer] = value instead\n",
      "\n",
      "See the caveats in the documentation: https://pandas.pydata.org/pandas-docs/stable/user_guide/indexing.html#returning-a-view-versus-a-copy\n",
      "  input_df['sophistication_index'] = input_df['num_unique_normalized'] * (1 - input_df.AverageSimilarity)\n"
     ]
    }
   ],
   "source": [
    "df_cand = create_sophistication_index(df_cand)"
   ]
  },
  {
   "cell_type": "code",
   "execution_count": 31,
   "id": "d2fa9878",
   "metadata": {},
   "outputs": [
    {
     "name": "stderr",
     "output_type": "stream",
     "text": [
      "/tmp/ipykernel_4762/2166566794.py:1: SettingWithCopyWarning: \n",
      "A value is trying to be set on a copy of a slice from a DataFrame\n",
      "\n",
      "See the caveats in the documentation: https://pandas.pydata.org/pandas-docs/stable/user_guide/indexing.html#returning-a-view-versus-a-copy\n",
      "  df_cand.drop_duplicates(inplace=True)\n"
     ]
    }
   ],
   "source": [
    "df_cand.drop_duplicates(inplace=True)"
   ]
  },
  {
   "cell_type": "code",
   "execution_count": 32,
   "id": "dbf74bb2",
   "metadata": {
    "scrolled": true
   },
   "outputs": [
    {
     "name": "stderr",
     "output_type": "stream",
     "text": [
      "/tmp/ipykernel_4762/1694024906.py:1: SettingWithCopyWarning: \n",
      "A value is trying to be set on a copy of a slice from a DataFrame.\n",
      "Try using .loc[row_indexer,col_indexer] = value instead\n",
      "\n",
      "See the caveats in the documentation: https://pandas.pydata.org/pandas-docs/stable/user_guide/indexing.html#returning-a-view-versus-a-copy\n",
      "  df_cand['sponsor'] = df_cand.sponsor.str.title()\n",
      "/tmp/ipykernel_4762/1694024906.py:2: SettingWithCopyWarning: \n",
      "A value is trying to be set on a copy of a slice from a DataFrame.\n",
      "Try using .loc[row_indexer,col_indexer] = value instead\n",
      "\n",
      "See the caveats in the documentation: https://pandas.pydata.org/pandas-docs/stable/user_guide/indexing.html#returning-a-view-versus-a-copy\n",
      "  df_cand['wmp_media_type'] = df_cand.wmp_media_type.str.title()\n",
      "/tmp/ipykernel_4762/1694024906.py:3: SettingWithCopyWarning: \n",
      "A value is trying to be set on a copy of a slice from a DataFrame.\n",
      "Try using .loc[row_indexer,col_indexer] = value instead\n",
      "\n",
      "See the caveats in the documentation: https://pandas.pydata.org/pandas-docs/stable/user_guide/indexing.html#returning-a-view-versus-a-copy\n",
      "  df_cand['AverageSimilarity'] = df_cand.AverageSimilarity.round(3)\n",
      "/tmp/ipykernel_4762/1694024906.py:4: SettingWithCopyWarning: \n",
      "A value is trying to be set on a copy of a slice from a DataFrame.\n",
      "Try using .loc[row_indexer,col_indexer] = value instead\n",
      "\n",
      "See the caveats in the documentation: https://pandas.pydata.org/pandas-docs/stable/user_guide/indexing.html#returning-a-view-versus-a-copy\n",
      "  df_cand['sophistication_index'] = df_cand.sophistication_index.round(3)\n"
     ]
    }
   ],
   "source": [
    "df_cand['sponsor'] = df_cand.sponsor.str.title()\n",
    "df_cand['wmp_media_type'] = df_cand.wmp_media_type.str.title()\n",
    "df_cand['AverageSimilarity'] = df_cand.AverageSimilarity.round(3)\n",
    "df_cand['sophistication_index'] = df_cand.sophistication_index.round(3)"
   ]
  },
  {
   "cell_type": "code",
   "execution_count": 34,
   "id": "4ed9a6f1",
   "metadata": {
    "scrolled": true
   },
   "outputs": [
    {
     "data": {
      "text/html": [
       "<table border=\"1\" class=\"dataframe\">\n",
       "  <thead>\n",
       "    <tr style=\"text-align: right;\">\n",
       "      <th>Sponsor</th>\n",
       "      <th>Sophistication index</th>\n",
       "      <th>Media type</th>\n",
       "      <th>Unique creatives</th>\n",
       "      <th>Average text similarity</th>\n",
       "    </tr>\n",
       "  </thead>\n",
       "  <tbody>\n",
       "    <tr>\n",
       "      <td>Warnock For Georgia</td>\n",
       "      <td>0.305</td>\n",
       "      <td>Image</td>\n",
       "      <td>273</td>\n",
       "      <td>0.695</td>\n",
       "    </tr>\n",
       "    <tr>\n",
       "      <td>Bennet For Colorado</td>\n",
       "      <td>0.237</td>\n",
       "      <td>Image</td>\n",
       "      <td>239</td>\n",
       "      <td>0.729</td>\n",
       "    </tr>\n",
       "    <tr>\n",
       "      <td>Warnock For Georgia</td>\n",
       "      <td>0.226</td>\n",
       "      <td>Video</td>\n",
       "      <td>152</td>\n",
       "      <td>0.591</td>\n",
       "    </tr>\n",
       "    <tr>\n",
       "      <td>Jeff Jackson For Congress</td>\n",
       "      <td>0.195</td>\n",
       "      <td>Image</td>\n",
       "      <td>166</td>\n",
       "      <td>0.679</td>\n",
       "    </tr>\n",
       "    <tr>\n",
       "      <td>Mark Kelly For Senate</td>\n",
       "      <td>0.169</td>\n",
       "      <td>Image</td>\n",
       "      <td>123</td>\n",
       "      <td>0.622</td>\n",
       "    </tr>\n",
       "    <tr>\n",
       "      <td>Schiff For Congress</td>\n",
       "      <td>0.166</td>\n",
       "      <td>Image</td>\n",
       "      <td>148</td>\n",
       "      <td>0.691</td>\n",
       "    </tr>\n",
       "    <tr>\n",
       "      <td>Tim Ryan For Ohio</td>\n",
       "      <td>0.165</td>\n",
       "      <td>Video</td>\n",
       "      <td>112</td>\n",
       "      <td>0.592</td>\n",
       "    </tr>\n",
       "    <tr>\n",
       "      <td>Jay Chen For Congress</td>\n",
       "      <td>0.143</td>\n",
       "      <td>Image</td>\n",
       "      <td>94</td>\n",
       "      <td>0.580</td>\n",
       "    </tr>\n",
       "    <tr>\n",
       "      <td>Marco Rubio For Senate</td>\n",
       "      <td>0.135</td>\n",
       "      <td>Image</td>\n",
       "      <td>118</td>\n",
       "      <td>0.686</td>\n",
       "    </tr>\n",
       "    <tr>\n",
       "      <td>Mark Kelly For Senate</td>\n",
       "      <td>0.133</td>\n",
       "      <td>Image, Video</td>\n",
       "      <td>85</td>\n",
       "      <td>0.567</td>\n",
       "    </tr>\n",
       "    <tr>\n",
       "      <td>Kansans For Laturner</td>\n",
       "      <td>0.131</td>\n",
       "      <td>Image</td>\n",
       "      <td>68</td>\n",
       "      <td>0.462</td>\n",
       "    </tr>\n",
       "    <tr>\n",
       "      <td>Bennet For Colorado</td>\n",
       "      <td>0.124</td>\n",
       "      <td>Video</td>\n",
       "      <td>113</td>\n",
       "      <td>0.697</td>\n",
       "    </tr>\n",
       "    <tr>\n",
       "      <td>Mandela Barnes For Wisconsin</td>\n",
       "      <td>0.123</td>\n",
       "      <td>Image</td>\n",
       "      <td>118</td>\n",
       "      <td>0.713</td>\n",
       "    </tr>\n",
       "    <tr>\n",
       "      <td>Elise For Congress</td>\n",
       "      <td>0.120</td>\n",
       "      <td>Image</td>\n",
       "      <td>106</td>\n",
       "      <td>0.687</td>\n",
       "    </tr>\n",
       "    <tr>\n",
       "      <td>Mike Garcia For Congress</td>\n",
       "      <td>0.115</td>\n",
       "      <td>Image</td>\n",
       "      <td>117</td>\n",
       "      <td>0.729</td>\n",
       "    </tr>\n",
       "    <tr>\n",
       "      <td>Fetterman For Pa</td>\n",
       "      <td>0.112</td>\n",
       "      <td>Video</td>\n",
       "      <td>74</td>\n",
       "      <td>0.579</td>\n",
       "    </tr>\n",
       "    <tr>\n",
       "      <td>Katie Porter For Congress</td>\n",
       "      <td>0.112</td>\n",
       "      <td>Image</td>\n",
       "      <td>107</td>\n",
       "      <td>0.711</td>\n",
       "    </tr>\n",
       "    <tr>\n",
       "      <td>Dr Kim Schrier For Congress</td>\n",
       "      <td>0.108</td>\n",
       "      <td>Image</td>\n",
       "      <td>156</td>\n",
       "      <td>0.809</td>\n",
       "    </tr>\n",
       "    <tr>\n",
       "      <td>Catherine Cortez-Masto For Senate</td>\n",
       "      <td>0.106</td>\n",
       "      <td>Image</td>\n",
       "      <td>84</td>\n",
       "      <td>0.650</td>\n",
       "    </tr>\n",
       "    <tr>\n",
       "      <td>Castelli For Congress</td>\n",
       "      <td>0.104</td>\n",
       "      <td>Image</td>\n",
       "      <td>84</td>\n",
       "      <td>0.657</td>\n",
       "    </tr>\n",
       "  </tbody>\n",
       "</table>"
      ],
      "text/plain": [
       "<IPython.core.display.HTML object>"
      ]
     },
     "metadata": {},
     "output_type": "display_data"
    }
   ],
   "source": [
    "cols2display = ['sponsor', 'sophistication_index', 'wmp_media_type', 'num_unique', 'AverageSimilarity']\n",
    "\n",
    "rename_dict = {'sponsor': 'Sponsor', 'sophistication_index': 'Sophistication index',\n",
    "              'wmp_media_type': 'Media type', 'num_unique': 'Unique creatives', \n",
    "               'AverageSimilarity': 'Average text similarity'}\n",
    "\n",
    "display_df = df_cand[cols2display].sort_values(by='sophistication_index', ascending=False).drop_duplicates().head(20)\n",
    "\n",
    "display_df.rename(columns=rename_dict, inplace=True)\n",
    "\n",
    "display(HTML(display_df.to_html(index=False)))"
   ]
  },
  {
   "cell_type": "code",
   "execution_count": null,
   "id": "e718b019",
   "metadata": {},
   "outputs": [],
   "source": []
  }
 ],
 "metadata": {
  "kernelspec": {
   "display_name": "Python 3 (ipykernel)",
   "language": "python",
   "name": "python3"
  },
  "language_info": {
   "codemirror_mode": {
    "name": "ipython",
    "version": 3
   },
   "file_extension": ".py",
   "mimetype": "text/x-python",
   "name": "python",
   "nbconvert_exporter": "python",
   "pygments_lexer": "ipython3",
   "version": "3.11.4"
  }
 },
 "nbformat": 4,
 "nbformat_minor": 5
}
